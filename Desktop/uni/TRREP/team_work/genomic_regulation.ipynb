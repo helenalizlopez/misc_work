{
 "cells": [
  {
   "cell_type": "markdown",
   "metadata": {
    "lang": "en"
   },
   "source": [
    "# Genomic Regulation"
   ]
  },
  {
   "cell_type": "markdown",
   "metadata": {},
   "source": [
    "## Get chr16 CTCF segments\n",
    "\n",
    "Get the *chr16* segments which share the same state between both monocyte replicates."
   ]
  },
  {
   "cell_type": "markdown",
   "metadata": {},
   "source": [
    "### Test files"
   ]
  },
  {
   "cell_type": "code",
   "execution_count": 84,
   "metadata": {},
   "outputs": [
    {
     "name": "stdout",
     "output_type": "stream",
     "text": [
      "Monocyte 1 segments.bed\n",
      "chr16\t60400\t61400\tE9\n",
      "chr16\t72600\t72800\tE9\n",
      "chr16\t115200\t116000\tE9\n",
      "chr16\t146400\t147400\tE9\n",
      "chr16\t156600\t157600\tE9\n",
      "chr16\t167800\t168200\tE9\n",
      "chr16\t232200\t232400\tE9\n",
      "chr16\t412000\t412600\tE9\n",
      "chr16\t441800\t442200\tE9\n",
      "chr16\t486400\t486800\tE9\n",
      "chr16\t537600\t538000\tE9\n",
      "chr16\t597000\t597600\tE9\n",
      "chr16\t629000\t629400\tE9\n",
      "chr16\t661000\t661600\tE9\n",
      "chr16\t710800\t711200\tE9\n",
      "chr16\t711600\t711800\tE9\n",
      "chr16\t736200\t736400\tE9\n",
      "chr16\t761200\t763200\tE9\n",
      "chr16\t835400\t836200\tE9\n",
      "chr16\t1019400\t1019600\tE9\n",
      "      20 monocyte1_segments.bed\n",
      "Monocyte 2 segments.bed\n",
      "chr16\t60400\t61400\tE9\n",
      "chr16\t72400\t72800\tE9\n",
      "chr16\t115000\t116400\tE9\n",
      "chr16\t146600\t147400\tE9\n",
      "chr16\t155400\t158200\tE9\n",
      "chr16\t167800\t168800\tE9\n",
      "chr16\t231800\t232200\tE9\n",
      "chr16\t309000\t309200\tE9\n",
      "chr16\t353600\t354200\tE9\n",
      "chr16\t402200\t403200\tE9\n",
      "chr16\t412000\t412800\tE9\n",
      "chr16\t441800\t442200\tE9\n",
      "chr16\t508200\t508400\tE9\n",
      "chr16\t537400\t538200\tE9\n",
      "chr16\t596600\t597400\tE9\n",
      "chr16\t627800\t630600\tE9\n",
      "chr16\t660800\t661800\tE9\n",
      "chr16\t710800\t711800\tE9\n",
      "chr16\t717400\t718200\tE9\n",
      "chr16\t735800\t736800\tE9\n",
      "      20 monocyte2_segments.bed\n"
     ]
    }
   ],
   "source": [
    "%%bash\n",
    "# Obtain files for test\n",
    "cd RESULTS/Modelo_11_estados\n",
    "cat Monocyte1_11_Master_11_segments.bed | grep 'chr16' | grep 'E9' | sort -k 2,3 -h | head -n 20 > monocyte1_segments.bed\n",
    "cat Monocyte2_11_Master_11_segments.bed | grep 'chr16' | grep 'E9' | sort -k 2,3 -h | head -n 20 > monocyte2_segments.bed\n",
    "echo \"Monocyte 1 segments.bed\"\n",
    "cat monocyte1_segments.bed\n",
    "wc -l monocyte1_segments.bed\n",
    "echo \"Monocyte 2 segments.bed\"\n",
    "cat monocyte2_segments.bed\n",
    "wc -l monocyte2_segments.bed"
   ]
  },
  {
   "cell_type": "code",
   "execution_count": 432,
   "metadata": {},
   "outputs": [
    {
     "name": "stdout",
     "output_type": "stream",
     "text": [
      "Overwriting files/test_tracks/bed1.bed\n"
     ]
    }
   ],
   "source": [
    "%%writefile files/test_tracks/bed1.bed\n",
    "chr16\t60400\t61400\tE9\n",
    "chr16\t72600\t72800\tE9\n",
    "chr16\t115200\t116000\tE9\n",
    "chr16\t146400\t147400\tE9\n",
    "chr16\t156600\t157600\tE9\n",
    "chr16\t167800\t168200\tE9\n",
    "chr16\t232200\t232400\tE9\n",
    "chr16\t412000\t412600\tE9\n",
    "chr16\t441800\t442200\tE9\n",
    "chr16\t486400\t486800\tE9\n",
    "chr16\t537600\t538000\tE9\n",
    "chr16\t597000\t597600\tE9\n",
    "chr16\t629000\t629400\tE9\n",
    "chr16\t661000\t661600\tE9\n",
    "chr16\t710800\t711200\tE9\n",
    "chr16\t711600\t711800\tE9\n",
    "chr16\t736200\t736400\tE9\n",
    "chr16\t761200\t763200\tE9\n",
    "chr16\t835400\t836200\tE9\n",
    "chr16\t1019400\t1019600\tE9"
   ]
  },
  {
   "cell_type": "code",
   "execution_count": 272,
   "metadata": {},
   "outputs": [
    {
     "name": "stdout",
     "output_type": "stream",
     "text": [
      "Writing files/test_tracks/bed2.bed\n"
     ]
    }
   ],
   "source": [
    "%%writefile files/test_tracks/bed2.bed\n",
    "chr16\t60400\t61400\tE9\n",
    "chr16\t72400\t72800\tE9\n",
    "chr16\t115000\t116400\tE9\n",
    "chr16\t146600\t147400\tE9\n",
    "chr16\t146610\t147400\tE8\n",
    "chr16\t155400\t158200\tE9\n",
    "chr16\t167800\t168800\tE9\n",
    "chr16\t231800\t232200\tE9\n",
    "chr16\t309000\t309200\tE9\n",
    "chr16\t353600\t354200\tE9\n",
    "chr16\t402200\t403200\tE9\n",
    "chr16\t412000\t412800\tE9\n",
    "chr16\t441800\t442200\tE9\n",
    "chr16\t508200\t508400\tE9\n",
    "chr16\t537400\t538200\tE9\n",
    "chr16\t596600\t597400\tE9\n",
    "chr16\t596700\t597400\tE8\n",
    "chr16\t596700\t597400\tE8\n",
    "chr16\t627800\t630600\tE9\n",
    "chr16\t660800\t661800\tE9\n",
    "chr16\t710800\t711800\tE9\n",
    "chr16\t717400\t718200\tE9\n",
    "chr16\t735800\t736800\tE9"
   ]
  },
  {
   "cell_type": "code",
   "execution_count": 431,
   "metadata": {},
   "outputs": [
    {
     "name": "stdout",
     "output_type": "stream",
     "text": [
      "Overwriting files/test_tracks/dnase1.peaks.bed\n"
     ]
    }
   ],
   "source": [
    "%%writefile files/test_tracks/dnase1.peaks.bed\n",
    "chr1\t770942\t771278\tchr1.9\t584\t.\t0.039\t1.79\t-1\t151\n",
    "chr1\t771678\t771933\tchr1.10\t568\t.\t0.0343\t1.56\t-1\t121\n",
    "chr1\t773279\t773398\tchr1.11\t555\t.\t0.0303\t1.38\t-1\t49\n",
    "chr1\t777497\t777598\tchr1.12\t553\t.\t0.0299\t1.36\t-1\t46\n",
    "chr1\t794051\t794336\tchr1.13\t569\t.\t0.0344\t1.57\t-1\t152\n",
    "chr1\t800514\t800667\tchr1.14\t549\t.\t0.0287\t 1.3\t-1\t34\n",
    "chr1\t805004\t805656\tchr1.15\t1000\t.\t0.3561\t16\t-1\t286\n",
    "chr16\t72620\t73427\tchr16.6\t1000\t.\t0.2652\t12.5\t-1\t256\n",
    "chr16\t74047\t74486\tchr16.7\t687\t.\t0.069\t 3.2\t-1\t213"
   ]
  },
  {
   "cell_type": "markdown",
   "metadata": {},
   "source": [
    "### Methods"
   ]
  },
  {
   "cell_type": "code",
   "execution_count": 317,
   "metadata": {},
   "outputs": [],
   "source": [
    "import re as re\n",
    "\n",
    "def head(path, filename, lines=20):\n",
    "    \"\"\"\n",
    "    \"\"\"\n",
    "    i = 0\n",
    "    file = open(path + \"/\" + filename, \"r\")\n",
    "    for line in file:\n",
    "        print(line.strip())\n",
    "        i += 1\n",
    "        if i > lines:\n",
    "            break\n",
    "    file.close()\n",
    "\n",
    "def get_parts(bed_line, sep='\\t'):\n",
    "    \"\"\"\n",
    "    \"\"\"\n",
    "    bed_line_parts = bed_line.rstrip('\\n').split(sep)\n",
    "    return bed_line_parts[0], int(bed_line_parts[1]), int(bed_line_parts[2]), bed_line_parts[3]\n",
    "\n",
    "def concat_parts(chrom, start, end, feature, sep='\\t'):\n",
    "    \"\"\"\n",
    "    \"\"\"\n",
    "    bed_line = chrom + '\\t' + str(start) +  '\\t' + str(end) + '\\t' + feature + '\\n'\n",
    "    return bed_line\n",
    "\n",
    "def bed_coverage(path, filename, sep='\\t'):\n",
    "    \"\"\"\n",
    "    Returns the acummulated length of all the segments of the bed file filename\n",
    "    \"\"\"\n",
    "    i = 0\n",
    "    file = open(path + \"/\" + filename, \"r\")\n",
    "    coverage = 0 \n",
    "    for line in file:\n",
    "        _ , f1_segment_start, f1_segment_end, _ = get_parts(line)\n",
    "        coverage += f1_segment_end + f1_segment_start\n",
    "    file.close()\n",
    "    return coverage\n",
    "\n",
    "def bed_segment_count_by_re_feature(path, filename, re_feature, sep='\\t'):\n",
    "    \"\"\"\n",
    "    Returns the segment count by feature name of the bed file filename. \n",
    "    The feature is informed as a regexp\n",
    "    \"\"\"\n",
    "    i = 0\n",
    "    file = open(path + \"/\" + filename, \"r\")\n",
    "    segment_count = 0 \n",
    "    for line in file:\n",
    "        _ , _, _, segment_feature = get_parts(line)\n",
    "        if re.search(re_feature, segment_feature):\n",
    "            segment_count += 1\n",
    "    file.close()\n",
    "    return segment_count\n",
    "\n",
    "def intersect_bed(input_dir, input_file1, input_file2, output_dir, output_file, chrom=\"chr16\", \n",
    "                  f1_feature_filter=\"E9\", f2_feature_filter=\"E9\", output_feature=\"E9\", sep='\\t',\n",
    "                  drop_feature_threshold=20, output_mode=\"intersect\"):  \n",
    "    \"\"\"\n",
    "    If output node is intersect, returns the intersected bed segments\n",
    "    If output mode is annotate, returns all the segments of input_file1 \n",
    "    annotated if it's the case with the feature defined in input_file2.\n",
    "    \"\"\"\n",
    "    f1_segments = open(input_dir + \"/\" + input_file1, \"r\")\n",
    "    f2_segments = open(input_dir + \"/\" + input_file2, \"r\")\n",
    "    output_segments = open(output_dir + \"/\" + output_file, \"w\")\n",
    "    f1_segment = f1_segments.readline()\n",
    "    f2_segment = f2_segments.readline()\n",
    "    while(f1_segment != \"\" and f2_segment != \"\"):\n",
    "        f1_chrom, f1_segment_start, f1_segment_end, f1_feature = get_parts(f1_segment)\n",
    "        f2_chrom, f2_segment_start, f2_segment_end, f2_feature = get_parts(f2_segment)\n",
    "        # Filter f1 and read f1\n",
    "        if f1_chrom != chrom or (f1_feature_filter != \"\" and f1_feature != f1_feature_filter):\n",
    "            f1_segment = f1_segments.readline()\n",
    "        # Filter f2 and read f2\n",
    "        elif f2_chrom != chrom or (f2_feature_filter != \"\" and f2_feature != f2_feature_filter):\n",
    "            f2_segment = f2_segments.readline()\n",
    "        # f2 segment downstream f1 segment\n",
    "        elif f2_segment_start > f1_segment_end:\n",
    "            if output_mode == \"annotate\" and drop_feature_threshold < f1_segment_end - f1_segment_start:\n",
    "                output_segment = concat_parts(chrom, f1_segment_start, f1_segment_end, f1_feature)\n",
    "                output_segments.write(output_segment)\n",
    "            f1_segment = f1_segments.readline() \n",
    "        # f1 segment downstream f2 segment\n",
    "        elif f1_segment_start > f2_segment_end:\n",
    "            f2_segment = f2_segments.readline()\n",
    "        else: # Overlap\n",
    "            # Save intersect\n",
    "            if output_mode == \"intersect\":\n",
    "                output_start = max(f1_segment_start, f2_segment_start)\n",
    "                output_end =  min(f2_segment_end, f1_segment_end)\n",
    "                if drop_feature_threshold < output_end - output_start:\n",
    "                    output_segment = concat_parts(chrom, output_start, output_end, output_feature)\n",
    "                    output_segments.write(output_segment)\n",
    "                # Advance f1\n",
    "                if f2_segment_end >= f1_segment_end:\n",
    "                    f1_segment = f1_segments.readline()\n",
    "                # Advance f2\n",
    "                elif f1_segment_end > f2_segment_end:\n",
    "                    f2_segment = f2_segments.readline()\n",
    "            # Annotate mode: save f1, advance f1, advance f2\n",
    "            else: \n",
    "                feature = f1_feature + \"+\" + output_feature\n",
    "                if drop_feature_threshold < f1_segment_end - f1_segment_start:\n",
    "                    output_segment = concat_parts(chrom, f1_segment_start, f1_segment_end, feature)\n",
    "                    output_segments.write(output_segment)\n",
    "                f1_segment = f1_segments.readline()\n",
    "                f2_segment = f2_segments.readline()\n",
    "    while(output_mode == \"annotate\" and f1_segment != \"\"):\n",
    "        output_segments.write(f1_segment)\n",
    "        f1_segment = f1_segments.readline()\n",
    "        \n",
    "    f1_segments.close()\n",
    "    f2_segments.close()\n",
    "    output_segments.close()\n"
   ]
  },
  {
   "cell_type": "markdown",
   "metadata": {},
   "source": [
    "### Tests"
   ]
  },
  {
   "cell_type": "code",
   "execution_count": 425,
   "metadata": {},
   "outputs": [
    {
     "name": "stdout",
     "output_type": "stream",
     "text": [
      "chr16\t210\t250\toutput_feature\n",
      "chr16\t305\t320\toutput_feature\n",
      "Threshold 0\n",
      "Result [['chr16', '210', '250', 'output_feature'], ['chr16', '305', '320', 'output_feature']]\n",
      "Expected result [['chr16', '210', '250', 'output_feature'], ['chr16', '305', '320', 'output_feature']]\n",
      " \n",
      "Passed All 12 Test\n"
     ]
    }
   ],
   "source": [
    "TEST_PATH = \"files/test_tracks\"\n",
    "F1_FILE_TEST = \"test1.bed\"\n",
    "F2_FILE_TEST = \"test2.bed\"\n",
    "FILE_OUTPUT_TEST = \"test_result.bed\"\n",
    "CHROM = \"chr16\"\n",
    "SEP = '\\t'\n",
    "DROP = 0\n",
    "\n",
    "failed = 0\n",
    "passed = 0\n",
    "launched = 0\n",
    "\n",
    "def create_testfile(segments, test_path, test_file):\n",
    "    \"\"\"\n",
    "    \"\"\"\n",
    "    output_segments = open(test_path + \"/\" + test_file, \"w\")\n",
    "    for segment in segments:\n",
    "        output_segment = concat_parts(segment[0], segment[1], segment[2], segment[3])\n",
    "        output_segments.write(output_segment)\n",
    "    output_segments.close()\n",
    "\n",
    "def read_testfile(test_path, test_file):\n",
    "    \"\"\"\n",
    "    \"\"\"\n",
    "    file_segments = open(test_path + \"/\" + test_file, \"r\")\n",
    "    segments = []\n",
    "    segment = file_segments.readline()\n",
    "    while(segment != \"\"):\n",
    "        chrom, segment_start, segment_end, feature = get_parts(segment)\n",
    "        segments.append([chrom, str(segment_start), str(segment_end), feature])\n",
    "        segment = file_segments.readline()\n",
    "    file_segments.close()\n",
    "    return segments\n",
    "\n",
    "def do_test(test_number, segments_1, segments_2, test_expected_result, \n",
    "            verbose=True, mode=\"intersect\", output_feature=\"output_feature\",\n",
    "            test_path=TEST_PATH, f1_file_test=F1_FILE_TEST, f2_file_test=F2_FILE_TEST,\n",
    "            file_output_test=FILE_OUTPUT_TEST, \n",
    "            chrom=CHROM, f1_feature_filter=\"\", f2_feature_filter=\"\",\n",
    "            drop_feature_threshold=DROP):\n",
    "    global failed, passed, launched\n",
    "    try:\n",
    "        launched += 1\n",
    "        create_testfile(segments_1, test_path, f1_file_test)\n",
    "        create_testfile(segments_2, test_path, f2_file_test)\n",
    "        intersect_bed(test_path, f1_file_test, f2_file_test, test_path, \n",
    "                        file_output_test, chrom=chrom, \n",
    "                        f1_feature_filter=f1_feature_filter, f2_feature_filter=f2_feature_filter, \n",
    "                        output_feature=output_feature, \n",
    "                        sep=SEP, drop_feature_threshold=drop_feature_threshold, output_mode=mode)\n",
    "        if verbose: head(test_path, file_output_test, 20)\n",
    "        output_segments = read_testfile(test_path, file_output_test)\n",
    "        if verbose: print(\"Threshold\", drop_feature_threshold)\n",
    "        if verbose: print(\"Result\", output_segments)\n",
    "        if verbose: print(\"Expected result\", test_expected_result)\n",
    "        assert output_segments == test_expected_result, \"Unexpected segments\"\n",
    "        passed += 1\n",
    "    except AssertionError:\n",
    "        print (\"Failed test %s: Result:\\n %s\\nExpected result:\\n %s\\n\"\n",
    "               % (test_number, output_segments, test_expected_result))\n",
    "        failed += 1\n",
    "        exit(1)\n",
    "\n",
    "# Test 1\n",
    "segments_1 = [[\"chr16\",\"0\",\"100\", \"A\"],\n",
    "              [\"chr16\",\"200\",\"210\", \"A\"]]\n",
    "segments_2 = [[\"chr16\",\"10\",\"50\", \"B\"]]\n",
    "test_expected_result = [[\"chr16\",\"10\",\"50\", \"output_feature\"]]\n",
    "do_test(1, segments_1, segments_2, test_expected_result, False)\n",
    "\n",
    "# Test 2\n",
    "test_expected_result = [[\"chr16\",\"0\",\"100\", \"A+output_feature\"],\n",
    "                        [\"chr16\",\"200\",\"210\", \"A\"]]\n",
    "do_test(2, segments_1, segments_2, test_expected_result, False, \"annotate\")\n",
    "\n",
    "# Test 3\n",
    "segments_1 = [[\"chr16\",\"0\",\"100\", \"A\"],\n",
    "              [\"chr16\",\"200\",\"210\", \"A\"]]\n",
    "segments_2 = [[\"chr16\",\"10\",\"20\", \"B\"],\n",
    "              [\"chr16\",\"30\",\"50\", \"B\"]]\n",
    "test_expected_result = [[\"chr16\",\"0\",\"100\", \"A+output_feature\"],\n",
    "                        [\"chr16\",\"200\",\"210\", \"A\"]]\n",
    "do_test(3, segments_1, segments_2, test_expected_result, False, \"annotate\")\n",
    "\n",
    "# Test 4\n",
    "segments_1 = [[\"chr16\",\"0\",\"100\", \"A\"],\n",
    "              [\"chr16\",\"200\",\"210\", \"A\"]]\n",
    "segments_2 = [[\"chr16\",\"10\",\"20\", \"B\"],\n",
    "              [\"chr16\",\"30\",\"50\", \"B\"]]\n",
    "test_expected_result = [[\"chr16\",\"10\",\"20\", \"output_feature\"],\n",
    "                        [\"chr16\",\"30\",\"50\", \"output_feature\"]]\n",
    "do_test(4, segments_1, segments_2, test_expected_result, False, \"intersect\")\n",
    "\n",
    "# Test 5\n",
    "segments_1 = [[\"chr16\",\"0\",\"100\", \"A\"],\n",
    "              [\"chr16\",\"200\",\"210\", \"A\"]]\n",
    "segments_2 = []\n",
    "test_expected_result = []\n",
    "do_test(5, segments_1, segments_2, test_expected_result, False, \"intersect\")\n",
    "\n",
    "# Test 6\n",
    "segments_1 = [[\"chr16\",\"0\",\"100\", \"A\"],\n",
    "              [\"chr16\",\"200\",\"210\", \"A\"]]\n",
    "segments_2 = []\n",
    "test_expected_result = segments_1\n",
    "do_test(6, segments_1, segments_2, test_expected_result, False, \"annotate\")\n",
    "\n",
    "# Test 7\n",
    "segments_1 = []\n",
    "segments_2 = []\n",
    "test_expected_result = segments_1\n",
    "do_test(7, segments_1, segments_2, test_expected_result, False, \"annotate\")\n",
    "\n",
    "# Test 8\n",
    "segments_1 = []\n",
    "segments_2 = []\n",
    "test_expected_result = segments_1\n",
    "do_test(8, segments_1, segments_2, test_expected_result, False, \"intersect\")\n",
    "\n",
    "# Test 9\n",
    "segments_1 = [[\"chr8\",\"0\",\"100\", \"A\"],\n",
    "              [\"chr8\",\"100\",\"150\", \"A\"],\n",
    "              [\"chr16\",\"200\",\"210\", \"A\"],\n",
    "              [\"chr16\",\"300\",\"1000\", \"A\"]]\n",
    "segments_2 = [[\"chr16\",\"50\",\"500\", \"B\"],\n",
    "              [\"chr16\",\"600\",\"800\", \"B\"]]\n",
    "test_expected_result = [[\"chr16\",\"200\",\"210\", \"A+output_feature\"],\n",
    "                        [\"chr16\",\"300\",\"1000\", \"A+output_feature\"]]\n",
    "do_test(9, segments_1, segments_2, test_expected_result, False, \"annotate\")\n",
    "\n",
    "# Test 10\n",
    "segments_1 = [[\"chr8\",\"0\",\"100\", \"A\"],\n",
    "              [\"chr8\",\"100\",\"150\", \"A\"],\n",
    "              [\"chr16\",\"200\",\"210\", \"A\"],\n",
    "              [\"chr16\",\"300\",\"1000\", \"A\"]]\n",
    "segments_2 = [[\"chr16\",\"50\",\"500\", \"B\"],\n",
    "              [\"chr16\",\"600\",\"800\", \"B\"]]\n",
    "test_expected_result = [[\"chr16\",\"200\",\"210\", \"output_feature\"],\n",
    "                        [\"chr16\",\"300\",\"500\", \"output_feature\"],\n",
    "                        [\"chr16\",\"600\",\"800\", \"output_feature\"]]\n",
    "do_test(10, segments_1, segments_2, test_expected_result, False, \"intersect\")\n",
    "\n",
    "# Test 11\n",
    "test_expected_result = [[\"chr16\",\"300\",\"500\", \"output_feature\"],\n",
    "                        [\"chr16\",\"600\",\"800\", \"output_feature\"]]\n",
    "do_test(11, segments_1, segments_2, test_expected_result, False, \"intersect\", drop_feature_threshold=30)\n",
    "\n",
    "# Test 12\n",
    "segments_1 = [[\"chr8\",\"0\",\"100\", \"A\"],\n",
    "              [\"chr8\",\"100\",\"150\", \"A\"],\n",
    "              [\"chr16\",\"200\",\"300\", \"A\"],\n",
    "              [\"chr16\",\"210\",\"320\", \"A\"]]\n",
    "segments_2 = [[\"chr16\",\"210\",\"250\", \"B\"],\n",
    "              [\"chr16\",\"305\",\"320\", \"B\"]]\n",
    "test_expected_result = [[\"chr16\",\"210\",\"250\", \"output_feature\"],\n",
    "                        [\"chr16\",\"305\",\"320\", \"output_feature\"]]\n",
    "do_test(12, segments_1, segments_2, test_expected_result, True, \"intersect\")\n",
    "\n",
    "print(\" \")\n",
    "if launched == passed: print(\"Passed All %s Test\" %(passed))\n",
    "else: print(\"ERROR: There are failed tests\")"
   ]
  },
  {
   "cell_type": "markdown",
   "metadata": {},
   "source": [
    "### CTCF segments"
   ]
  },
  {
   "cell_type": "code",
   "execution_count": 406,
   "metadata": {},
   "outputs": [
    {
     "name": "stdout",
     "output_type": "stream",
     "text": [
      "chr16\t60400\t61400\tE9\n",
      "chr16\t72600\t72800\tE9\n",
      "chr16\t115200\t116000\tE9\n",
      "chr16\t146600\t147400\tE9\n",
      "chr16\t156600\t157600\tE9\n",
      "chr16\t167800\t168200\tE9\n",
      "chr16\t412000\t412600\tE9\n",
      "chr16\t441800\t442200\tE9\n",
      "chr16\t537600\t538000\tE9\n",
      "chr16\t597000\t597400\tE9\n",
      "chr16\t629000\t629400\tE9\n",
      "Output file: E9.bed\n"
     ]
    }
   ],
   "source": [
    "PATH = \"files/tracks\"\n",
    "M1_FILE = \"Monocyte1_11_Master_11_segments.bed\"\n",
    "M2_FILE = \"Monocyte2_11_Master_11_segments.bed\"\n",
    "CHROM = \"chr16\"\n",
    "STATE = \"E9\"\n",
    "intersect_bed(PATH, M1_FILE, M2_FILE, PATH, STATE + \".bed\", chrom=CHROM, \n",
    "                  f1_feature_filter = STATE, f2_feature_filter = STATE, output_feature = STATE, sep=SEP,\n",
    "                  drop_feature_threshold = 10)\n",
    "\n",
    "head(PATH, STATE + \".bed\", 10)\n",
    "print(\"Output file:\", STATE + \".bed\")"
   ]
  },
  {
   "cell_type": "markdown",
   "metadata": {
    "lang": "en"
   },
   "source": [
    "## Segment annotation\n",
    "Annotate the segments. At a minimum, the percentage of segments that overlap with protein-coding genes in said chromosome should be given."
   ]
  },
  {
   "cell_type": "markdown",
   "metadata": {},
   "source": [
    "### Tracks to annotate\n",
    "The tracks are obtained from https://genome.ucsc.edu/cgi-bin/hgTables\n",
    "\n",
    "![Table browser](table_browser.png \"Table browser\")"
   ]
  },
  {
   "cell_type": "markdown",
   "metadata": {},
   "source": [
    "### Annotate gene overlap"
   ]
  },
  {
   "cell_type": "code",
   "execution_count": 426,
   "metadata": {},
   "outputs": [
    {
     "name": "stdout",
     "output_type": "stream",
     "text": [
      "chr16\t60400\t61400\tE9\n",
      "chr16\t72600\t72800\tE9\n",
      "chr16\t115200\t116000\tE9+gene\n",
      "chr16\t146600\t147400\tE9+gene\n",
      "chr16\t156600\t157600\tE9+gene\n",
      "chr16\t167800\t168200\tE9+gene\n",
      "chr16\t412000\t412600\tE9\n",
      "chr16\t441800\t442200\tE9+gene\n",
      "chr16\t537600\t538000\tE9+gene\n",
      "chr16\t597000\t597400\tE9+gene\n",
      "chr16\t629000\t629400\tE9+gene\n",
      "\n",
      "Count of state segments overlapped: 198\n",
      "Count of all state segments 468\n",
      "Percent overlapped state segments over total segments: 42.30769230769231\n",
      "Output file: E9_gene.bed\n"
     ]
    }
   ],
   "source": [
    "OUTPUT_FEATURE = \"gene\"\n",
    "INPUT_FILE = STATE + \".bed\"\n",
    "OUTPUT_FILE = STATE + \"_\" + OUTPUT_FEATURE + \".bed\"\n",
    "ANNOTATION_TRACK = \"hg19_genes_sorted.bed\"\n",
    "intersect_bed(PATH, INPUT_FILE, ANNOTATION_TRACK,\n",
    "                  PATH, OUTPUT_FILE, chrom = CHROM, \n",
    "                  f1_feature_filter = \"\", f2_feature_filter=\"\", \n",
    "                  output_feature = OUTPUT_FEATURE, sep=SEP,\n",
    "                  drop_feature_threshold = 10, output_mode=\"annotate\")\n",
    "head(PATH, OUTPUT_FILE, 10)\n",
    "\n",
    "overlap_segment_count = bed_segment_count_by_re_feature(PATH, OUTPUT_FILE, OUTPUT_FEATURE)\n",
    "print(\"\")\n",
    "print(\"Count of state segments overlapped:\", overlap_segment_count)\n",
    "total_segment_count = bed_segment_count_by_re_feature(PATH, OUTPUT_FILE, \"\")\n",
    "print(\"Count of all state segments\", total_segment_count)\n",
    "print(\"Percent overlapped state segments over total segments:\", \n",
    "      overlap_segment_count * 100 / total_segment_count)\n",
    "print(\"Output file:\", OUTPUT_FILE)"
   ]
  },
  {
   "cell_type": "markdown",
   "metadata": {},
   "source": [
    "### Annotate exon overlap"
   ]
  },
  {
   "cell_type": "code",
   "execution_count": 427,
   "metadata": {},
   "outputs": [
    {
     "name": "stdout",
     "output_type": "stream",
     "text": [
      "chr16\t60400\t61400\tE9\n",
      "chr16\t72600\t72800\tE9\n",
      "chr16\t115200\t116000\tE9+gene\n",
      "chr16\t146600\t147400\tE9+gene\n",
      "chr16\t156600\t157600\tE9+gene\n",
      "chr16\t167800\t168200\tE9+gene\n",
      "chr16\t412000\t412600\tE9\n",
      "chr16\t441800\t442200\tE9+gene\n",
      "chr16\t537600\t538000\tE9+gene\n",
      "chr16\t597000\t597400\tE9+gene+exons\n",
      "chr16\t629000\t629400\tE9+gene+exons\n",
      "\n",
      "Count of state segments overlapped: 41\n",
      "Count of all state segments 468\n",
      "Percent overlapped state segments over total segments: 8.760683760683762\n",
      "Output file: E9_exons_gene.bed\n"
     ]
    }
   ],
   "source": [
    "OUTPUT_FEATURE = \"exons\"\n",
    "INPUT_FILE = STATE + \"_gene.bed\"\n",
    "OUTPUT_FILE = STATE + \"_\" + OUTPUT_FEATURE + \"_gene.bed\"\n",
    "ANNOTATION_TRACK = \"hg19_coding_exons_sorted.bed\" \n",
    "intersect_bed(PATH, INPUT_FILE, ANNOTATION_TRACK, \n",
    "                  PATH, OUTPUT_FILE, chrom = CHROM, \n",
    "                  f1_feature_filter = \"\", f2_feature_filter=\"\", \n",
    "                  output_feature = OUTPUT_FEATURE, sep=SEP,\n",
    "                  drop_feature_threshold = 10, output_mode=\"annotate\")\n",
    "head(PATH, OUTPUT_FILE, 10)\n",
    "\n",
    "overlap_segment_count = bed_segment_count_by_re_feature(PATH, OUTPUT_FILE, OUTPUT_FEATURE)\n",
    "print(\"\")\n",
    "print(\"Count of state segments overlapped:\", overlap_segment_count)\n",
    "total_segment_count = bed_segment_count_by_re_feature(PATH, OUTPUT_FILE, \"\")\n",
    "print(\"Count of all state segments\", total_segment_count)\n",
    "print(\"Percent overlapped state segments over total segments:\", \n",
    "      overlap_segment_count * 100 / total_segment_count)\n",
    "print(\"Output file:\", OUTPUT_FILE)"
   ]
  },
  {
   "cell_type": "markdown",
   "metadata": {},
   "source": [
    "### Annotate upstream 200 overlap"
   ]
  },
  {
   "cell_type": "code",
   "execution_count": 428,
   "metadata": {},
   "outputs": [
    {
     "name": "stdout",
     "output_type": "stream",
     "text": [
      "chr16\t60400\t61400\tE9+up200\n",
      "chr16\t72600\t72800\tE9+up200\n",
      "chr16\t115200\t116000\tE9+gene\n",
      "chr16\t146600\t147400\tE9+gene\n",
      "chr16\t156600\t157600\tE9+gene\n",
      "chr16\t167800\t168200\tE9+gene\n",
      "chr16\t412000\t412600\tE9\n",
      "chr16\t441800\t442200\tE9+gene\n",
      "chr16\t537600\t538000\tE9+gene\n",
      "chr16\t597000\t597400\tE9+gene\n",
      "chr16\t629000\t629400\tE9+gene\n",
      "\n",
      "Count of state segments overlapped: 20\n",
      "Count of all state segments 468\n",
      "Percent overlapped state segments over total segments: 4.273504273504273\n",
      "Output file: E9_up200_exons_gene.bed\n"
     ]
    }
   ],
   "source": [
    "OUTPUT_FEATURE = \"up200\"\n",
    "INPUT_FILE = STATE + \"_gene.bed\"\n",
    "OUTPUT_FILE = STATE + \"_\" + OUTPUT_FEATURE + \"_exons_gene.bed\"\n",
    "ANNOTATION_TRACK = \"hg19_up200_sorted.bed\" \n",
    "intersect_bed(PATH, INPUT_FILE, ANNOTATION_TRACK, \n",
    "                  PATH, OUTPUT_FILE, chrom = CHROM, \n",
    "                  f1_feature_filter = \"\", f2_feature_filter=\"\", \n",
    "                  output_feature = OUTPUT_FEATURE, sep=SEP,\n",
    "                  drop_feature_threshold = 10, output_mode=\"annotate\")\n",
    "head(PATH, OUTPUT_FILE, 10)\n",
    "\n",
    "overlap_segment_count = bed_segment_count_by_re_feature(PATH, OUTPUT_FILE, OUTPUT_FEATURE)\n",
    "print(\"\")\n",
    "print(\"Count of state segments overlapped:\", overlap_segment_count)\n",
    "total_segment_count = bed_segment_count_by_re_feature(PATH, OUTPUT_FILE, \"\")\n",
    "print(\"Count of all state segments\", total_segment_count)\n",
    "print(\"Percent overlapped state segments over total segments:\", \n",
    "      overlap_segment_count * 100 / total_segment_count)\n",
    "print(\"Output file:\", OUTPUT_FILE)"
   ]
  },
  {
   "cell_type": "markdown",
   "metadata": {
    "lang": "en"
   },
   "source": [
    "## DNASE I overlap\n",
    "\n",
    "Download the peaks of DNase I in monocytes of ENCODE for chr16 and calculate the percentage of overlap between DNaseI-peaks and your work segments. Use the file wgEncodeOpenChromDnaseMonocd14Pk.narrowPeak.gz in:\n",
    "http://hgdownload.cse.ucsc.edu/goldenpath/hg19/encodeDCC/wgEncodeOpenChromDnase"
   ]
  },
  {
   "cell_type": "markdown",
   "metadata": {},
   "source": [
    "### Tests"
   ]
  },
  {
   "cell_type": "code",
   "execution_count": 439,
   "metadata": {},
   "outputs": [
    {
     "name": "stdout",
     "output_type": "stream",
     "text": [
      "chr16\t72600\t72800\tE9+dnase1\n"
     ]
    }
   ],
   "source": [
    "intersect_bed(TEST_PATH, \"bed1.bed\", \"dnase1.peaks.bed\", TEST_PATH, \n",
    "                  STATE + \"_dnase1_test.bed\",\n",
    "                  chrom = CHROM, f1_feature_filter = STATE, f2_feature_filter = \"\", \n",
    "                  output_feature = \"dnase1\", sep=SEP,\n",
    "                  drop_feature_threshold=0, output_mode=\"\")\n",
    "head(TEST_PATH, STATE +\"_dnase1_test.bed\", 10)"
   ]
  },
  {
   "cell_type": "markdown",
   "metadata": {},
   "source": [
    "### Overlap"
   ]
  },
  {
   "cell_type": "markdown",
   "metadata": {},
   "source": [
    "#### Overlap by coverage\n",
    "\n",
    "Overlap calculated as percent ratio between sum of base pair overlapped and sum of total base pair covered by all the E9 segments. This method doesn't have much sense because it depends of the arbitrary sensitivity of the dna base segments (200 bps in the case of chromatin states)."
   ]
  },
  {
   "cell_type": "code",
   "execution_count": 435,
   "metadata": {},
   "outputs": [
    {
     "name": "stdout",
     "output_type": "stream",
     "text": [
      "chr16\t72620\t72800\tE9_dnase1_overlap\n",
      "chr16\t115448\t116000\tE9_dnase1_overlap\n",
      "chr16\t146819\t147400\tE9_dnase1_overlap\n",
      "chr16\t157056\t157367\tE9_dnase1_overlap\n",
      "chr16\t167800\t168118\tE9_dnase1_overlap\n",
      "chr16\t412000\t412600\tE9_dnase1_overlap\n",
      "chr16\t441800\t442200\tE9_dnase1_overlap\n",
      "chr16\t537761\t538000\tE9_dnase1_overlap\n",
      "chr16\t597000\t597400\tE9_dnase1_overlap\n",
      "chr16\t629000\t629400\tE9_dnase1_overlap\n",
      "chr16\t661000\t661548\tE9_dnase1_overlap\n",
      "\n",
      "Coverage DNASE peaks: 22653113851288 bps\n",
      "Coverage E9: 43366167200 bps\n",
      "Percent overlap over total coverage peaks: 0.19143578884866774\n",
      "Output file: E9_dnase1.bed\n"
     ]
    }
   ],
   "source": [
    "intersect_bed(PATH, STATE + \".bed\", \"wgEncodeOpenChromDnaseMonocd14Pk.narrowPeak.bed\", \n",
    "                  PATH, STATE + \"_dnase1.bed\", chrom = CHROM, \n",
    "                  f1_feature_filter = \"\", f2_feature_filter = \"\", \n",
    "                  output_feature = STATE + \"_dnase1_overlap\", sep = SEP,\n",
    "                  drop_feature_threshold = 10)\n",
    "head(PATH, STATE + \"_dnase1.bed\", 10)\n",
    "coverage_peaks = bed_coverage(PATH, \"wgEncodeOpenChromDnaseMonocd14Pk.narrowPeak.bed\", sep='\\t')\n",
    "coverage_state = bed_coverage(PATH, STATE + \".bed\", sep='\\t')\n",
    "print(\"\")\n",
    "print(\"Coverage DNASE peaks:\", coverage_peaks, \"bps\")\n",
    "print(\"Coverage E9:\", coverage_state, \"bps\")\n",
    "print(\"Percent overlap over total coverage peaks:\", coverage_state * 100 / coverage_peaks)\n",
    "print(\"Output file:\", STATE + \"_dnase1.bed\")"
   ]
  },
  {
   "cell_type": "markdown",
   "metadata": {},
   "source": [
    "#### Overlap by segment count\n",
    "\n",
    "Overlap calculated as percent ratio between segment count of overlapped E9-DNASE segments and total count of E9 segments."
   ]
  },
  {
   "cell_type": "code",
   "execution_count": 445,
   "metadata": {},
   "outputs": [
    {
     "name": "stdout",
     "output_type": "stream",
     "text": [
      "chr16\t60400\t61400\tE9\n",
      "chr16\t72600\t72800\tE9+dnase1\n",
      "chr16\t115200\t116000\tE9+dnase1\n",
      "chr16\t146600\t147400\tE9+dnase1\n",
      "chr16\t156600\t157600\tE9+dnase1\n",
      "chr16\t167800\t168200\tE9+dnase1\n",
      "chr16\t412000\t412600\tE9+dnase1\n",
      "chr16\t441800\t442200\tE9+dnase1\n",
      "chr16\t537600\t538000\tE9+dnase1\n",
      "chr16\t597000\t597400\tE9+dnase1\n",
      "chr16\t629000\t629400\tE9+dnase1\n",
      "\n",
      "Count of state segments overlapped: 342\n",
      "Count of all state segments 468\n",
      "Percent overlapped state segments over total segments: 73.07692307692308\n",
      "Output file: E9_dnase1.bed\n"
     ]
    }
   ],
   "source": [
    "OUTPUT_FEATURE = \"dnase1\"\n",
    "\n",
    "intersect_bed(PATH, STATE + \".bed\", \"wgEncodeOpenChromDnaseMonocd14Pk.narrowPeak.bed\", \n",
    "                  PATH, STATE + \"_dnase1.bed\", chrom = CHROM, \n",
    "                  f1_feature_filter = STATE, f2_feature_filter=\"\", \n",
    "                  output_feature = OUTPUT_FEATURE, sep=SEP,\n",
    "                  drop_feature_threshold = 10, output_mode=\"annotate\")\n",
    "head(PATH, STATE + \"_dnase1.bed\", 10)\n",
    "\n",
    "overlap_segment_count = bed_segment_count_by_re_feature(PATH, STATE + \"_dnase1.bed\", \n",
    "                                                        OUTPUT_FEATURE)\n",
    "print(\"\")\n",
    "print(\"Count of state segments overlapped:\", overlap_segment_count)\n",
    "total_segment_count = bed_segment_count_by_re_feature(PATH, STATE + \"_dnase1.bed\", \"\")\n",
    "print(\"Count of all state segments\", total_segment_count)\n",
    "print(\"Percent overlapped state segments over total segments:\", \n",
    "      overlap_segment_count * 100 / total_segment_count)\n",
    "print(\"Output file:\", STATE + \"_dnase1.bed\")"
   ]
  },
  {
   "cell_type": "markdown",
   "metadata": {},
   "source": [
    "![](genome_browser.png \"Genome browser visualization over genes\")"
   ]
  },
  {
   "cell_type": "markdown",
   "metadata": {},
   "source": [
    "#### Automated verifications"
   ]
  },
  {
   "cell_type": "code",
   "execution_count": 418,
   "metadata": {},
   "outputs": [],
   "source": [
    "segment_count_annotate = bed_segment_count_by_re_feature(PATH, STATE + \"_dnase1.bed\", \"\")\n",
    "segment_count = bed_segment_count_by_re_feature(PATH, STATE + \".bed\", \"\")\n",
    "assert segment_count_annotate == segment_count,\\\n",
    "        \"Count of annotated segments not equal to count of original segments\""
   ]
  },
  {
   "cell_type": "markdown",
   "metadata": {},
   "source": [
    "#### Visual inspection"
   ]
  },
  {
   "cell_type": "code",
   "execution_count": 419,
   "metadata": {},
   "outputs": [
    {
     "name": "stdout",
     "output_type": "stream",
     "text": [
      "Counts\n",
      "     468 files/tracks/E9_dnase1.bed\n",
      "     468 files/tracks/E9.bed\n",
      "chr16\t89233600\t89234800\tE9+dnase1\n",
      "chr16\t89527000\t89527400\tE9\n",
      "chr16\t89623800\t89624200\tE9+dnase1\n",
      "chr16\t89707800\t89708000\tE9+dnase1\n",
      "chr16\t89772400\t89772600\tE9+dnase1\n",
      "chr16\t89927000\t89927800\tE9+dnase1\n",
      "chr16\t89976600\t89977000\tE9+dnase1\n",
      "chr16\t90092400\t90092800\tE9+dnase1\n",
      "chr16\t90182400\t90183000\tE9\n",
      "chr16\t90281600\t90282000\tE9\n",
      "\n",
      "chr16\t89233600\t89234800\tE9\n",
      "chr16\t89527000\t89527400\tE9\n",
      "chr16\t89623800\t89624200\tE9\n",
      "chr16\t89707800\t89708000\tE9\n",
      "chr16\t89772400\t89772600\tE9\n",
      "chr16\t89927000\t89927800\tE9\n",
      "chr16\t89976600\t89977000\tE9\n",
      "chr16\t90092400\t90092800\tE9\n",
      "chr16\t90182400\t90183000\tE9\n",
      "chr16\t90281600\t90282000\tE9\n",
      "\n",
      "chr16\t60400\t61400\tE9\n",
      "chr16\t72600\t72800\tE9+dnase1\n",
      "chr16\t115200\t116000\tE9+dnase1\n",
      "chr16\t146600\t147400\tE9+dnase1\n",
      "chr16\t156600\t157600\tE9+dnase1\n",
      "chr16\t167800\t168200\tE9+dnase1\n",
      "chr16\t412000\t412600\tE9+dnase1\n",
      "chr16\t441800\t442200\tE9+dnase1\n",
      "chr16\t537600\t538000\tE9+dnase1\n",
      "chr16\t597000\t597400\tE9+dnase1\n",
      "\n",
      "chr16\t60400\t61400\tE9\n",
      "chr16\t72600\t72800\tE9\n",
      "chr16\t115200\t116000\tE9\n",
      "chr16\t146600\t147400\tE9\n",
      "chr16\t156600\t157600\tE9\n",
      "chr16\t167800\t168200\tE9\n",
      "chr16\t412000\t412600\tE9\n",
      "chr16\t441800\t442200\tE9\n",
      "chr16\t537600\t538000\tE9\n",
      "chr16\t597000\t597400\tE9\n",
      "\n",
      "Counts of annotations:\n",
      "     342\n",
      "     468\n"
     ]
    }
   ],
   "source": [
    "%%bash\n",
    "export TRACKS=files/tracks/\n",
    "echo \"Counts\"\n",
    "wc -l ${TRACKS}E9_dnase1.bed\n",
    "wc -l ${TRACKS}E9.bed\n",
    "tail ${TRACKS}E9_dnase1.bed\n",
    "echo\n",
    "tail ${TRACKS}E9.bed\n",
    "echo\n",
    "head ${TRACKS}E9_dnase1.bed\n",
    "echo\n",
    "head ${TRACKS}E9.bed\n",
    "echo\n",
    "echo \"Counts of annotations:\"\n",
    "cat ${TRACKS}E9_dnase1.bed | grep \"dnase1\" | wc -l\n",
    "cat ${TRACKS}E9.bed | grep \"\" | wc -l"
   ]
  },
  {
   "cell_type": "markdown",
   "metadata": {},
   "source": [
    "#### Analysis\n",
    "\n",
    "##### Biological background\n",
    "\n",
    "*Insulation subsystem*\n",
    "\n",
    "Insulator genomic function refers either to a barrier function or an enhancer-blocking function:\n",
    "\n",
    "1. Barrier function. In cellular division heterochromatin and euchromatin must to be insulated from each other to prevent undesirable gene expression, for instance to prevent the inactive heterochromatic domain from erroneously inhibiting genes in the active euchromatic domain and vice versa.\n",
    "\n",
    "2. Enhancer-blockig function. The activity of a given gene is controlled by enhancer sequences, which can be found either adjacent to the gene promoter or at a considerable distance either downstream or upstream of the gene. Distance at the level of the linear genome does not impose a problem for enhancer function as the intervening DNA is looped out such that promoter and enhancer will be in close contact. Insulators play a role in the three-dimensional folding of chromatin, allowing for or preventing functional contact between enhancer and promoter elements.\n",
    "\n",
    "*DNASE I*\n",
    "\n",
    "Deoxyribonuclease I (DNase I), is an endonuclease coded by the human gene DNASE1.\n",
    "\n",
    "DNase I is a nuclease that cleaves DNA preferentially at phosphodiester linkages adjacent to a pyrimidine nucleotide. It seems to play a role in DNA fragmentation during apoptosis.\n",
    "\n",
    "DNase I hypersensitive sites are thought to be characterized by open, accessible chromatin, so, a DNase I peak enable the identification of regions of the genome which are likely to contain active genes.\n",
    "\n",
    "*CTCF*\n",
    "\n",
    "11-zinc finger protein or nuclear protein CCCTC-binding factor (CTCF) is a transcription factor encoded by the CTCF gene in humans. \n",
    "\n",
    "When bound to insulator sequences can prevent undesirable crosstalk between active and inactive genomic regions, and it can also shield particular genes from enhancer function, a role that has many applications in development. Exciting recent work has demonstrated roles for CTCF in, for example, embryonic, neuronal and haematopoietic development. \n",
    "\n",
    "Its main roles are:\n",
    "\n",
    "1. Insulation by binding of targeting insulator sequence elements located between enhancer and promoter sequences, blocking the interaction of transcription factors.\n",
    "\n",
    "2. Insulation by altering the 3D structure of chromatin, forming open chromatin loops, remodeling the heterochromatin structures and therefore preventing repressive heterochromatin actuation into a neighbouring domain. \n",
    "\n",
    "#### Hematopoiesis\n",
    "\n",
    "![Human hematopoiesis](hematopoiesis.png \"Hematopoiesis in humans\")\n",
    "\n",
    "This diagram shows the hematopoiesis as it occurs in humans. The morphological characteristics of the hematopoietic cells are shown as seen in a Wright’s stain, May-Giemsa stain or May-Grünwald-Giemsa stain. Alternative names of certain cells are indicated between parentheses. Certain cells may have more than one characteristic appearance. In these cases, more than one representation of the same cell has been included. Together, the monocyte and the lymphocytes comprise the agranulocytes, as opposed to the granulocytes (basophil, neutrophil and eosinophil) that are produced during granulopoiesis. B., N. and E. stand for Basophilic, Neutrophilic and Eosinophilic, respectively – as in Basophilic promyelocyte. For lymphocytes, the T and B are actual designations. \n",
    "\n",
    "The polychromatic erythrocyte (reticulocyte) at the right shows its characteristic appearance when stained with methylene blue or Azure B. \n",
    "\n",
    "The erythrocyte at the right is a more accurate representation of its appearance in reality when viewed through a microscope. \n",
    "\n",
    "Other cells that arise from the monocyte: osteoclast, microglia (central nervous system), Langerhans cell (epidermis), Kupffer cell (liver). \n",
    "\n",
    "The T and B lymphocyte are split to better indicate that the plasma cell arises from the B-cell. Note that there is no difference in the appearance of B- and T-cells unless specific staining is applied.\n",
    "\n"
   ]
  },
  {
   "cell_type": "markdown",
   "metadata": {
    "lang": "en"
   },
   "source": [
    "##### Analysis of data\n",
    "\n",
    "We found that 70% of the E9 segments also contain DNAse I anchoring sequences, which requires regions of open chromatin. Can this indicate that in these areas CTCF is performing the second of the functions as an insulator: the enhacer-blocking factor?"
   ]
  },
  {
   "cell_type": "markdown",
   "metadata": {
    "lang": "en"
   },
   "source": [
    "## Display in genome browser\n",
    "\n",
    "Visualize (and show) a region of the genome in the UCSC browser where at least one of your segments can be seen (upload the track generated by ChromHMM) and DNaseI in all cell types of blood ENCODE.\n",
    "\n",
    "**First attempt**: with the tracks available in USCS genome browser:\n",
    "\n",
    "![E9 vs DNaseI blood cell types](genome_browser_2.png \"E9 vs DNaseI blood cell types\")\n",
    "\n",
    "**Second attempt**:\n",
    "\n",
    "1. Download from ENCODE https://www.encodeproject.org/metadata/type=Experiment&assay_title=DNase-seq&replicates.library.biosample.donor.organism.scientific_name=Homo+sapiens&files.file_type=bed+narrowPeak/metadata.tsv.\n",
    "\n",
    "2. Open metadata.tsv in excell and search for a blood cell experiment (for instance, 808 row) and download the track https://www.encodeproject.org/files/ENCFF304TBE/@@download/ENCFF304TBE.bed.gz\n",
    " \n",
    "3. Pending: upload the track and download more tracks.\n",
    "\n"
   ]
  },
  {
   "cell_type": "markdown",
   "metadata": {
    "lang": "en"
   },
   "source": [
    "## Search of motifs.\n",
    "\n",
    "### Strategy\n",
    "\n",
    "Segments in state 9 must contain CTCF binding sequences and probably enhancer, DNase 1 and other TF binding sequences. \n",
    "\n",
    "It would be interesting to find at least the consensus sequence of CTCF binding sites.\n",
    "\n",
    "It was done in this article:\n",
    "\n",
    "https://www.ncbi.nlm.nih.gov/pmc/articles/PMC2572726/#!po=17.5676\n",
    "\n",
    "But it's a *de novo* discovery.\n",
    "\n",
    "Another approach (or another interpretation of the question and more easy) is to search in the segments which of them contains a motif corresponding to the PSM of CTCF binding sequence. It could be a good strategy to validate the quality of the E9 segments."
   ]
  },
  {
   "cell_type": "markdown",
   "metadata": {
    "lang": "en"
   },
   "source": [
    "## Overlapping with methylation regions\n",
    "\n",
    "Calculate the% overlap with hyper- (Methylation> 0.75) or hypo-methylated (Methylation <0.25) regions in available monocytes in the BLUEPRINT portal DCC. (http://dcc.blueprint-epigenome.eu/#/home) BED files belonging to the donor C001UY.\n",
    "\n",
    "### Strategy\n",
    "\n",
    "It can be done with the same software that we use in the exercise. Seems more feasible than previous item."
   ]
  },
  {
   "cell_type": "markdown",
   "metadata": {
    "latex_metadata": {
     "hidden": "true",
     "lexer": "bash"
    }
   },
   "source": [
    "# Outputs"
   ]
  },
  {
   "cell_type": "code",
   "execution_count": 447,
   "metadata": {
    "latex_metadata": {
     "hidden": "true",
     "lexer": "bash"
    }
   },
   "outputs": [
    {
     "name": "stderr",
     "output_type": "stream",
     "text": [
      "[NbConvertApp] Converting notebook genomic_regulation.ipynb to latex\n",
      "[NbConvertApp] Writing 60587 bytes to genomic_regulation.tex\n",
      "[NbConvertApp] Converting notebook genomic_regulation.ipynb to html_with_toclenvs\n",
      "[NbConvertApp] Writing 390245 bytes to genomic_regulation.html\n"
     ]
    }
   ],
   "source": [
    "%%bash\n",
    "jupyter nbconvert --to=latex --template=~/report.tplx genomic_regulation.ipynb 1> /dev/null\n",
    "pdflatex -shell-escape genomic_regulation 1> /dev/null\n",
    "jupyter nbconvert --to html_with_toclenvs genomic_regulation.ipynb 1> /dev/null"
   ]
  }
 ],
 "metadata": {
  "celltoolbar": "Edit Metadata",
  "hide_input": false,
  "kernelspec": {
   "display_name": "Python 3",
   "language": "python",
   "name": "python3"
  },
  "language_info": {
   "codemirror_mode": {
    "name": "ipython",
    "version": 3
   },
   "file_extension": ".py",
   "mimetype": "text/x-python",
   "name": "python",
   "nbconvert_exporter": "python",
   "pygments_lexer": "ipython3",
   "version": "3.6.7"
  },
  "latex_envs": {
   "LaTeX_envs_menu_present": true,
   "autoclose": false,
   "autocomplete": true,
   "bibliofile": "biblio.bib",
   "cite_by": "apalike",
   "current_citInitial": 1,
   "eqLabelWithNumbers": true,
   "eqNumInitial": 1,
   "hotkeys": {
    "equation": "Ctrl-E",
    "itemize": "Ctrl-I"
   },
   "labels_anchors": false,
   "latex_user_defs": false,
   "report_style_numbering": false,
   "user_envs_cfg": false
  },
  "latex_metadata": {
   "author": "Ivó Hernández, Helena Liz, Diego Fuentes, Fernando Freire",
   "title": "Genomic Regulation"
  },
  "nbTranslate": {
   "displayLangs": [
    "en"
   ],
   "hotkey": "alt-t",
   "langInMainMenu": true,
   "sourceLang": "es",
   "targetLang": "en",
   "useGoogleTranslate": true
  },
  "toc": {
   "base_numbering": 1,
   "nav_menu": {},
   "number_sections": true,
   "sideBar": true,
   "skip_h1_title": false,
   "title_cell": "Table of Contents",
   "title_sidebar": "Contents",
   "toc_cell": false,
   "toc_position": {
    "height": "calc(100% - 180px)",
    "left": "10px",
    "top": "150px",
    "width": "165px"
   },
   "toc_section_display": true,
   "toc_window_display": true
  },
  "varInspector": {
   "cols": {
    "lenName": 16,
    "lenType": 16,
    "lenVar": 40
   },
   "kernels_config": {
    "python": {
     "delete_cmd_postfix": "",
     "delete_cmd_prefix": "del ",
     "library": "var_list.py",
     "varRefreshCmd": "print(var_dic_list())"
    },
    "r": {
     "delete_cmd_postfix": ") ",
     "delete_cmd_prefix": "rm(",
     "library": "var_list.r",
     "varRefreshCmd": "cat(var_dic_list()) "
    }
   },
   "types_to_exclude": [
    "module",
    "function",
    "builtin_function_or_method",
    "instance",
    "_Feature"
   ],
   "window_display": false
  }
 },
 "nbformat": 4,
 "nbformat_minor": 2
}
