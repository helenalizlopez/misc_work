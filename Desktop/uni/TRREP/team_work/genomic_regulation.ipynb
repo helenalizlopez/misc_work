{
 "cells": [
  {
   "cell_type": "markdown",
   "metadata": {
    "lang": "en"
   },
   "source": [
    "# Genomic Regulation"
   ]
  },
  {
   "cell_type": "markdown",
   "metadata": {},
   "source": [
    "## Get chr16 CTCF segments\n",
    "\n",
    "Get the *chr16* segments which share the same state between both monocyte replicates."
   ]
  },
  {
   "cell_type": "markdown",
   "metadata": {},
   "source": [
    "### Test files"
   ]
  },
  {
   "cell_type": "code",
   "execution_count": 265,
   "metadata": {},
   "outputs": [
    {
     "name": "stdout",
     "output_type": "stream",
     "text": [
      "Monocyte 1 segments.bed\n",
      "chr16\t1019400\t1019600\tE9\n",
      "chr16\t10350600\t10351000\tE9\n",
      "chr16\t10603400\t10604000\tE9\n",
      "chr16\t10608200\t10608600\tE9\n",
      "chr16\t10615400\t10616000\tE9\n",
      "chr16\t10665800\t10666200\tE9\n",
      "chr16\t10762200\t10762600\tE9\n",
      "chr16\t10830800\t10831200\tE9\n",
      "chr16\t11047800\t11048400\tE9\n",
      "chr16\t1105000\t1105400\tE9\n",
      "chr16\t11057800\t11058400\tE9\n",
      "chr16\t1107200\t1107800\tE9\n",
      "chr16\t11489600\t11490600\tE9\n",
      "chr16\t11499400\t11499800\tE9\n",
      "chr16\t11501000\t11501800\tE9\n",
      "chr16\t115200\t116000\tE9\n",
      "chr16\t11626000\t11626800\tE9\n",
      "chr16\t11890800\t11891200\tE9\n",
      "chr16\t11948000\t11948200\tE9\n",
      "chr16\t12161600\t12162200\tE9\n",
      "      20 monocyte1_segments.bed\n",
      "Monocyte 2 segments.bed\n",
      "chr16\t10349800\t10351600\tE9\n",
      "chr16\t10408600\t10409000\tE9\n",
      "chr16\t10603400\t10604000\tE9\n",
      "chr16\t10604800\t10605200\tE9\n",
      "chr16\t10607600\t10609000\tE9\n",
      "chr16\t10614200\t10616000\tE9\n",
      "chr16\t10762000\t10763400\tE9\n",
      "chr16\t10830800\t10831200\tE9\n",
      "chr16\t10926000\t10926400\tE9\n",
      "chr16\t11047200\t11049000\tE9\n",
      "chr16\t1105000\t1105600\tE9\n",
      "chr16\t11058000\t11058600\tE9\n",
      "chr16\t11064600\t11066200\tE9\n",
      "chr16\t1107200\t1108200\tE9\n",
      "chr16\t11109000\t11109200\tE9\n",
      "chr16\t11311600\t11312800\tE9\n",
      "chr16\t11351200\t11351800\tE9\n",
      "chr16\t11377800\t11378400\tE9\n",
      "chr16\t11450400\t11451400\tE9\n",
      "chr16\t11465600\t11466400\tE9\n",
      "      20 monocyte2_segments.bed\n"
     ]
    }
   ],
   "source": [
    "%%bash\n",
    "# Obtain files for test\n",
    "cd files/tracks\n",
    "cat Monocyte1_11_Master_11_segments.bed | grep 'chr16' | grep 'E9' | sort -k1 -k2,3n | head -n 20 > monocyte1_segments.bed\n",
    "cat Monocyte2_11_Master_11_segments.bed | grep 'chr16' | grep 'E9' | sort -k1 -k2,3n | head -n 20 > monocyte2_segments.bed\n",
    "echo \"Monocyte 1 segments.bed\"\n",
    "cat monocyte1_segments.bed\n",
    "wc -l monocyte1_segments.bed\n",
    "echo \"Monocyte 2 segments.bed\"\n",
    "cat monocyte2_segments.bed\n",
    "wc -l monocyte2_segments.bed\n"
   ]
  },
  {
   "cell_type": "code",
   "execution_count": 9,
   "metadata": {},
   "outputs": [
    {
     "name": "stdout",
     "output_type": "stream",
     "text": [
      "chr16\t60400\t61400\tE9\n",
      "chr16\t72600\t72800\tE9\n",
      "chr16\t115200\t116000\tE9\n",
      "chr16\t146600\t147400\tE9\n",
      "chr16\t156600\t157600\tE9\n",
      "chr16\t167800\t168200\tE9\n",
      "chr16\t412000\t412600\tE9\n",
      "chr16\t441800\t442200\tE9\n",
      "chr16\t537600\t538000\tE9\n",
      "chr16\t597000\t597400\tE9\n",
      "chr16\t629000\t629400\tE9\n",
      "chr16\t661000\t661600\tE9\n",
      "chr16\t710800\t711200\tE9\n",
      "chr16\t711600\t711800\tE9\n",
      "chr16\t736200\t736400\tE9\n",
      "chr16\t761200\t763200\tE9\n",
      "chr16\t835400\t836200\tE9\n",
      "chr16\t1105000\t1105400\tE9\n",
      "chr16\t1107200\t1107800\tE9\n",
      "chr16\t1286400\t1287200\tE9\n"
     ]
    }
   ],
   "source": [
    "%%bash\n",
    "cd files/tracks\n",
    "cat Monocyte1_11_Master_11_segments.bed | grep 'chr16' | grep 'E9' | sort -k 2,3 -h > monocyte1_segments.bed\n",
    "cat Monocyte2_11_Master_11_segments.bed | grep 'chr16' | grep 'E9' | sort -k 2,3 -h > monocyte2_segments.bed\n",
    "bedtools intersect -a monocyte1_segments.bed -b monocyte2_segments.bed > E9.bedtools.bed\n",
    "head -n 20 E9.bedtools.bed\n",
    "\n",
    "diff E9.bed E9.bedtools.bed"
   ]
  },
  {
   "cell_type": "code",
   "execution_count": 432,
   "metadata": {},
   "outputs": [
    {
     "name": "stdout",
     "output_type": "stream",
     "text": [
      "Overwriting files/test_tracks/bed1.bed\n"
     ]
    }
   ],
   "source": [
    "%%writefile files/test_tracks/bed1.bed\n",
    "chr16\t60400\t61400\tE9\n",
    "chr16\t72600\t72800\tE9\n",
    "chr16\t115200\t116000\tE9\n",
    "chr16\t146400\t147400\tE9\n",
    "chr16\t156600\t157600\tE9\n",
    "chr16\t167800\t168200\tE9\n",
    "chr16\t232200\t232400\tE9\n",
    "chr16\t412000\t412600\tE9\n",
    "chr16\t441800\t442200\tE9\n",
    "chr16\t486400\t486800\tE9\n",
    "chr16\t537600\t538000\tE9\n",
    "chr16\t597000\t597600\tE9\n",
    "chr16\t629000\t629400\tE9\n",
    "chr16\t661000\t661600\tE9\n",
    "chr16\t710800\t711200\tE9\n",
    "chr16\t711600\t711800\tE9\n",
    "chr16\t736200\t736400\tE9\n",
    "chr16\t761200\t763200\tE9\n",
    "chr16\t835400\t836200\tE9\n",
    "chr16\t1019400\t1019600\tE9"
   ]
  },
  {
   "cell_type": "code",
   "execution_count": 272,
   "metadata": {},
   "outputs": [
    {
     "name": "stdout",
     "output_type": "stream",
     "text": [
      "Writing files/test_tracks/bed2.bed\n"
     ]
    }
   ],
   "source": [
    "%%writefile files/test_tracks/bed2.bed\n",
    "chr16\t60400\t61400\tE9\n",
    "chr16\t72400\t72800\tE9\n",
    "chr16\t115000\t116400\tE9\n",
    "chr16\t146600\t147400\tE9\n",
    "chr16\t146610\t147400\tE8\n",
    "chr16\t155400\t158200\tE9\n",
    "chr16\t167800\t168800\tE9\n",
    "chr16\t231800\t232200\tE9\n",
    "chr16\t309000\t309200\tE9\n",
    "chr16\t353600\t354200\tE9\n",
    "chr16\t402200\t403200\tE9\n",
    "chr16\t412000\t412800\tE9\n",
    "chr16\t441800\t442200\tE9\n",
    "chr16\t508200\t508400\tE9\n",
    "chr16\t537400\t538200\tE9\n",
    "chr16\t596600\t597400\tE9\n",
    "chr16\t596700\t597400\tE8\n",
    "chr16\t596700\t597400\tE8\n",
    "chr16\t627800\t630600\tE9\n",
    "chr16\t660800\t661800\tE9\n",
    "chr16\t710800\t711800\tE9\n",
    "chr16\t717400\t718200\tE9\n",
    "chr16\t735800\t736800\tE9"
   ]
  },
  {
   "cell_type": "code",
   "execution_count": 431,
   "metadata": {},
   "outputs": [
    {
     "name": "stdout",
     "output_type": "stream",
     "text": [
      "Overwriting files/test_tracks/dnase1.peaks.bed\n"
     ]
    }
   ],
   "source": [
    "%%writefile files/test_tracks/dnase1.peaks.bed\n",
    "chr1\t770942\t771278\tchr1.9\t584\t.\t0.039\t1.79\t-1\t151\n",
    "chr1\t771678\t771933\tchr1.10\t568\t.\t0.0343\t1.56\t-1\t121\n",
    "chr1\t773279\t773398\tchr1.11\t555\t.\t0.0303\t1.38\t-1\t49\n",
    "chr1\t777497\t777598\tchr1.12\t553\t.\t0.0299\t1.36\t-1\t46\n",
    "chr1\t794051\t794336\tchr1.13\t569\t.\t0.0344\t1.57\t-1\t152\n",
    "chr1\t800514\t800667\tchr1.14\t549\t.\t0.0287\t 1.3\t-1\t34\n",
    "chr1\t805004\t805656\tchr1.15\t1000\t.\t0.3561\t16\t-1\t286\n",
    "chr16\t72620\t73427\tchr16.6\t1000\t.\t0.2652\t12.5\t-1\t256\n",
    "chr16\t74047\t74486\tchr16.7\t687\t.\t0.069\t 3.2\t-1\t213"
   ]
  },
  {
   "cell_type": "markdown",
   "metadata": {},
   "source": [
    "### Methods"
   ]
  },
  {
   "cell_type": "code",
   "execution_count": 261,
   "metadata": {},
   "outputs": [],
   "source": [
    "import re as re\n",
    "import subprocess\n",
    "\n",
    "def head(path, filename, lines=20):\n",
    "    \"\"\"\n",
    "    \"\"\"\n",
    "    i = 0\n",
    "    file = open(path + \"/\" + filename, \"r\")\n",
    "    for line in file:\n",
    "        print(line.strip())\n",
    "        i += 1\n",
    "        if i > lines:\n",
    "            break\n",
    "    file.close()\n",
    "\n",
    "def get_parts(bed_line, sep='\\t'):\n",
    "    \"\"\"\n",
    "    \"\"\"\n",
    "    bed_line_parts = bed_line.rstrip('\\n').split(sep)\n",
    "    return bed_line_parts[0], int(bed_line_parts[1]), int(bed_line_parts[2]), bed_line_parts[3]\n",
    "\n",
    "def concat_parts(chrom, start, end, feature, sep='\\t'):\n",
    "    \"\"\"\n",
    "    \"\"\"\n",
    "    bed_line = chrom + '\\t' + str(start) +  '\\t' + str(end) + '\\t' + feature + '\\n'\n",
    "    return bed_line\n",
    "\n",
    "def bed_coverage(path, filename, sep='\\t'):\n",
    "    \"\"\"\n",
    "    Returns the acummulated length of all the segments of the bed file filename\n",
    "    \"\"\"\n",
    "    i = 0\n",
    "    file = open(path + \"/\" + filename, \"r\")\n",
    "    coverage = 0 \n",
    "    for line in file:\n",
    "        _ , f1_segment_start, f1_segment_end, _ = get_parts(line)\n",
    "        coverage += f1_segment_end + f1_segment_start\n",
    "    file.close()\n",
    "    return coverage\n",
    "\n",
    "def bed_uniq_features(path, filename, output_filename, sep='\\t', sep2='+'):\n",
    "    \"\"\"\n",
    "    Returns the features whitout duplicates\n",
    "    \"\"\"\n",
    "    i = 0\n",
    "    file = open(path + \"/\" + filename, \"r\")\n",
    "    output_file = open(path + \"/\" + output_filename, \"w\")\n",
    "    for line in file:\n",
    "        chrom , output_start, output_end, segment_feature = get_parts(line)\n",
    "        features = segment_feature.split(\"+\")\n",
    "        output_feature = sep2.join(list(set(features)))\n",
    "        output_segment = concat_parts(chrom, output_start, output_end, output_feature)\n",
    "        output_file.write(output_segment)\n",
    "    file.close()\n",
    "    output_file.close()\n",
    "\n",
    "def bed_segment_count_by_re_feature(path, filename, re_feature, sep='\\t'):\n",
    "    \"\"\"\n",
    "    Returns the segment count by feature name of the bed file filename. \n",
    "    The feature is informed as a regexp\n",
    "    \"\"\"\n",
    "    i = 0\n",
    "    file = open(path + \"/\" + filename, \"r\")\n",
    "    segment_count = 0 \n",
    "    for line in file:\n",
    "        _ , _, _, segment_feature = get_parts(line)\n",
    "        if re.search(re_feature, segment_feature):\n",
    "            segment_count += 1\n",
    "    file.close()\n",
    "    return segment_count\n",
    "\n",
    "def intersect_bed(input_dir, input_file1, input_file2, output_dir, output_file, chrom=\"chr16\", \n",
    "                  f1_feature_filter=\"\", f2_feature_filter=\"\", output_feature=\"\", sep='\\t',\n",
    "                  drop_feature_threshold=20, output_mode=\"intersect\"):  \n",
    "    \"\"\"\n",
    "        If output node is intersect, returns the intersected bed segments\n",
    "        If output mode is annotate, returns all the segments of input_file1 \n",
    "    tagged if it's the case with the feature defined in output_feature concatenated with '+'.\n",
    "        If output_feature is not informed, the name is tagged with the file 2 feature.\n",
    "    separate string. This lets visualize multiple overlaps as labels in genome browser in one only track.\n",
    "        f1_feature_filter and f2_feature_filter if informed get from the input file only the names \n",
    "        (4th column of the bed file) that match.\n",
    "        Parameter chrom lets also to filter the desired chromosome (column 1)\n",
    "        \n",
    "        The segments shorter than  drop_feature_threshold are excluded from the output.\n",
    "    \"\"\"\n",
    "    f1_segments = open(input_dir + \"/\" + input_file1, \"r\")\n",
    "    f2_segments = open(input_dir + \"/\" + input_file2, \"r\")\n",
    "    output_segments = open(output_dir + \"/\" + output_file, \"w\")\n",
    "    f1_segment = f1_segments.readline()]\n",
    "    f2_segment = f2_segments.readline()\n",
    "    while(f1_segment != \"\" and f2_segment != \"\"):\n",
    "        f1_chrom, f1_segment_start, f1_segment_end, f1_feature = get_parts(f1_segment)\n",
    "        f2_chrom, f2_segment_start, f2_segment_end, f2_feature = get_parts(f2_segment)\n",
    "        # Filter f1 and read f1\n",
    "        if f1_chrom != chrom or (f1_feature_filter != \"\" and f1_feature != f1_feature_filter):\n",
    "            f1_segment = f1_segments.readline()\n",
    "        # Filter f2 and read f2\n",
    "        elif f2_chrom != chrom or (f2_feature_filter != \"\" and f2_feature != f2_feature_filter):\n",
    "            f2_segment = f2_segments.readline()\n",
    "        # f2 segment downstream f1 segment\n",
    "        elif f2_segment_start > f1_segment_end:\n",
    "            if output_mode == \"annotate\" and drop_feature_threshold < f1_segment_end - f1_segment_start:\n",
    "                output_segment = concat_parts(chrom, f1_segment_start, f1_segment_end, f1_feature)\n",
    "                output_segments.write(output_segment)\n",
    "            f1_segment = f1_segments.readline() \n",
    "        # f1 segment downstream f2 segment\n",
    "        elif f1_segment_start > f2_segment_end:\n",
    "            f2_segment = f2_segments.readline()\n",
    "        else: # Overlap\n",
    "            # Save intersect\n",
    "            if output_mode == \"intersect\":\n",
    "                output_start = max(f1_segment_start, f2_segment_start)\n",
    "                output_end =  min(f2_segment_end, f1_segment_end)\n",
    "                if drop_feature_threshold < output_end - output_start:\n",
    "                    output_segment = concat_parts(chrom, output_start, output_end, output_feature)\n",
    "                    output_segments.write(output_segment)\n",
    "                # Advance f1\n",
    "                if f2_segment_end >= f1_segment_end:\n",
    "                    f1_segment = f1_segments.readline()\n",
    "                # Advance f2\n",
    "                elif f1_segment_end > f2_segment_end:\n",
    "                    f2_segment = f2_segments.readline()\n",
    "            # Annotate mode: save f1, advance f1, advance f2\n",
    "            else: \n",
    "                if output_feature == \"as_file2\":\n",
    "                    feature = f1_feature + \"+\" + f2_feature\n",
    "                elif output_feature != \"\":\n",
    "                    feature = f1_feature + \"+\" + output_feature\n",
    "                else:\n",
    "                    feature = f1_feature\n",
    "                if drop_feature_threshold < f1_segment_end - f1_segment_start:\n",
    "                    output_segment = concat_parts(chrom, f1_segment_start, f1_segment_end, feature)\n",
    "                    output_segments.write(output_segment)\n",
    "                # Advance f1\n",
    "                f1_segment = f1_segments.readline()\n",
    "                # Advance f2\n",
    "                if f1_segment_end > f2_segment_end:\n",
    "                    f2_segment = f2_segments.readline()\n",
    "    while(output_mode == \"annotate\" and f1_segment != \"\"):\n",
    "        output_segments.write(f1_segment)\n",
    "        f1_segment = f1_segments.readline()\n",
    "        \n",
    "    f1_segments.close()\n",
    "    f2_segments.close()\n",
    "    output_segments.close()\n"
   ]
  },
  {
   "cell_type": "markdown",
   "metadata": {},
   "source": [
    "### Tests"
   ]
  },
  {
   "cell_type": "code",
   "execution_count": 278,
   "metadata": {},
   "outputs": [
    {
     "name": "stdout",
     "output_type": "stream",
     "text": [
      "Passed test 1\n",
      "chr16\t0\t100\tA\n",
      "chr16\t200\t210\tA\n",
      "Threshold 0\n",
      "Result [['chr16', '0', '100', 'A'], ['chr16', '200', '210', 'A']]\n",
      "Expected result [['chr16', '0', '100', 'A'], ['chr16', '200', '210', 'A']]\n",
      "bedtools intersect -wa  -a files/test_tracks/test1.bed -b files/test_tracks/test2.bed > files/test_tracks/bedtools_test_result.bed\n",
      "Bedtools 0 b''\n",
      "bedtools intersect -v -a files/test_tracks/test1.bed -b files/test_tracks/test2.bed >> files/test_tracks/bedtools_test_result.bed\n",
      "Bedtools 0 b''\n",
      "cat files/test_tracks/bedtools_test_result.bed | sort -k 1,3 -h | diff files/test_tracks/test_result.bed -\n",
      "cat files/test_tracks/bedtools_test_result.bed | sort -k 1,3 -h | diff files/test_tracks/test_result.bed -\n",
      "Diff 0 b''\n",
      "Passed test 1\n",
      "Passed test 2\n",
      "Passed test 3\n",
      "Passed test 4\n",
      "Passed test 5\n",
      "Passed test 6\n",
      "Passed test 7\n",
      "Passed test 8\n",
      "Passed test 9\n",
      "Passed test 10\n",
      "Passed test 11\n",
      "Passed test 12\n",
      "Passed test 13\n",
      "chr16\t4033000\t4033400\tE9+genes\n",
      "chr16\t4042200\t4042600\tE9+genes\n",
      "chr16\t4250200\t4250400\tE9+genes\n",
      "Threshold 0\n",
      "Result [['chr16', '4033000', '4033400', 'E9+genes'], ['chr16', '4042200', '4042600', 'E9+genes'], ['chr16', '4250200', '4250400', 'E9+genes']]\n",
      "Expected result [['chr16', '4033000', '4033400', 'E9+genes'], ['chr16', '4042200', '4042600', 'E9+genes'], ['chr16', '4250200', '4250400', 'E9+genes']]\n",
      "Passed test 14\n",
      " \n",
      "Passed All 15 Test\n"
     ]
    }
   ],
   "source": [
    "TEST_PATH = \"files/test_tracks\"\n",
    "F1_FILE_TEST = \"test1.bed\"\n",
    "F2_FILE_TEST = \"test2.bed\"\n",
    "FILE_OUTPUT_TEST = \"test_result.bed\"\n",
    "STATE = \"E9\"\n",
    "CHROM = \"chr16\"\n",
    "SEP = '\\t'\n",
    "DROP = 0\n",
    "\n",
    "failed = 0\n",
    "passed = 0\n",
    "launched = 0\n",
    "\n",
    "def create_testfile(segments, test_path, test_file):\n",
    "    \"\"\"\n",
    "    \"\"\"\n",
    "    output_segments = open(test_path + \"/\" + test_file, \"w\")\n",
    "    for segment in segments:\n",
    "        output_segment = concat_parts(segment[0], segment[1], segment[2], segment[3])\n",
    "        output_segments.write(output_segment)\n",
    "    output_segments.close()\n",
    "\n",
    "def read_testfile(test_path, test_file):\n",
    "    \"\"\"\n",
    "    \"\"\"\n",
    "    file_segments = open(test_path + \"/\" + test_file, \"r\")\n",
    "    segments = []\n",
    "    segment = file_segments.readline()\n",
    "    while(segment != \"\"):\n",
    "        chrom, segment_start, segment_end, feature = get_parts(segment)\n",
    "        segments.append([chrom, str(segment_start), str(segment_end), feature])\n",
    "        segment = file_segments.readline()\n",
    "    file_segments.close()\n",
    "    return segments\n",
    "\n",
    "def do_test(test_number, segments_1, segments_2, test_expected_result, \n",
    "            verbose=True, mode=\"intersect\", output_feature=\"output_feature\",\n",
    "            test_path=TEST_PATH, f1_file_test=F1_FILE_TEST, f2_file_test=F2_FILE_TEST,\n",
    "            file_output_test=FILE_OUTPUT_TEST, \n",
    "            chrom=CHROM, f1_feature_filter=\"\", f2_feature_filter=\"\",\n",
    "            drop_feature_threshold=DROP, with_bedtools_check=False):\n",
    "    global failed, passed, launched\n",
    "    try:\n",
    "        launched += 1\n",
    "        create_testfile(segments_1, test_path, f1_file_test)\n",
    "        create_testfile(segments_2, test_path, f2_file_test)\n",
    "        intersect_bed(test_path, f1_file_test, f2_file_test, test_path, \n",
    "                        file_output_test, chrom=chrom, \n",
    "                        f1_feature_filter=f1_feature_filter, f2_feature_filter=f2_feature_filter, \n",
    "                        output_feature=output_feature, \n",
    "                        sep=SEP, drop_feature_threshold=drop_feature_threshold, output_mode=mode)\n",
    "        if verbose: head(test_path, file_output_test, 20)\n",
    "        output_segments = read_testfile(test_path, file_output_test)\n",
    "        if verbose: print(\"Threshold\", drop_feature_threshold)\n",
    "        if verbose: print(\"Result\", output_segments)\n",
    "        if verbose: print(\"Expected result\", test_expected_result)\n",
    "        assert output_segments == test_expected_result, \"Unexpected segments\"\n",
    "        if with_bedtools_check:\n",
    "            # Check result agains bedtools\n",
    "            bedtools_cmd = \"bedtools intersect\"\n",
    "            if mode != \"intersect\" : bedtools_cmd += \" -wa \"\n",
    "            bedtools_cmd += \" -a \" + test_path + \"/\" + f1_file_test + \" -b \" + test_path + \"/\" + f2_file_test + \" > \" + test_path + \"/\" + \"bedtools_\" + file_output_test \n",
    "            if verbose: print(bedtools_cmd)\n",
    "            p = subprocess.run(bedtools_cmd, shell = True, stdout = subprocess.PIPE)\n",
    "            if verbose: print(\"Bedtools\", p.returncode, p.stdout)\n",
    "            assert p.returncode == 0 and p.stdout == b'', \"Bedtools command has failed\"\n",
    "            if mode != \"intersect\" : \n",
    "                bedtools_cmd = \"bedtools intersect -v\"\n",
    "                bedtools_cmd += \" -a \" + test_path + \"/\" + f1_file_test + \" -b \" + test_path + \"/\" + f2_file_test + \" >> \" + test_path + \"/\" + \"bedtools_\" + file_output_test \n",
    "                if verbose: print(bedtools_cmd)\n",
    "                p = subprocess.run(bedtools_cmd, shell = True, stdout = subprocess.PIPE)\n",
    "                if verbose: print(\"Bedtools\", p.returncode, p.stdout)\n",
    "                assert p.returncode == 0 and p.stdout == b'', \"Bedtools command 2 has failed\"\n",
    "                diff_cmd = \"cat \" +  test_path + \"/\" + \"bedtools_\" + file_output_test + \" | sort -k 1,3 -h | diff \" + test_path + \"/\" + file_output_test + \" -\"\n",
    "            else:\n",
    "                diff_cmd = \"diff \" + test_path + \"/\" + file_output_test + \" \" + test_path + \"/\" + \"bedtools_\" + file_output_test\n",
    "            if verbose: print(diff_cmd)\n",
    "            p = subprocess.run(diff_cmd, shell = True, stdout = subprocess.PIPE)\n",
    "            if verbose: print(diff_cmd)\n",
    "            if verbose: print(\"Diff\", p.returncode, p.stdout)\n",
    "            assert p.returncode == 0 and p.stdout == b'', \"Diff command has failed\"\n",
    "        passed += 1\n",
    "        print (\"Passed test %s\" % (test_number))\n",
    "    except AssertionError:\n",
    "        print (\"Failed test %s: Result:\\n %s\\nExpected result:\\n %s\\n\"\n",
    "               % (test_number, output_segments, test_expected_result))\n",
    "        failed += 1\n",
    "        exit(1)\n",
    "\n",
    "# Test 1\n",
    "segments_1 = [[\"chr16\",\"0\",\"100\", \"A\"],\n",
    "              [\"chr16\",\"200\",\"210\", \"A\"]]\n",
    "segments_2 = [[\"chr16\",\"10\",\"50\", \"B\"]]\n",
    "test_expected_result = [[\"chr16\",\"10\",\"50\", \"A\"]]\n",
    "do_test(1, segments_1, segments_2, test_expected_result, verbose = False, with_bedtools_check = True,\n",
    "       output_feature = \"A\")\n",
    "\n",
    "# Test 1b\n",
    "segments_1 = [[\"chr16\",\"0\",\"100\", \"A\"],\n",
    "              [\"chr16\",\"200\",\"210\", \"A\"]]\n",
    "segments_2 = [[\"chr16\",\"10\",\"50\", \"B\"]]\n",
    "test_expected_result = [[\"chr16\",\"0\",\"100\", \"A\"],\n",
    "                        [\"chr16\",\"200\",\"210\", \"A\"]]\n",
    "do_test(1, segments_1, segments_2, test_expected_result, verbose = True, with_bedtools_check = True,\n",
    "       output_feature = \"\", mode = \"annotate\")\n",
    "\n",
    "# Test 2\n",
    "test_expected_result = [[\"chr16\",\"0\",\"100\", \"A+output_feature\"],\n",
    "                        [\"chr16\",\"200\",\"210\", \"A\"]]\n",
    "do_test(2, segments_1, segments_2, test_expected_result, False, \"annotate\")\n",
    "\n",
    "# Test 3\n",
    "segments_1 = [[\"chr16\",\"0\",\"100\", \"A\"],\n",
    "              [\"chr16\",\"200\",\"210\", \"A\"]]\n",
    "segments_2 = [[\"chr16\",\"10\",\"20\", \"B\"],\n",
    "              [\"chr16\",\"30\",\"50\", \"B\"]]\n",
    "test_expected_result = [[\"chr16\",\"0\",\"100\", \"A+output_feature\"],\n",
    "                        [\"chr16\",\"200\",\"210\", \"A\"]]\n",
    "do_test(3, segments_1, segments_2, test_expected_result, False, \"annotate\")\n",
    "\n",
    "# Test 4\n",
    "segments_1 = [[\"chr16\",\"0\",\"100\", \"A\"],\n",
    "              [\"chr16\",\"200\",\"210\", \"A\"]]\n",
    "segments_2 = [[\"chr16\",\"10\",\"20\", \"B\"],\n",
    "              [\"chr16\",\"30\",\"50\", \"B\"]]\n",
    "test_expected_result = [[\"chr16\",\"10\",\"20\", \"output_feature\"],\n",
    "                        [\"chr16\",\"30\",\"50\", \"output_feature\"]]\n",
    "do_test(4, segments_1, segments_2, test_expected_result, False, \"intersect\")\n",
    "\n",
    "# Test 5\n",
    "segments_1 = [[\"chr16\",\"0\",\"100\", \"A\"],\n",
    "              [\"chr16\",\"200\",\"210\", \"A\"]]\n",
    "segments_2 = []\n",
    "test_expected_result = []\n",
    "do_test(5, segments_1, segments_2, test_expected_result, False, \"intersect\")\n",
    "\n",
    "# Test 6\n",
    "segments_1 = [[\"chr16\",\"0\",\"100\", \"A\"],\n",
    "              [\"chr16\",\"200\",\"210\", \"A\"]]\n",
    "segments_2 = []\n",
    "test_expected_result = segments_1\n",
    "do_test(6, segments_1, segments_2, test_expected_result, False, \"annotate\")\n",
    "\n",
    "# Test 7\n",
    "segments_1 = []\n",
    "segments_2 = []\n",
    "test_expected_result = segments_1\n",
    "do_test(7, segments_1, segments_2, test_expected_result, False, \"annotate\")\n",
    "\n",
    "# Test 8\n",
    "segments_1 = []\n",
    "segments_2 = []\n",
    "test_expected_result = segments_1\n",
    "do_test(8, segments_1, segments_2, test_expected_result, False, \"intersect\")\n",
    "\n",
    "# Test 9\n",
    "segments_1 = [[\"chr8\",\"0\",\"100\", \"A\"],\n",
    "              [\"chr8\",\"100\",\"150\", \"A\"],\n",
    "              [\"chr16\",\"200\",\"210\", \"A\"],\n",
    "              [\"chr16\",\"300\",\"1000\", \"A\"]]\n",
    "segments_2 = [[\"chr16\",\"50\",\"500\", \"B\"],\n",
    "              [\"chr16\",\"600\",\"800\", \"B\"]]\n",
    "test_expected_result = [[\"chr16\",\"200\",\"210\", \"A+output_feature\"],\n",
    "                        [\"chr16\",\"300\",\"1000\", \"A+output_feature\"]]\n",
    "do_test(9, segments_1, segments_2, test_expected_result, False, \"annotate\")\n",
    "\n",
    "# Test 10\n",
    "segments_1 = [[\"chr8\",\"0\",\"100\", \"A\"],\n",
    "              [\"chr8\",\"100\",\"150\", \"A\"],\n",
    "              [\"chr16\",\"200\",\"210\", \"A\"],\n",
    "              [\"chr16\",\"300\",\"1000\", \"A\"]]\n",
    "segments_2 = [[\"chr16\",\"50\",\"500\", \"B\"],\n",
    "              [\"chr16\",\"600\",\"800\", \"B\"]]\n",
    "test_expected_result = [[\"chr16\",\"200\",\"210\", \"output_feature\"],\n",
    "                        [\"chr16\",\"300\",\"500\", \"output_feature\"],\n",
    "                        [\"chr16\",\"600\",\"800\", \"output_feature\"]]\n",
    "do_test(10, segments_1, segments_2, test_expected_result, False, \"intersect\")\n",
    "\n",
    "# Test 11\n",
    "test_expected_result = [[\"chr16\",\"300\",\"500\", \"output_feature\"],\n",
    "                        [\"chr16\",\"600\",\"800\", \"output_feature\"]]\n",
    "do_test(11, segments_1, segments_2, test_expected_result, False, \"intersect\", drop_feature_threshold=30)\n",
    "\n",
    "# Test 12\n",
    "segments_1 = [[\"chr8\",\"0\",\"100\", \"A\"],\n",
    "              [\"chr8\",\"100\",\"150\", \"A\"],\n",
    "              [\"chr16\",\"200\",\"300\", \"A\"],\n",
    "              [\"chr16\",\"210\",\"320\", \"A\"]]\n",
    "segments_2 = [[\"chr16\",\"210\",\"250\", \"B\"],\n",
    "              [\"chr16\",\"305\",\"320\", \"B\"]]\n",
    "test_expected_result = [[\"chr16\",\"210\",\"250\", \"output_feature\"],\n",
    "                        [\"chr16\",\"305\",\"320\", \"output_feature\"]]\n",
    "do_test(12, segments_1, segments_2, test_expected_result, False, \"intersect\")\n",
    "\n",
    "# Test 13\n",
    "segments_1 = [[\"chr16\",\"0\",\"100\", \"E9\"],\n",
    "              [\"chr16\",\"200\",\"300\", \"E9\"]]\n",
    "segments_2 = [[\"chr16\",\"0\",\"1000\", \"bbb\"]]\n",
    "test_expected_result = [[\"chr16\",\"0\",\"100\", \"E9+genes\"],\n",
    "                        [\"chr16\",\"200\",\"300\", \"E9+genes\"]]\n",
    "do_test(13, segments_1, segments_2, test_expected_result, False, \"annotate\", output_feature=\"genes\")\n",
    "\n",
    "# Test 14\n",
    "segments_1 = [[\"chr16\",\"4033000\",\"4033400\", \"E9\"],\n",
    "              [\"chr16\",\"4042200\",\"4042600\", \"E9\"],\n",
    "              [\"chr16\",\"4250200\",\"4250400\", \"E9\"]]\n",
    "\n",
    "segments_2 = [[\"chr16\",\"4012649\",\"4166186\", \"bbb\"],\n",
    "              [\"chr16\", \"4239374\", \"4292081\", \"bbb\"]]\n",
    "test_expected_result = [['chr16', '4033000', '4033400', 'E9+genes'], \n",
    "                        ['chr16', '4042200', '4042600', 'E9+genes'],\n",
    "                        ['chr16', '4250200', '4250400', 'E9+genes']]\n",
    "do_test(14, segments_1, segments_2, test_expected_result, True, \"annotate\", output_feature=\"genes\")\n",
    "\n",
    "print(\" \")\n",
    "if launched == passed: print(\"Passed All %s Test\" %(passed))\n",
    "else: print(\"ERROR: There are failed tests\")"
   ]
  },
  {
   "cell_type": "markdown",
   "metadata": {},
   "source": [
    "### CTCF segments"
   ]
  },
  {
   "cell_type": "code",
   "execution_count": null,
   "metadata": {},
   "outputs": [],
   "source": [
    "PATH = \"files/tracks\"\n",
    "M1_FILE = \"Monocyte1_11_Master_11_segments.bed\"\n",
    "M2_FILE = \"Monocyte2_11_Master_11_segments.bed\"\n",
    "CHROM = \"chr16\"\n",
    "STATE = \"E9\"\n",
    "intersect_bed(PATH, M1_FILE, M2_FILE, PATH, STATE + \".bed\", chrom=CHROM, \n",
    "                  f1_feature_filter = STATE, f2_feature_filter = STATE, output_feature = STATE, sep=SEP,\n",
    "                  drop_feature_threshold = 10)\n",
    "\n",
    "head(PATH, STATE + \".bed\", 10)\n",
    "print(\"Output file:\", STATE + \".bed\")"
   ]
  },
  {
   "cell_type": "markdown",
   "metadata": {},
   "source": [
    "### Test against bedtools\n",
    "\n",
    "We check there is no difference between the intersect file generated by bedtools and our file"
   ]
  },
  {
   "cell_type": "code",
   "execution_count": 223,
   "metadata": {},
   "outputs": [],
   "source": [
    "%%bash\n",
    "cd files/tracks\n",
    "cat Monocyte1_11_Master_11_segments.bed | grep 'chr16' | grep 'E9' | sort -k 2,3 -h > monocyte1_segments.bed\n",
    "cat Monocyte2_11_Master_11_segments.bed | grep 'chr16' | grep 'E9' | sort -k 2,3 -h > monocyte2_segments.bed\n",
    "bedtools intersect -a monocyte1_segments.bed -b monocyte2_segments.bed > E9.bedtools.bed"
   ]
  },
  {
   "cell_type": "code",
   "execution_count": 224,
   "metadata": {},
   "outputs": [],
   "source": [
    "p = subprocess.run(\"diff files/tracks/E9.bed files/tracks/E9.bedtools.bed\", shell=True, stdout=subprocess.PIPE)\n",
    "#print(p.returncode, p.stdout)\n",
    "assert p.returncode == 0 and p.stdout == b'', \"The files are different\""
   ]
  },
  {
   "cell_type": "markdown",
   "metadata": {
    "lang": "en"
   },
   "source": [
    "## Segment annotation\n",
    "Annotate the segments. At a minimum, the percentage of segments that overlap with protein-coding genes in said chromosome should be given."
   ]
  },
  {
   "cell_type": "markdown",
   "metadata": {},
   "source": [
    "### Tracks to annotate\n",
    "The tracks are obtained from https://genome.ucsc.edu/cgi-bin/hgTables\n",
    "\n",
    "![Table browser](table_browser.png \"Table browser\")"
   ]
  },
  {
   "cell_type": "markdown",
   "metadata": {},
   "source": [
    "### Annotate gene overlap"
   ]
  },
  {
   "cell_type": "code",
   "execution_count": 279,
   "metadata": {},
   "outputs": [
    {
     "name": "stdout",
     "output_type": "stream",
     "text": [
      "chr16\t60400\t61400\tE9\n",
      "chr16\t72600\t72800\tE9\n",
      "chr16\t115200\t116000\tE9+genes\n",
      "chr16\t146600\t147400\tE9+genes\n",
      "chr16\t156600\t157600\tE9+genes\n",
      "chr16\t167800\t168200\tE9+genes\n",
      "chr16\t412000\t412600\tE9\n",
      "chr16\t441800\t442200\tE9+genes\n",
      "chr16\t537600\t538000\tE9+genes\n",
      "chr16\t597000\t597400\tE9+genes\n",
      "chr16\t629000\t629400\tE9+genes\n",
      "\n",
      "Count of state segments overlapped: 220\n",
      "Count of all state segments 468\n",
      "Percent overlapped state segments over total segments: 47.00854700854701\n",
      "Output file: E9_genes.bed\n"
     ]
    }
   ],
   "source": [
    "OUTPUT_FEATURE = \"genes\"\n",
    "INPUT_FILE = STATE + \".bed\"\n",
    "OUTPUT_FILE = STATE + \"_\" + OUTPUT_FEATURE + \".bed\"\n",
    "ANNOTATION_TRACK = \"hg19_genes_sorted.bed\"\n",
    "intersect_bed(PATH, INPUT_FILE, ANNOTATION_TRACK,\n",
    "                  PATH, OUTPUT_FILE, chrom = CHROM, \n",
    "                  f1_feature_filter = \"\", f2_feature_filter=\"\", \n",
    "                  output_feature = OUTPUT_FEATURE, sep=SEP,\n",
    "                  drop_feature_threshold = 0, output_mode=\"annotate\")\n",
    "head(PATH, OUTPUT_FILE, 10)\n",
    "\n",
    "overlap_segment_count = bed_segment_count_by_re_feature(PATH, OUTPUT_FILE, OUTPUT_FEATURE)\n",
    "print(\"\")\n",
    "print(\"Count of state segments overlapped:\", overlap_segment_count)\n",
    "total_segment_count = bed_segment_count_by_re_feature(PATH, OUTPUT_FILE, \"\")\n",
    "print(\"Count of all state segments\", total_segment_count)\n",
    "print(\"Percent overlapped state segments over total segments:\", \n",
    "      overlap_segment_count * 100 / total_segment_count)\n",
    "print(\"Output file:\", OUTPUT_FILE)"
   ]
  },
  {
   "cell_type": "markdown",
   "metadata": {},
   "source": [
    "#### Test against bedtools\n",
    "\n",
    "We check there is no difference between the intersect file generated by bedtools and our file"
   ]
  },
  {
   "cell_type": "code",
   "execution_count": 280,
   "metadata": {},
   "outputs": [
    {
     "name": "stdout",
     "output_type": "stream",
     "text": [
      "OK\n"
     ]
    }
   ],
   "source": [
    "%%bash\n",
    "cd files/tracks\n",
    "bedtools annotate -i E9.bed -files hg19_genes_sorted.bed | sort -k1,1 -k2,3n | grep -v '0.000000' | cut -f 1,2,3 > E9_genes.bedtools.bed\n",
    "grep 'genes' E9_genes.bed | cut -f 1,2,3 | diff - E9_genes.bedtools.bed\n",
    "error=$?\n",
    "if [ $error -eq 2 ]\n",
    "then\n",
    "   echo \"Error in diff command\"\n",
    "elif [ $error -eq 1 ]\n",
    "then\n",
    "   echo \"Files differ\"\n",
    "else\n",
    "   echo \"OK\"\n",
    "fi"
   ]
  },
  {
   "cell_type": "markdown",
   "metadata": {},
   "source": [
    "### Annotate exon overlap"
   ]
  },
  {
   "cell_type": "code",
   "execution_count": 284,
   "metadata": {},
   "outputs": [
    {
     "name": "stdout",
     "output_type": "stream",
     "text": [
      "chr16\t60400\t61400\tE9\n",
      "chr16\t72600\t72800\tE9\n",
      "chr16\t115200\t116000\tE9+genes\n",
      "chr16\t146600\t147400\tE9+genes\n",
      "chr16\t156600\t157600\tE9+genes\n",
      "chr16\t167800\t168200\tE9+genes\n",
      "chr16\t412000\t412600\tE9\n",
      "chr16\t441800\t442200\tE9+genes\n",
      "chr16\t537600\t538000\tE9+genes\n",
      "chr16\t597000\t597400\tE9+genes+exons\n",
      "chr16\t629000\t629400\tE9+genes+exons\n",
      "\n",
      "Count of state segments overlapped: 41\n",
      "Count of all state segments 468\n",
      "Percent overlapped state segments over total segments: 8.760683760683762\n",
      "Output file: E9_exons_genes.bed\n"
     ]
    }
   ],
   "source": [
    "OUTPUT_FEATURE = \"exons\"\n",
    "INPUT_FILE = STATE + \"_genes.bed\"\n",
    "OUTPUT_FILE = STATE + \"_\" + OUTPUT_FEATURE + \"_genes.bed\"\n",
    "ANNOTATION_TRACK = \"hg19_coding_exons_sorted.bed\" \n",
    "intersect_bed(PATH, INPUT_FILE, ANNOTATION_TRACK, \n",
    "                  PATH, OUTPUT_FILE, chrom = CHROM, \n",
    "                  f1_feature_filter = \"\", f2_feature_filter=\"\", \n",
    "                  output_feature = OUTPUT_FEATURE, sep=SEP,\n",
    "                  drop_feature_threshold = 10, output_mode=\"annotate\")\n",
    "head(PATH, OUTPUT_FILE, 10)\n",
    "\n",
    "overlap_segment_count = bed_segment_count_by_re_feature(PATH, OUTPUT_FILE, OUTPUT_FEATURE)\n",
    "print(\"\")\n",
    "print(\"Count of state segments overlapped:\", overlap_segment_count)\n",
    "total_segment_count = bed_segment_count_by_re_feature(PATH, OUTPUT_FILE, \"\")\n",
    "print(\"Count of all state segments\", total_segment_count)\n",
    "print(\"Percent overlapped state segments over total segments:\", \n",
    "      overlap_segment_count * 100 / total_segment_count)\n",
    "print(\"Output file:\", OUTPUT_FILE)"
   ]
  },
  {
   "cell_type": "markdown",
   "metadata": {},
   "source": [
    "### Annotate upstream 200 overlap"
   ]
  },
  {
   "cell_type": "code",
   "execution_count": 285,
   "metadata": {},
   "outputs": [
    {
     "name": "stdout",
     "output_type": "stream",
     "text": [
      "chr16\t60400\t61400\tE9+up200\n",
      "chr16\t72600\t72800\tE9+up200\n",
      "chr16\t115200\t116000\tE9+genes\n",
      "chr16\t146600\t147400\tE9+genes\n",
      "chr16\t156600\t157600\tE9+genes\n",
      "chr16\t167800\t168200\tE9+genes\n",
      "chr16\t412000\t412600\tE9\n",
      "chr16\t441800\t442200\tE9+genes\n",
      "chr16\t537600\t538000\tE9+genes\n",
      "chr16\t597000\t597400\tE9+genes+exons\n",
      "chr16\t629000\t629400\tE9+genes+exons\n",
      "\n",
      "Count of state segments overlapped: 20\n",
      "Count of all state segments 468\n",
      "Percent overlapped state segments over total segments: 4.273504273504273\n",
      "Output file: E9_up200_exons_genes.bed\n"
     ]
    }
   ],
   "source": [
    "OUTPUT_FEATURE = \"up200\"\n",
    "INPUT_FILE = STATE + \"_exons_genes.bed\"\n",
    "OUTPUT_FILE = STATE + \"_\" + OUTPUT_FEATURE + \"_exons_genes.bed\"\n",
    "ANNOTATION_TRACK = \"hg19_up200_sorted.bed\" \n",
    "intersect_bed(PATH, INPUT_FILE, ANNOTATION_TRACK, \n",
    "                  PATH, OUTPUT_FILE, chrom = CHROM, \n",
    "                  f1_feature_filter = \"\", f2_feature_filter=\"\", \n",
    "                  output_feature = OUTPUT_FEATURE, sep=SEP,\n",
    "                  drop_feature_threshold = 10, output_mode=\"annotate\")\n",
    "head(PATH, OUTPUT_FILE, 10)\n",
    "\n",
    "overlap_segment_count = bed_segment_count_by_re_feature(PATH, OUTPUT_FILE, OUTPUT_FEATURE)\n",
    "print(\"\")\n",
    "print(\"Count of state segments overlapped:\", overlap_segment_count)\n",
    "total_segment_count = bed_segment_count_by_re_feature(PATH, OUTPUT_FILE, \"\")\n",
    "print(\"Count of all state segments\", total_segment_count)\n",
    "print(\"Percent overlapped state segments over total segments:\", \n",
    "      overlap_segment_count * 100 / total_segment_count)\n",
    "print(\"Output file:\", OUTPUT_FILE)"
   ]
  },
  {
   "cell_type": "markdown",
   "metadata": {},
   "source": [
    "### Is the CTCFB intergenic?"
   ]
  },
  {
   "cell_type": "code",
   "execution_count": null,
   "metadata": {},
   "outputs": [],
   "source": [
    "%%bash\n",
    "cd files/tracks\n",
    "echo \"Count of E9 segments contained completely in gene segments\"\n",
    "bedtools annotate -i E9.bed -files hg19_genes_sorted.bed | grep -c '1.000000'\n",
    "echo \"Count of E9 segments out of gene segments\"\n",
    "bedtools annotate -i E9.bed -files hg19_genes_sorted.bed | grep -c '0.000000'\n",
    "echo \"Count of E9 segments overlaping gene segments\"\n",
    "bedtools annotate -i E9.bed -files hg19_genes_sorted.bed | grep -v '0.000000' | grep -c -v '1.00000'\n",
    "#grep 'hypo' E9_hypo_hyper.bed | cut -f 1,2,3 | diff - E9_hypo.bedtools.bed > /dev/null 2>&1\n",
    "echo \"Some intergenic segments\"\n",
    "bedtools annotate -i E9.bed -files hg19_genes_sorted.bed | grep '0.000000' | head\n",
    "echo \"Some intragenic segments\"\n",
    "bedtools annotate -i E9.bed -files hg19_genes_sorted.bed | grep '1.000000' | head\n",
    "\n",
    "echo \"Monocyte 1 only to verify a possibly error\"\n",
    "echo \"Count of E9 segments contained completely in gene segments\"\n",
    "bedtools annotate -i monocyte1_segments.bed -files hg19_genes_sorted.bed | grep -c '1.000000'\n",
    "echo \"Count of E9 segments out of gene segments\"\n",
    "bedtools annotate -i monocyte1_segments.bed -files hg19_genes_sorted.bed | grep -c '0.000000'\n",
    "echo \"Count of E9 segments overlaping gene segments\"\n",
    "bedtools annotate -i monocyte1_segments.bed -files hg19_genes_sorted.bed | grep -v '0.000000' | grep -c -v '1.00000'\n",
    "\n"
   ]
  },
  {
   "cell_type": "markdown",
   "metadata": {
    "lang": "en"
   },
   "source": [
    "## DNASE I overlap\n",
    "\n",
    "Download the peaks of DNase I in monocytes of ENCODE for chr16 and calculate the percentage of overlap between DNaseI-peaks and your work segments. Use the file wgEncodeOpenChromDnaseMonocd14Pk.narrowPeak.gz in:\n",
    "http://hgdownload.cse.ucsc.edu/goldenpath/hg19/encodeDCC/wgEncodeOpenChromDnase"
   ]
  },
  {
   "cell_type": "markdown",
   "metadata": {},
   "source": [
    "### Tests"
   ]
  },
  {
   "cell_type": "code",
   "execution_count": 271,
   "metadata": {},
   "outputs": [
    {
     "name": "stdout",
     "output_type": "stream",
     "text": [
      "chr16\t72600\t72800\tE9+dnase1\n"
     ]
    }
   ],
   "source": [
    "intersect_bed(TEST_PATH, \"bed1.bed\", \"dnase1.peaks.bed\", TEST_PATH, \n",
    "                  STATE + \"_dnase1_test.bed\",\n",
    "                  chrom = CHROM, f1_feature_filter = STATE, f2_feature_filter = \"\", \n",
    "                  output_feature = \"dnase1\", sep=SEP,\n",
    "                  drop_feature_threshold=0, output_mode=\"\")\n",
    "head(TEST_PATH, STATE +\"_dnase1_test.bed\", 10)"
   ]
  },
  {
   "cell_type": "markdown",
   "metadata": {},
   "source": [
    "### Overlap"
   ]
  },
  {
   "cell_type": "markdown",
   "metadata": {},
   "source": [
    "#### Overlap by coverage\n",
    "\n",
    "Overlap calculated as percent ratio between sum of base pair overlapped and sum of total base pair covered by all the E9 segments. This method doesn't have much sense because it depends of the arbitrary sensitivity of the dna base segments (200 bps in the case of chromatin states)."
   ]
  },
  {
   "cell_type": "code",
   "execution_count": 272,
   "metadata": {},
   "outputs": [
    {
     "name": "stdout",
     "output_type": "stream",
     "text": [
      "chr16\t72620\t72800\tE9_dnase1_overlap\n",
      "chr16\t115448\t116000\tE9_dnase1_overlap\n",
      "chr16\t146819\t147400\tE9_dnase1_overlap\n",
      "chr16\t157056\t157367\tE9_dnase1_overlap\n",
      "chr16\t167800\t168118\tE9_dnase1_overlap\n",
      "chr16\t412000\t412600\tE9_dnase1_overlap\n",
      "chr16\t441800\t442200\tE9_dnase1_overlap\n",
      "chr16\t537761\t538000\tE9_dnase1_overlap\n",
      "chr16\t597000\t597400\tE9_dnase1_overlap\n",
      "chr16\t629000\t629400\tE9_dnase1_overlap\n",
      "chr16\t661000\t661548\tE9_dnase1_overlap\n",
      "\n",
      "Coverage DNASE peaks: 22653113851288 bps\n",
      "Coverage E9: 43366167200 bps\n",
      "Percent overlap over total coverage peaks: 0.19143578884866774\n",
      "Output file: E9_dnase1.bed\n"
     ]
    }
   ],
   "source": [
    "intersect_bed(PATH, STATE + \".bed\", \"wgEncodeOpenChromDnaseMonocd14Pk.narrowPeak.bed\", \n",
    "                  PATH, STATE + \"_dnase1.bed\", chrom = CHROM, \n",
    "                  f1_feature_filter = \"\", f2_feature_filter = \"\", \n",
    "                  output_feature = STATE + \"_dnase1_overlap\", sep = SEP,\n",
    "                  drop_feature_threshold = 10)\n",
    "head(PATH, STATE + \"_dnase1.bed\", 10)\n",
    "coverage_peaks = bed_coverage(PATH, \"wgEncodeOpenChromDnaseMonocd14Pk.narrowPeak.bed\", sep='\\t')\n",
    "coverage_state = bed_coverage(PATH, STATE + \".bed\", sep='\\t')\n",
    "print(\"\")\n",
    "print(\"Coverage DNASE peaks:\", coverage_peaks, \"bps\")\n",
    "print(\"Coverage E9:\", coverage_state, \"bps\")\n",
    "print(\"Percent overlap over total coverage peaks:\", coverage_state * 100 / coverage_peaks)\n",
    "print(\"Output file:\", STATE + \"_dnase1.bed\")"
   ]
  },
  {
   "cell_type": "markdown",
   "metadata": {},
   "source": [
    "#### Overlap by segment count\n",
    "\n",
    "Overlap calculated as percent ratio between segment count of overlapped E9-DNASE segments and total count of E9 segments."
   ]
  },
  {
   "cell_type": "code",
   "execution_count": 273,
   "metadata": {},
   "outputs": [
    {
     "name": "stdout",
     "output_type": "stream",
     "text": [
      "chr16\t60400\t61400\tE9\n",
      "chr16\t72600\t72800\tE9+dnase1\n",
      "chr16\t115200\t116000\tE9+dnase1\n",
      "chr16\t146600\t147400\tE9+dnase1\n",
      "chr16\t156600\t157600\tE9+dnase1\n",
      "chr16\t167800\t168200\tE9+dnase1\n",
      "chr16\t412000\t412600\tE9+dnase1\n",
      "chr16\t441800\t442200\tE9+dnase1\n",
      "chr16\t537600\t538000\tE9+dnase1\n",
      "chr16\t597000\t597400\tE9+dnase1\n",
      "chr16\t629000\t629400\tE9+dnase1\n",
      "\n",
      "Count of state segments overlapped: 342\n",
      "Count of all state segments 468\n",
      "Percent overlapped state segments over total segments: 73.07692307692308\n",
      "Output file: E9_dnase1.bed\n"
     ]
    }
   ],
   "source": [
    "OUTPUT_FEATURE = \"dnase1\"\n",
    "\n",
    "intersect_bed(PATH, STATE + \".bed\", \"wgEncodeOpenChromDnaseMonocd14Pk.narrowPeak.bed\", \n",
    "                  PATH, STATE + \"_dnase1.bed\", chrom = CHROM, \n",
    "                  f1_feature_filter = STATE, f2_feature_filter=\"\", \n",
    "                  output_feature = OUTPUT_FEATURE, sep=SEP,\n",
    "                  drop_feature_threshold = 10, output_mode=\"annotate\")\n",
    "head(PATH, STATE + \"_dnase1.bed\", 10)\n",
    "\n",
    "overlap_segment_count = bed_segment_count_by_re_feature(PATH, STATE + \"_dnase1.bed\", \n",
    "                                                        OUTPUT_FEATURE)\n",
    "print(\"\")\n",
    "print(\"Count of state segments overlapped:\", overlap_segment_count)\n",
    "total_segment_count = bed_segment_count_by_re_feature(PATH, STATE + \"_dnase1.bed\", \"\")\n",
    "print(\"Count of all state segments\", total_segment_count)\n",
    "print(\"Percent overlapped state segments over total segments:\", \n",
    "      overlap_segment_count * 100 / total_segment_count)\n",
    "print(\"Output file:\", STATE + \"_dnase1.bed\")"
   ]
  },
  {
   "cell_type": "markdown",
   "metadata": {},
   "source": [
    "![](genome_browser.png \"Genome browser visualization over genes\")"
   ]
  },
  {
   "cell_type": "markdown",
   "metadata": {},
   "source": [
    "#### Automated verifications"
   ]
  },
  {
   "cell_type": "code",
   "execution_count": 233,
   "metadata": {},
   "outputs": [],
   "source": [
    "segment_count_annotate = bed_segment_count_by_re_feature(PATH, STATE + \"_dnase1.bed\", \"\")\n",
    "segment_count = bed_segment_count_by_re_feature(PATH, STATE + \".bed\", \"\")\n",
    "assert segment_count_annotate == segment_count,\\\n",
    "        \"Count of annotated segments not equal to count of original segments\""
   ]
  },
  {
   "cell_type": "markdown",
   "metadata": {},
   "source": [
    "#### Visual inspection"
   ]
  },
  {
   "cell_type": "code",
   "execution_count": 234,
   "metadata": {},
   "outputs": [
    {
     "name": "stdout",
     "output_type": "stream",
     "text": [
      "Counts\n",
      "     468 files/tracks/E9_dnase1.bed\n",
      "     468 files/tracks/E9.bed\n",
      "chr16\t89233600\t89234800\tE9+dnase1\n",
      "chr16\t89527000\t89527400\tE9\n",
      "chr16\t89623800\t89624200\tE9+dnase1\n",
      "chr16\t89707800\t89708000\tE9+dnase1\n",
      "chr16\t89772400\t89772600\tE9+dnase1\n",
      "chr16\t89927000\t89927800\tE9+dnase1\n",
      "chr16\t89976600\t89977000\tE9+dnase1\n",
      "chr16\t90092400\t90092800\tE9+dnase1\n",
      "chr16\t90182400\t90183000\tE9\n",
      "chr16\t90281600\t90282000\tE9\n",
      "\n",
      "chr16\t89233600\t89234800\tE9\n",
      "chr16\t89527000\t89527400\tE9\n",
      "chr16\t89623800\t89624200\tE9\n",
      "chr16\t89707800\t89708000\tE9\n",
      "chr16\t89772400\t89772600\tE9\n",
      "chr16\t89927000\t89927800\tE9\n",
      "chr16\t89976600\t89977000\tE9\n",
      "chr16\t90092400\t90092800\tE9\n",
      "chr16\t90182400\t90183000\tE9\n",
      "chr16\t90281600\t90282000\tE9\n",
      "\n",
      "chr16\t60400\t61400\tE9\n",
      "chr16\t72600\t72800\tE9+dnase1\n",
      "chr16\t115200\t116000\tE9+dnase1\n",
      "chr16\t146600\t147400\tE9+dnase1\n",
      "chr16\t156600\t157600\tE9+dnase1\n",
      "chr16\t167800\t168200\tE9+dnase1\n",
      "chr16\t412000\t412600\tE9+dnase1\n",
      "chr16\t441800\t442200\tE9+dnase1\n",
      "chr16\t537600\t538000\tE9+dnase1\n",
      "chr16\t597000\t597400\tE9+dnase1\n",
      "\n",
      "chr16\t60400\t61400\tE9\n",
      "chr16\t72600\t72800\tE9\n",
      "chr16\t115200\t116000\tE9\n",
      "chr16\t146600\t147400\tE9\n",
      "chr16\t156600\t157600\tE9\n",
      "chr16\t167800\t168200\tE9\n",
      "chr16\t412000\t412600\tE9\n",
      "chr16\t441800\t442200\tE9\n",
      "chr16\t537600\t538000\tE9\n",
      "chr16\t597000\t597400\tE9\n",
      "\n",
      "Counts of annotations:\n",
      "     342\n",
      "     468\n"
     ]
    }
   ],
   "source": [
    "%%bash\n",
    "export TRACKS=files/tracks/\n",
    "echo \"Counts\"\n",
    "wc -l ${TRACKS}E9_dnase1.bed\n",
    "wc -l ${TRACKS}E9.bed\n",
    "tail ${TRACKS}E9_dnase1.bed\n",
    "echo\n",
    "tail ${TRACKS}E9.bed\n",
    "echo\n",
    "head ${TRACKS}E9_dnase1.bed\n",
    "echo\n",
    "head ${TRACKS}E9.bed\n",
    "echo\n",
    "echo \"Counts of annotations:\"\n",
    "cat ${TRACKS}E9_dnase1.bed | grep \"dnase1\" | wc -l\n",
    "cat ${TRACKS}E9.bed | grep \"\" | wc -l"
   ]
  },
  {
   "cell_type": "markdown",
   "metadata": {},
   "source": [
    "#### Analysis\n",
    "\n",
    "##### Biological background\n",
    "\n",
    "*Insulation subsystem*\n",
    "\n",
    "Insulator genomic function refers either to a barrier function or an enhancer-blocking function:\n",
    "\n",
    "1. Barrier function. In cellular division heterochromatin and euchromatin must to be insulated from each other to prevent undesirable gene expression, for instance to prevent the inactive heterochromatic domain from erroneously inhibiting genes in the active euchromatic domain and vice versa.\n",
    "\n",
    "2. Enhancer-blockig function. The activity of a given gene is controlled by enhancer sequences, which can be found either adjacent to the gene promoter or at a considerable distance either downstream or upstream of the gene. Distance at the level of the linear genome does not impose a problem for enhancer function as the intervening DNA is looped out such that promoter and enhancer will be in close contact. Insulators play a role in the three-dimensional folding of chromatin, allowing for or preventing functional contact between enhancer and promoter elements.\n",
    "\n",
    "*DNASE I*\n",
    "\n",
    "Deoxyribonuclease I (DNase I), is an endonuclease coded by the human gene DNASE1.\n",
    "\n",
    "DNase I is a nuclease that cleaves DNA preferentially at phosphodiester linkages adjacent to a pyrimidine nucleotide. It seems to play a role in DNA fragmentation during apoptosis.\n",
    "\n",
    "DNase I hypersensitive sites are thought to be characterized by open, accessible chromatin, so, a DNase I peak enable the identification of regions of the genome which are likely to contain active genes.\n",
    "\n",
    "*CTCF*\n",
    "\n",
    "![](CTCF.jpg \"CTCF binding regions\")\n",
    "\n",
    "\n",
    "11-zinc finger protein or nuclear protein CCCTC-binding factor (CTCF) is a transcription factor encoded by the CTCF gene in humans. \n",
    "\n",
    "When bound to insulator sequences can prevent undesirable crosstalk between active and inactive genomic regions, and it can also shield particular genes from enhancer function, a role that has many applications in development. Exciting recent work has demonstrated roles for CTCF in, for example, embryonic, neuronal and haematopoietic development. \n",
    "\n",
    "Its main roles are:\n",
    "\n",
    "1. Insulation by binding of targeting insulator sequence elements located between enhancer and promoter sequences, blocking the interaction of transcription factors.\n",
    "\n",
    "2. Insulation by altering the 3D structure of chromatin, forming open chromatin loops, remodeling the heterochromatin structures and therefore preventing repressive heterochromatin actuation into a neighbouring domain. \n",
    "\n",
    "Also it seems that CTCF regulates itself:\n",
    "\n",
    "![](CTCF.regulating_itself.png \"CTCF regulating itself?\")\n",
    "\n",
    "#### Hematopoiesis\n",
    "\n",
    "![Human hematopoiesis](hematopoiesis.png \"Hematopoiesis in humans\")\n",
    "\n",
    "This diagram shows the hematopoiesis as it occurs in humans. The morphological characteristics of the hematopoietic cells are shown as seen in a Wright’s stain, May-Giemsa stain or May-Grünwald-Giemsa stain. Alternative names of certain cells are indicated between parentheses. Certain cells may have more than one characteristic appearance. In these cases, more than one representation of the same cell has been included. Together, the monocyte and the lymphocytes comprise the agranulocytes, as opposed to the granulocytes (basophil, neutrophil and eosinophil) that are produced during granulopoiesis. B., N. and E. stand for Basophilic, Neutrophilic and Eosinophilic, respectively – as in Basophilic promyelocyte. For lymphocytes, the T and B are actual designations. \n",
    "\n",
    "The polychromatic erythrocyte (reticulocyte) at the right shows its characteristic appearance when stained with methylene blue or Azure B. \n",
    "\n",
    "The erythrocyte at the right is a more accurate representation of its appearance in reality when viewed through a microscope. \n",
    "\n",
    "Other cells that arise from the monocyte: osteoclast, microglia (central nervous system), Langerhans cell (epidermis), Kupffer cell (liver). \n",
    "\n",
    "The T and B lymphocyte are split to better indicate that the plasma cell arises from the B-cell. Note that there is no difference in the appearance of B- and T-cells unless specific staining is applied.\n",
    "\n"
   ]
  },
  {
   "cell_type": "markdown",
   "metadata": {
    "lang": "en"
   },
   "source": [
    "##### Analysis of data\n",
    "\n",
    "We found that 70% of the E9 segments also contain DNAse I anchoring sequences, which requires regions of open chromatin. Can this indicate that in these areas CTCF is performing the second of the functions as an insulator: the enhacer-blocking factor?"
   ]
  },
  {
   "cell_type": "markdown",
   "metadata": {
    "lang": "en"
   },
   "source": [
    "## Display in genome browser\n",
    "\n",
    "Visualize (and show) a region of the genome in the UCSC browser where at least one of your segments can be seen (upload the track generated by ChromHMM) and DNaseI in all cell types of blood ENCODE.\n",
    "\n",
    "**First attempt**: with the tracks available in USCS genome browser:\n",
    "\n",
    "![E9 vs DNaseI blood cell types](genome_browser_2.png \"E9 vs DNaseI blood cell types\")\n",
    "\n",
    "**Second attempt**:\n",
    "\n",
    "1. Download from ENCODE https://www.encodeproject.org/metadata/type=Experiment&assay_title=DNase-seq&replicates.library.biosample.donor.organism.scientific_name=Homo+sapiens&files.file_type=bed+narrowPeak/metadata.tsv.\n",
    "\n",
    "2. Open metadata.tsv in excell and search for a blood cell experiment (for instance, 808 row) and download the track https://www.encodeproject.org/files/ENCFF304TBE/@@download/ENCFF304TBE.bed.gz\n",
    " \n",
    "3. Pending: upload the track and download more tracks.\n",
    "\n"
   ]
  },
  {
   "cell_type": "markdown",
   "metadata": {
    "lang": "en"
   },
   "source": [
    "## Search of motifs.\n",
    "\n",
    "### Strategy\n",
    "\n",
    "Segments in state 9 must contain CTCF binding sequences and probably enhancer, DNase 1 and other TF binding sequences. \n",
    "\n",
    "It would be interesting to find at least the consensus sequence of CTCF binding sites.\n",
    "\n",
    "It was done in this article:\n",
    "\n",
    "https://www.ncbi.nlm.nih.gov/pmc/articles/PMC2572726/#!po=17.5676\n",
    "\n",
    "But it's a *de novo* discovery.\n",
    "\n",
    "Another approach (or another interpretation of the question and more easy) is to search in the segments which of them contains a motif corresponding to the PSM of CTCF binding sequence. It could be a good strategy to validate the quality of the E9 segments."
   ]
  },
  {
   "cell_type": "markdown",
   "metadata": {},
   "source": [
    "### Search for CTCF binding sites\n",
    "\n",
    "Home page:\n",
    "![](pwm_tools.png \"PWM Tools home page\")\n",
    "\n",
    "Select for CTCF PWM:\n",
    "\n",
    "![](pwm_tools_search_ctcfb.png \"PWM Tools home page\")\n",
    "\n",
    "Logo for CTCFB:\n",
    "\n",
    "![](pwm_tools_ctcf_pwm.png \"Logo CTCFB\")\n",
    "\n",
    "Download bed over hg19a (there is no option for hg19)\n",
    "\n",
    "Overlaps with bedtools annotate (could be done with our SW):\n",
    "\n",
    "E9 segments (monocyte1 and monocyte 2) with overlap:\n",
    "\n",
    "```bash\n",
    "bedtools annotate -i E9.bed -files hg19_ctcfb_sorted.bed | grep -v '0.000000' | wc -l\n",
    "> 380\n",
    "```\n",
    "\n",
    "So 380 segments from 468 E9 segments: 81%\n",
    "We expect more 100% close value, but the base experiment of the CTCF binding sites was over A549 lung cell line.\n",
    "\n",
    "If we trust both experiments, sources of both tracks, we could think that CTCF binding sites would be very similar across cell-lines.\n"
   ]
  },
  {
   "cell_type": "markdown",
   "metadata": {
    "lang": "en"
   },
   "source": [
    "## Overlapping with methylation regions\n",
    "\n",
    "Calculate the% overlap with hyper- (Methylation> 0.75) or hypo-methylated (Methylation <0.25) regions in available monocytes in the BLUEPRINT portal DCC. (http://dcc.blueprint-epigenome.eu/#/home) BED files belonging to the donor C001UY.\n",
    "\n",
    "### Procedure\n",
    "\n",
    "### Obtain the bed segments. \n",
    "...bla bla bla"
   ]
  },
  {
   "cell_type": "markdown",
   "metadata": {},
   "source": [
    "### Annotation \n",
    "\n",
    "We have made the annotation with R-packages.\n",
    "Alternatively we check the results with our own software.\n",
    "We calculate here the"
   ]
  },
  {
   "cell_type": "code",
   "execution_count": 235,
   "metadata": {},
   "outputs": [
    {
     "name": "stdout",
     "output_type": "stream",
     "text": [
      "chr16\t60400\t61400\tE9+hypo\n",
      "chr16\t72600\t72800\tE9\n",
      "chr16\t115200\t116000\tE9+hypo\n",
      "chr16\t146600\t147400\tE9+hypo\n",
      "chr16\t156600\t157600\tE9\n",
      "chr16\t167800\t168200\tE9+hypo\n",
      "chr16\t412000\t412600\tE9+hypo\n",
      "chr16\t441800\t442200\tE9\n",
      "chr16\t537600\t538000\tE9\n",
      "chr16\t597000\t597400\tE9\n",
      "chr16\t629000\t629400\tE9+hypo\n",
      "\n",
      "Count of state segments overlapped hypo: 288\n",
      "Count of all state segments 468\n",
      "Percent overlapped state segments over total segments: 61.53846153846154\n",
      "Output file: E9_hypo.bed\n"
     ]
    }
   ],
   "source": [
    "OUTPUT_FEATURE = \"hypo\"\n",
    "\n",
    "intersect_bed(PATH, STATE + \".bed\", \"hypo.bed\", \n",
    "                  PATH, STATE + \"_hypo.bed\", chrom = CHROM, \n",
    "                  f1_feature_filter = STATE, f2_feature_filter=\"\", \n",
    "                  output_feature = OUTPUT_FEATURE, sep=SEP,\n",
    "                  drop_feature_threshold = 0, output_mode=\"annotate\")\n",
    "head(PATH, STATE + \"_hypo.bed\", 10)\n",
    "\n",
    "overlap_segment_count = bed_segment_count_by_re_feature(PATH, STATE + \"_hypo.bed\", \n",
    "                                                        OUTPUT_FEATURE)\n",
    "print(\"\")\n",
    "print(\"Count of state segments overlapped hypo:\", overlap_segment_count)\n",
    "total_segment_count = bed_segment_count_by_re_feature(PATH, STATE + \"_hypo.bed\", \"\")\n",
    "print(\"Count of all state segments\", total_segment_count)\n",
    "print(\"Percent overlapped state segments over total segments:\", \n",
    "      overlap_segment_count * 100 / total_segment_count)\n",
    "print(\"Output file:\", STATE + \"_hypo.bed\")"
   ]
  },
  {
   "cell_type": "code",
   "execution_count": 236,
   "metadata": {},
   "outputs": [
    {
     "name": "stdout",
     "output_type": "stream",
     "text": [
      "chr16\t60400\t61400\tE9+hypo+hyper\n",
      "chr16\t72600\t72800\tE9+hyper\n",
      "chr16\t115200\t116000\tE9+hypo+hyper\n",
      "chr16\t146600\t147400\tE9+hypo+hyper\n",
      "chr16\t156600\t157600\tE9+hyper\n",
      "chr16\t167800\t168200\tE9+hypo+hyper\n",
      "chr16\t412000\t412600\tE9+hypo+hyper\n",
      "chr16\t441800\t442200\tE9+hyper\n",
      "chr16\t537600\t538000\tE9+hyper\n",
      "chr16\t597000\t597400\tE9\n",
      "chr16\t629000\t629400\tE9+hypo\n",
      "\n",
      "Count of state segments overlapped hyper: 322\n",
      "Count of all segments 468\n",
      "Percent overlapped hyper segments over total segments: 68.80341880341881\n",
      "Output file: E9_hypo_hyper.bed\n"
     ]
    }
   ],
   "source": [
    "OUTPUT_FEATURE = \"hyper\"\n",
    "\n",
    "intersect_bed(PATH, STATE + \"_hypo.bed\", \"hyper.bed\", \n",
    "                  PATH, STATE + \"_hypo_hyper.bed\", chrom = CHROM, \n",
    "                  f1_feature_filter = \"\", f2_feature_filter=\"\", \n",
    "                  output_feature = OUTPUT_FEATURE, sep=SEP,\n",
    "                  drop_feature_threshold = 0, output_mode=\"annotate\")\n",
    "head(PATH, STATE + \"_hypo_hyper.bed\", 10)\n",
    "\n",
    "overlap_segment_count = bed_segment_count_by_re_feature(PATH, STATE + \"_hypo_hyper.bed\", \n",
    "                                                        OUTPUT_FEATURE)\n",
    "print(\"\")\n",
    "print(\"Count of state segments overlapped hyper:\", overlap_segment_count)\n",
    "total_segment_count = bed_segment_count_by_re_feature(PATH, STATE + \"_hypo_hyper.bed\", \"\")\n",
    "print(\"Count of all segments\", total_segment_count)\n",
    "print(\"Percent overlapped hyper segments over total segments:\", \n",
    "      overlap_segment_count * 100 / total_segment_count)\n",
    "print(\"Output file:\", STATE + \"_hypo_hyper.bed\")"
   ]
  },
  {
   "cell_type": "code",
   "execution_count": 237,
   "metadata": {},
   "outputs": [
    {
     "name": "stdout",
     "output_type": "stream",
     "text": [
      "\n",
      "Count of state segments overlapped hypo+hyper: 192\n",
      "Count of all segments 468\n",
      "Percent overlapped hypo+hyper segments over total segments: 41.02564102564103\n"
     ]
    }
   ],
   "source": [
    "overlap_segment_count = bed_segment_count_by_re_feature(PATH, STATE + \"_hypo_hyper.bed\", \n",
    "                                                        r\"hypo\\+hyper\")\n",
    "print(\"\")\n",
    "print(\"Count of state segments overlapped hypo+hyper:\", overlap_segment_count)\n",
    "total_segment_count = bed_segment_count_by_re_feature(PATH, STATE + \"_hypo_hyper.bed\", \"\")\n",
    "print(\"Count of all segments\", total_segment_count)\n",
    "print(\"Percent overlapped hypo+hyper segments over total segments:\", \n",
    "      overlap_segment_count * 100 / total_segment_count)"
   ]
  },
  {
   "cell_type": "markdown",
   "metadata": {},
   "source": [
    "### Verification against bedtools annotation"
   ]
  },
  {
   "cell_type": "code",
   "execution_count": 238,
   "metadata": {},
   "outputs": [
    {
     "name": "stdout",
     "output_type": "stream",
     "text": [
      "OK\n"
     ]
    }
   ],
   "source": [
    "%%bash\n",
    "cd files/tracks\n",
    "bedtools annotate -i E9.bed -files hypo.bed | sort -k1,1 -k2,3n | grep -v '0.000000' | cut -f 1,2,3 > E9_hypo.bedtools.bed\n",
    "grep 'hypo' E9_hypo_hyper.bed | cut -f 1,2,3 | diff - E9_hypo.bedtools.bed > /dev/null 2>&1\n",
    "error=$?\n",
    "if [ $error -eq 2 ]\n",
    "then\n",
    "   echo \"Error in diff command\"\n",
    "elif [ $error -eq 1 ]\n",
    "then\n",
    "   echo \"Files differ\"\n",
    "else\n",
    "   echo \"OK\"\n",
    "fi"
   ]
  },
  {
   "cell_type": "code",
   "execution_count": 239,
   "metadata": {},
   "outputs": [
    {
     "name": "stdout",
     "output_type": "stream",
     "text": [
      "OK\n"
     ]
    }
   ],
   "source": [
    "%%bash\n",
    "cd files/tracks\n",
    "bedtools annotate -i E9.bed -files hyper.bed | sort -k1,1 -k2,3n | grep -v '0.000000' | cut -f 1,2,3 > E9_hyper.bedtools.bed\n",
    "grep 'hyper' E9_hypo_hyper.bed | cut -f 1,2,3 | diff - E9_hyper.bedtools.bed > /dev/null 2>&1\n",
    "error=$?\n",
    "if [ $error -eq 2 ]\n",
    "then\n",
    "   echo \"Error in diff command\"\n",
    "elif [ $error -eq 1 ]\n",
    "then\n",
    "   echo \"Files differ\"\n",
    "else\n",
    "   echo \"OK\"\n",
    "fi"
   ]
  },
  {
   "cell_type": "code",
   "execution_count": 264,
   "metadata": {},
   "outputs": [
    {
     "name": "stdout",
     "output_type": "stream",
     "text": [
      "chr16\t60400\t61400\tE9+hypo+hyper+E9\n",
      "chr16\t72600\t72800\tE9+hyper+E9+dnase1\n",
      "chr16\t115200\t116000\tE9+hypo+hyper+E9+dnase1\n",
      "chr16\t146600\t147400\tE9+hypo+hyper+E9+dnase1\n",
      "chr16\t156600\t157600\tE9+hyper+E9+dnase1\n",
      "chr16\t167800\t168200\tE9+hypo+hyper+E9+dnase1\n",
      "chr16\t412000\t412600\tE9+hypo+hyper+E9+dnase1\n",
      "chr16\t441800\t442200\tE9+hyper+E9+dnase1\n",
      "chr16\t537600\t538000\tE9+hyper+E9+dnase1\n",
      "chr16\t597000\t597400\tE9+E9+dnase1\n",
      "chr16\t629000\t629400\tE9+hypo+E9+dnase1\n",
      "Output file: E9_hypo_hyper_dnase1.bed\n",
      "chr16\t60400\t61400\tE9+hypo+hyper\n",
      "chr16\t72600\t72800\tE9+dnase1+hyper\n",
      "chr16\t115200\t116000\tE9+dnase1+hypo+hyper\n",
      "chr16\t146600\t147400\tE9+dnase1+hypo+hyper\n",
      "chr16\t156600\t157600\tE9+dnase1+hyper\n",
      "chr16\t167800\t168200\tE9+dnase1+hypo+hyper\n",
      "chr16\t412000\t412600\tE9+dnase1+hypo+hyper\n",
      "chr16\t441800\t442200\tE9+dnase1+hyper\n",
      "chr16\t537600\t538000\tE9+dnase1+hyper\n",
      "chr16\t597000\t597400\tE9+dnase1\n",
      "chr16\t629000\t629400\tE9+hypo+dnase1\n"
     ]
    }
   ],
   "source": [
    "OUTPUT_FEATURE = \"as_file2\"\n",
    "OUTPUT_FILE = STATE + \"_hypo_hyper_dnase1.bed\"\n",
    "INPUT_FILE =  \"E9_dnase1.bed\"\n",
    "intersect_bed(PATH, STATE + \"_hypo_hyper.bed\", INPUT_FILE, \n",
    "                  PATH, OUTPUT_FILE, chrom = CHROM, \n",
    "                  f1_feature_filter = \"\", f2_feature_filter=\"\", \n",
    "                  output_feature = OUTPUT_FEATURE, sep=SEP,\n",
    "                  drop_feature_threshold = 0, output_mode=\"annotate\")\n",
    "head(PATH, OUTPUT_FILE, 10)\n",
    "\n",
    "overlap_segment_count = bed_segment_count_by_re_feature(PATH, OUTPUT_FILE, \n",
    "                                                        OUTPUT_FEATURE)\n",
    "print(\"Output file:\", OUTPUT_FILE)\n",
    "\n",
    "bed_uniq_features(PATH, OUTPUT_FILE, \"E9_hypo_hyper_dnase1.unif.bed\", sep='\\t', sep2='+')\n",
    "head(PATH, \"E9_hypo_hyper_dnase1.unif.bed\", 10)"
   ]
  },
  {
   "cell_type": "markdown",
   "metadata": {
    "latex_metadata": {
     "hidden": "true",
     "lexer": "bash"
    }
   },
   "source": [
    "# Outputs"
   ]
  },
  {
   "cell_type": "code",
   "execution_count": 299,
   "metadata": {
    "latex_metadata": {
     "hidden": "true",
     "lexer": "bash"
    }
   },
   "outputs": [
    {
     "name": "stderr",
     "output_type": "stream",
     "text": [
      "[NbConvertApp] Converting notebook genomic_regulation.ipynb to latex\n",
      "[NbConvertApp] Writing 79057 bytes to genomic_regulation.tex\n",
      "[NbConvertApp] Converting notebook genomic_regulation.ipynb to html_with_toclenvs\n",
      "[NbConvertApp] Writing 447227 bytes to genomic_regulation.html\n"
     ]
    }
   ],
   "source": [
    "%%bash\n",
    "jupyter nbconvert --to=latex --template=~/report.tplx genomic_regulation.ipynb 1> /dev/null\n",
    "pdflatex -shell-escape genomic_regulation 1> /dev/null\n",
    "jupyter nbconvert --to html_with_toclenvs genomic_regulation.ipynb 1> /dev/null"
   ]
  }
 ],
 "metadata": {
  "celltoolbar": "Edit Metadata",
  "hide_input": false,
  "kernelspec": {
   "display_name": "Python 3",
   "language": "python",
   "name": "python3"
  },
  "language_info": {
   "codemirror_mode": {
    "name": "ipython",
    "version": 3
   },
   "file_extension": ".py",
   "mimetype": "text/x-python",
   "name": "python",
   "nbconvert_exporter": "python",
   "pygments_lexer": "ipython3",
   "version": "3.6.7"
  },
  "latex_envs": {
   "LaTeX_envs_menu_present": true,
   "autoclose": false,
   "autocomplete": true,
   "bibliofile": "biblio.bib",
   "cite_by": "apalike",
   "current_citInitial": 1,
   "eqLabelWithNumbers": true,
   "eqNumInitial": 1,
   "hotkeys": {
    "equation": "Ctrl-E",
    "itemize": "Ctrl-I"
   },
   "labels_anchors": false,
   "latex_user_defs": false,
   "report_style_numbering": false,
   "user_envs_cfg": false
  },
  "latex_metadata": {
   "author": "Ivó Hernández, Helena Liz, Diego Fuentes, Fernando Freire",
   "title": "Genomic Regulation"
  },
  "nbTranslate": {
   "displayLangs": [
    "en"
   ],
   "hotkey": "alt-t",
   "langInMainMenu": true,
   "sourceLang": "es",
   "targetLang": "en",
   "useGoogleTranslate": true
  },
  "toc": {
   "base_numbering": 1,
   "nav_menu": {},
   "number_sections": true,
   "sideBar": true,
   "skip_h1_title": false,
   "title_cell": "Table of Contents",
   "title_sidebar": "Contents",
   "toc_cell": false,
   "toc_position": {
    "height": "calc(100% - 180px)",
    "left": "10px",
    "top": "150px",
    "width": "342.2793884277344px"
   },
   "toc_section_display": true,
   "toc_window_display": true
  },
  "varInspector": {
   "cols": {
    "lenName": 16,
    "lenType": 16,
    "lenVar": 40
   },
   "kernels_config": {
    "python": {
     "delete_cmd_postfix": "",
     "delete_cmd_prefix": "del ",
     "library": "var_list.py",
     "varRefreshCmd": "print(var_dic_list())"
    },
    "r": {
     "delete_cmd_postfix": ") ",
     "delete_cmd_prefix": "rm(",
     "library": "var_list.r",
     "varRefreshCmd": "cat(var_dic_list()) "
    }
   },
   "types_to_exclude": [
    "module",
    "function",
    "builtin_function_or_method",
    "instance",
    "_Feature"
   ],
   "window_display": false
  }
 },
 "nbformat": 4,
 "nbformat_minor": 2
}
