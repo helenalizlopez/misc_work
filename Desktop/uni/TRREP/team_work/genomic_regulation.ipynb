{
 "cells": [
  {
   "cell_type": "markdown",
   "metadata": {
    "lang": "en"
   },
   "source": [
    "# Genomic Regulation"
   ]
  },
  {
   "cell_type": "markdown",
   "metadata": {},
   "source": [
    "## Get chr16 CTCF segments\n",
    "\n",
    "Get the *chr16* segments which share the same state between both monocyte replicates."
   ]
  },
  {
   "cell_type": "markdown",
   "metadata": {},
   "source": [
    "### Test files"
   ]
  },
  {
   "cell_type": "code",
   "execution_count": 84,
   "metadata": {},
   "outputs": [
    {
     "name": "stdout",
     "output_type": "stream",
     "text": [
      "Monocyte 1 segments.bed\n",
      "chr16\t60400\t61400\tE9\n",
      "chr16\t72600\t72800\tE9\n",
      "chr16\t115200\t116000\tE9\n",
      "chr16\t146400\t147400\tE9\n",
      "chr16\t156600\t157600\tE9\n",
      "chr16\t167800\t168200\tE9\n",
      "chr16\t232200\t232400\tE9\n",
      "chr16\t412000\t412600\tE9\n",
      "chr16\t441800\t442200\tE9\n",
      "chr16\t486400\t486800\tE9\n",
      "chr16\t537600\t538000\tE9\n",
      "chr16\t597000\t597600\tE9\n",
      "chr16\t629000\t629400\tE9\n",
      "chr16\t661000\t661600\tE9\n",
      "chr16\t710800\t711200\tE9\n",
      "chr16\t711600\t711800\tE9\n",
      "chr16\t736200\t736400\tE9\n",
      "chr16\t761200\t763200\tE9\n",
      "chr16\t835400\t836200\tE9\n",
      "chr16\t1019400\t1019600\tE9\n",
      "      20 monocyte1_segments.bed\n",
      "Monocyte 2 segments.bed\n",
      "chr16\t60400\t61400\tE9\n",
      "chr16\t72400\t72800\tE9\n",
      "chr16\t115000\t116400\tE9\n",
      "chr16\t146600\t147400\tE9\n",
      "chr16\t155400\t158200\tE9\n",
      "chr16\t167800\t168800\tE9\n",
      "chr16\t231800\t232200\tE9\n",
      "chr16\t309000\t309200\tE9\n",
      "chr16\t353600\t354200\tE9\n",
      "chr16\t402200\t403200\tE9\n",
      "chr16\t412000\t412800\tE9\n",
      "chr16\t441800\t442200\tE9\n",
      "chr16\t508200\t508400\tE9\n",
      "chr16\t537400\t538200\tE9\n",
      "chr16\t596600\t597400\tE9\n",
      "chr16\t627800\t630600\tE9\n",
      "chr16\t660800\t661800\tE9\n",
      "chr16\t710800\t711800\tE9\n",
      "chr16\t717400\t718200\tE9\n",
      "chr16\t735800\t736800\tE9\n",
      "      20 monocyte2_segments.bed\n"
     ]
    }
   ],
   "source": [
    "%%bash\n",
    "# Obtain files for test\n",
    "cd RESULTS/Modelo_11_estados\n",
    "cat Monocyte1_11_Master_11_segments.bed | grep 'chr16' | grep 'E9' | sort -k 2,3 -h | head -n 20 > monocyte1_segments.bed\n",
    "cat Monocyte2_11_Master_11_segments.bed | grep 'chr16' | grep 'E9' | sort -k 2,3 -h | head -n 20 > monocyte2_segments.bed\n",
    "echo \"Monocyte 1 segments.bed\"\n",
    "cat monocyte1_segments.bed\n",
    "wc -l monocyte1_segments.bed\n",
    "echo \"Monocyte 2 segments.bed\"\n",
    "cat monocyte2_segments.bed\n",
    "wc -l monocyte2_segments.bed"
   ]
  },
  {
   "cell_type": "code",
   "execution_count": 270,
   "metadata": {},
   "outputs": [
    {
     "name": "stdout",
     "output_type": "stream",
     "text": [
      "Writing files/test_tracks/bed1.bed\n"
     ]
    }
   ],
   "source": [
    "%%writefile files/test_tracks/bed1.bed\n",
    "chr16\t60400\t61400\tE9\n",
    "chr16\t72600\t72800\tE9\n",
    "chr16\t115200\t116000\tE9\n",
    "chr16\t146400\t147400\tE9\n",
    "chr16\t156600\t157600\tE9\n",
    "chr16\t167800\t168200\tE9\n",
    "chr16\t232200\t232400\tE9\n",
    "chr16\t412000\t412600\tE9\n",
    "chr16\t441800\t442200\tE9\n",
    "chr16\t486400\t486800\tE9\n",
    "chr16\t537600\t538000\tE9\n",
    "chr16\t597000\t597600\tE9\n",
    "chr16\t629000\t629400\tE9\n",
    "chr16\t661000\t661600\tE9\n",
    "chr16\t710800\t711200\tE9\n",
    "chr16\t711600\t711800\tE9\n",
    "chr16\t736200\t736400\tE9\n",
    "chr16\t761200\t763200\tE9\n",
    "chr16\t835400\t836200\tE9\n",
    "chr16\t1019400\t1019600\tE9"
   ]
  },
  {
   "cell_type": "code",
   "execution_count": 272,
   "metadata": {},
   "outputs": [
    {
     "name": "stdout",
     "output_type": "stream",
     "text": [
      "Writing files/test_tracks/bed2.bed\n"
     ]
    }
   ],
   "source": [
    "%%writefile files/test_tracks/bed2.bed\n",
    "chr16\t60400\t61400\tE9\n",
    "chr16\t72400\t72800\tE9\n",
    "chr16\t115000\t116400\tE9\n",
    "chr16\t146600\t147400\tE9\n",
    "chr16\t146610\t147400\tE8\n",
    "chr16\t155400\t158200\tE9\n",
    "chr16\t167800\t168800\tE9\n",
    "chr16\t231800\t232200\tE9\n",
    "chr16\t309000\t309200\tE9\n",
    "chr16\t353600\t354200\tE9\n",
    "chr16\t402200\t403200\tE9\n",
    "chr16\t412000\t412800\tE9\n",
    "chr16\t441800\t442200\tE9\n",
    "chr16\t508200\t508400\tE9\n",
    "chr16\t537400\t538200\tE9\n",
    "chr16\t596600\t597400\tE9\n",
    "chr16\t596700\t597400\tE8\n",
    "chr16\t596700\t597400\tE8\n",
    "chr16\t627800\t630600\tE9\n",
    "chr16\t660800\t661800\tE9\n",
    "chr16\t710800\t711800\tE9\n",
    "chr16\t717400\t718200\tE9\n",
    "chr16\t735800\t736800\tE9"
   ]
  },
  {
   "cell_type": "code",
   "execution_count": 271,
   "metadata": {},
   "outputs": [
    {
     "name": "stdout",
     "output_type": "stream",
     "text": [
      "Writing files/test_tracks/dnase1.peaks.bed\n"
     ]
    }
   ],
   "source": [
    "%%writefile files/test_tracks/dnase1.peaks.bed\n",
    "chr1\t770942\t771278\tchr1.9\t584\t.\t0.039\t1.79\t-1\t151\n",
    "chr1\t771678\t771933\tchr1.10\t568\t.\t0.0343\t1.56\t-1\t121\n",
    "chr1\t773279\t773398\tchr1.11\t555\t.\t0.0303\t1.38\t-1\t49\n",
    "chr1\t777497\t777598\tchr1.12\t553\t.\t0.0299\t1.36\t-1\t46\n",
    "chr1\t794051\t794336\tchr1.13\t569\t.\t0.0344\t1.57\t-1\t152\n",
    "chr1\t800514\t800667\tchr1.14\t549\t.\t0.0287\t 1.3\t-1\t34\n",
    "chr1\t805004\t805656\tchr1.15\t1000\t.\t0.3561\t16\t-1\t286\n",
    "chr16\t63392\t63462\tchr16.1\t551\t.\t0.0292\t1.33\t-1\t26\n",
    "chr16\t65192\t65500\tchr16.2\t650\t.\t0.0582\t2.69\t-1\t140\n",
    "chr16\t65680\t65848\tchr16.3\t578\t.\t0.0371\t 1.7\t-1\t81\n",
    "chr16\t66552\t66704\tchr16.4\t565\t.\t0.0334\t1.52\t-1\t71\n",
    "chr16\t69567\t69918\tchr16.5\t593\t.\t0.0416\t1.91\t-1\t156\n",
    "chr16\t72620\t73427\tchr16.6\t1000\t.\t0.2652\t12.5\t-1\t256\n",
    "chr16\t74047\t74486\tchr16.7\t687\t.\t0.069\t 3.2\t-1\t213\n",
    "chr16\t77159\t77214\tchr16.8\t550\t.\t0.0289\t1.31\t-1\t20\n",
    "chr16\t78558\t80270\tchr16.9\t756\t.\t0.0889\t4.15\t-1\t1188\n",
    "chr16\t80539\t84109\tchr16.10\t797\t.\t0.101\t4.72\t-1\t2835\n",
    "chr16\t84632\t86116\tchr16.11\t1000\t.\t0.2262\t10.7\t-1\t648\n",
    "chr16\t86223\t86873\tchr16.12\t717\t.\t0.0777\t3.62\t-1\t274\n",
    "chr16\t87530\t87809\tchr16.13\t614\t.\t0.0475\t2.19\t-1\t147\n",
    "chr16\t88254\t89597\tchr16.14\t703\t.\t0.0736\t3.42\t-1\t691\n",
    "chr16\t91933\t92367\tchr16.15\t558\t.\t0.0312\t1.42\t-1\t78\n",
    "chr16\t102933\t104351\tchr16.16\t1000\t.\t0.521\t16\t-1\t852\n",
    "chr16\t107650\t109038\tchr16.17\t708\t.\t0.0751\t3.49\t-1\t327\n",
    "chr16\t109773\t109913\tchr16.18\t555\t.\t0.0305\t1.39\t-1\t61\n",
    "chr16\t110337\t110607\tchr16.19\t581\t.\t0.0381\t1.74\t-1\t117\n",
    "chr16\t110941\t114948\tchr16.20\t915\t.\t0.1354\t6.36\t-1\t421\n",
    "chr16\t115448\t116225\tchr16.21\t1000\t.\t0.3633\t16\t-1\t419\n",
    "chr16\t116533\t116836\tchr16.22\t568\t.\t0.0343\t1.56\t-1\t131"
   ]
  },
  {
   "cell_type": "markdown",
   "metadata": {},
   "source": [
    "### Methods"
   ]
  },
  {
   "cell_type": "code",
   "execution_count": 298,
   "metadata": {},
   "outputs": [],
   "source": [
    "import re as re\n",
    "\n",
    "def head(path, filename, lines=20):\n",
    "    \"\"\"\n",
    "    \"\"\"\n",
    "    i = 0\n",
    "    file = open(path + \"/\" + filename, \"r\")\n",
    "    for line in file:\n",
    "        print(line.strip())\n",
    "        i += 1\n",
    "        if i > lines:\n",
    "            break\n",
    "    file.close()\n",
    "\n",
    "def get_parts(bed_line, sep='\\t'):\n",
    "    \"\"\"\n",
    "    \"\"\"\n",
    "    bed_line_parts = bed_line.rstrip('\\n').split(sep)\n",
    "    return bed_line_parts[0], int(bed_line_parts[1]), int(bed_line_parts[2]), bed_line_parts[3]\n",
    "\n",
    "def concat_parts(chrom, start, end, feature, sep='\\t'):\n",
    "    \"\"\"\n",
    "    \"\"\"\n",
    "    bed_line = chrom + '\\t' + str(start) +  '\\t' + str(end) + '\\t' + feature + '\\n'\n",
    "    return bed_line\n",
    "\n",
    "def bed_coverage(path, filename, sep='\\t'):\n",
    "    \"\"\"\n",
    "    Returns the acummulated length of all the segments of the bed file filename\n",
    "    \"\"\"\n",
    "    i = 0\n",
    "    file = open(path + \"/\" + filename, \"r\")\n",
    "    coverage = 0 \n",
    "    for line in file:\n",
    "        _ , f1_segment_start, f1_segment_end, _ = get_parts(line)\n",
    "        coverage += f1_segment_end + f1_segment_start\n",
    "    file.close()\n",
    "    return coverage\n",
    "\n",
    "def bed_segment_count_by_re_feature(path, filename, re_feature, sep='\\t'):\n",
    "    \"\"\"\n",
    "    Returns the segment count by feature name of the bed file filename. \n",
    "    The feature is informed as a regexp\n",
    "    \"\"\"\n",
    "    i = 0\n",
    "    file = open(path + \"/\" + filename, \"r\")\n",
    "    segment_count = 0 \n",
    "    for line in file:\n",
    "        _ , _, _, segment_feature = get_parts(line)\n",
    "        if re.search(re_feature, segment_feature):\n",
    "            segment_count += 1\n",
    "    file.close()\n",
    "    return segment_count\n",
    "\n",
    "def intersect_bed(input_dir, input_file1, input_file2, output_dir, output_file, chrom=\"chr16\", \n",
    "                  f1_feature_filter=\"E9\", f2_feature_filter=\"E9\", output_feature=\"E9\", sep='\\t',\n",
    "                  drop_feature_threshold=20, output_mode=\"intersect\"):  \n",
    "    \"\"\"\n",
    "    If output node is intersect, returns the intersected bed segments\n",
    "    If output mode is annotate, returns all the segments of input_file1 \n",
    "    annotated if it's the case with the feature defined in input_file2.\n",
    "    \"\"\"\n",
    "    f1_segments = open(input_dir + \"/\" + input_file1, \"r\")\n",
    "    f2_segments = open(input_dir + \"/\" + input_file2, \"r\")\n",
    "    output_segments = open(output_dir + \"/\" + output_file, \"w\")\n",
    "    f1_segment = f1_segments.readline()\n",
    "    f2_segment = f2_segments.readline()\n",
    "    while(f1_segment != \"\" and f2_segment != \"\"):\n",
    "        f1_chrom, f1_segment_start, f1_segment_end, f1_feature = get_parts(f1_segment)\n",
    "        f2_chrom, f2_segment_start, f2_segment_end, f2_feature = get_parts(f2_segment)\n",
    "        feature = f1_feature\n",
    "        # Filter f1 and read f1\n",
    "        if f1_chrom != chrom or (f1_feature_filter != \"\" and f1_feature != f1_feature_filter):\n",
    "            f1_segment = f1_segments.readline()\n",
    "        # Filter f2 and read f2\n",
    "        elif f2_chrom != chrom or (f2_feature_filter != \"\" and f2_feature != f2_feature_filter):\n",
    "            f2_segment = f2_segments.readline()\n",
    "        # f2 segment downstream f1 segment\n",
    "        elif f2_segment_start > f1_segment_end:\n",
    "            if output_mode == \"annotate\" and drop_feature_threshold < f1_segment_end - f1_segment_start:\n",
    "                output_segment = concat_parts(chrom, f1_segment_start, f1_segment_end, feature)\n",
    "                output_segments.write(output_segment)\n",
    "            f1_segment = f1_segments.readline() \n",
    "        # f1 segment downstream f2 segment\n",
    "        elif f1_segment_start > f2_segment_end:\n",
    "            f2_segment = f2_segments.readline()\n",
    "        else: # Intersect\n",
    "            # Save intersect\n",
    "            if output_mode == \"intersect\":\n",
    "                output_start = max(f1_segment_start, f2_segment_start)\n",
    "                output_end =  min(f2_segment_end, f1_segment_end)\n",
    "                if drop_feature_threshold < output_end - output_start:\n",
    "                    output_segment = concat_parts(chrom, output_start, output_end, output_feature)\n",
    "                    output_segments.write(output_segment)\n",
    "            else:\n",
    "                feature = f1_feature + \"+\" + output_feature\n",
    "            # Advance f1\n",
    "            if f2_segment_end >= f1_segment_end:\n",
    "                if output_mode == \"annotate\" and drop_feature_threshold < f1_segment_end - f1_segment_start:\n",
    "                    output_segment = concat_parts(chrom, f1_segment_start, f1_segment_end, feature)\n",
    "                    output_segments.write(output_segment)\n",
    "                f1_segment = f1_segments.readline()\n",
    "            # Advance f2\n",
    "            elif f1_segment_end > f2_segment_end:\n",
    "                f2_segment = f2_segments.readline()\n",
    "    while(output_mode == \"annotate\" and f1_segment != \"\"):\n",
    "        output_segments.write(f1_segment)\n",
    "        f1_segment = f1_segments.readline()\n",
    "        \n",
    "    f1_segments.close()\n",
    "    f2_segments.close()\n",
    "    output_segments.close()\n"
   ]
  },
  {
   "cell_type": "markdown",
   "metadata": {},
   "source": [
    "### Tests"
   ]
  },
  {
   "cell_type": "code",
   "execution_count": 278,
   "metadata": {},
   "outputs": [
    {
     "name": "stdout",
     "output_type": "stream",
     "text": [
      "chr16\t60400\t61400\tE9\n",
      "chr16\t115200\t116000\tE9\n",
      "chr16\t146600\t147400\tE9\n",
      "chr16\t156600\t157600\tE9\n",
      "chr16\t167800\t168200\tE9\n",
      "chr16\t412000\t412600\tE9\n",
      "chr16\t441800\t442200\tE9\n",
      "chr16\t537600\t538000\tE9\n",
      "chr16\t597000\t597400\tE9\n",
      "chr16\t629000\t629400\tE9\n",
      "chr16\t661000\t661600\tE9\n",
      "chr16\t710800\t711200\tE9\n"
     ]
    }
   ],
   "source": [
    "PATH = \"files/tracks\"\n",
    "TEST_PATH = \"files/test_tracks\"\n",
    "M1_FILE = \"Monocyte1_11_Master_11_segments.bed\"\n",
    "M2_FILE = \"Monocyte2_11_Master_11_segments.bed\"\n",
    "M1_FILE_TEST = \"bed1.bed\"\n",
    "M2_FILE_TEST = \"bed2.bed\"\n",
    "SEP = '\\t'\n",
    "CHROM = \"chr16\"\n",
    "STATE = \"E9\"\n",
    "\n",
    "intersect_bed(TEST_PATH, M1_FILE_TEST, M2_FILE_TEST, TEST_PATH, \n",
    "                STATE + \"_segments_test.bed\", chrom=CHROM, \n",
    "                f1_feature_filter=STATE, f2_feature_filter=STATE, output_feature=STATE, sep=SEP,\n",
    "                drop_feature_threshold=300)\n",
    "\n",
    "head(STATE + \"_segments_test.bed\", 20)"
   ]
  },
  {
   "cell_type": "markdown",
   "metadata": {},
   "source": [
    "### Goal"
   ]
  },
  {
   "cell_type": "code",
   "execution_count": 279,
   "metadata": {},
   "outputs": [
    {
     "name": "stdout",
     "output_type": "stream",
     "text": [
      "chr16\t60400\t61400\tE9\n",
      "chr16\t72600\t72800\tE9\n",
      "chr16\t115200\t116000\tE9\n",
      "chr16\t146600\t147400\tE9\n",
      "chr16\t156600\t157600\tE9\n",
      "chr16\t167800\t168200\tE9\n",
      "chr16\t412000\t412600\tE9\n",
      "chr16\t441800\t442200\tE9\n",
      "chr16\t537600\t538000\tE9\n",
      "chr16\t597000\t597400\tE9\n",
      "chr16\t629000\t629400\tE9\n"
     ]
    }
   ],
   "source": [
    "intersect_bed(PATH, M1_FILE, M2_FILE, PATH, STATE + \"_segments.bed\", chrom=CHROM, \n",
    "                  f1_feature_filter = STATE, f2_feature_filter = STATE, output_feature = STATE, sep=SEP,\n",
    "                  drop_feature_threshold = 10)\n",
    "\n",
    "head(STATE + \"_segments.bed\", 10)"
   ]
  },
  {
   "cell_type": "markdown",
   "metadata": {
    "lang": "en"
   },
   "source": [
    "## Segment annotation\n",
    "Annotate the segments. At a minimum, the percentage of segments that overlap with protein-coding genes in said chromosome should be given."
   ]
  },
  {
   "cell_type": "markdown",
   "metadata": {},
   "source": [
    "### Tracks to annotate\n",
    "The tracks are obtained from https://genome.ucsc.edu/cgi-bin/hgTables"
   ]
  },
  {
   "cell_type": "markdown",
   "metadata": {},
   "source": [
    "### Annotate gene overlap"
   ]
  },
  {
   "cell_type": "code",
   "execution_count": 310,
   "metadata": {},
   "outputs": [
    {
     "name": "stdout",
     "output_type": "stream",
     "text": [
      "chr16\t60400\t61400\tE9\n",
      "chr16\t72600\t72800\tE9\n",
      "chr16\t115200\t116000\tE9+E9_gene_overlap\n",
      "chr16\t146600\t147400\tE9+E9_gene_overlap\n",
      "chr16\t156600\t157600\tE9+E9_gene_overlap\n",
      "chr16\t167800\t168200\tE9+E9_gene_overlap\n",
      "chr16\t412000\t412600\tE9\n",
      "chr16\t441800\t442200\tE9+E9_gene_overlap\n",
      "chr16\t537600\t538000\tE9+E9_gene_overlap\n",
      "chr16\t597000\t597400\tE9+E9_gene_overlap\n",
      "chr16\t629000\t629400\tE9\n",
      "\n",
      "Count of state segments overlapped: 173\n",
      "Count of all state segments 468\n",
      "Percent overlapped state segments over total segments: 36.965811965811966\n"
     ]
    }
   ],
   "source": [
    "OVERLAP_TYPE = \"_gene_overlap\"\n",
    "OUTPUT_FEATURE = STATE + OVERLAP_TYPE\n",
    "\n",
    "intersect_bed(PATH, STATE + \"_segments.bed\", \"hg19_genes.bed\", \n",
    "                  PATH, OUTPUT_FEATURE + \"_annotate.bed\", chrom = CHROM, \n",
    "                  f1_feature_filter = STATE, f2_feature_filter=\"\", \n",
    "                  output_feature = OUTPUT_FEATURE, sep=SEP,\n",
    "                  drop_feature_threshold = 10, output_mode=\"annotate\")\n",
    "head(PATH, OUTPUT_FEATURE + \"_annotate.bed\", 10)\n",
    "\n",
    "overlap_segment_count = bed_segment_count_by_re_feature(PATH, OUTPUT_FEATURE + \"_annotate.bed\", \n",
    "                                                        OUTPUT_FEATURE)\n",
    "print(\"\")\n",
    "print(\"Count of state segments overlapped:\", overlap_segment_count)\n",
    "total_segment_count = bed_segment_count_by_re_feature(PATH, OUTPUT_FEATURE + \"_annotate.bed\", \"\")\n",
    "print(\"Count of all state segments\", total_segment_count)\n",
    "print(\"Percent overlapped state segments over total segments:\", \n",
    "      overlap_segment_count * 100 / total_segment_count)"
   ]
  },
  {
   "cell_type": "markdown",
   "metadata": {},
   "source": [
    "### Annotate exon overlap"
   ]
  },
  {
   "cell_type": "code",
   "execution_count": 311,
   "metadata": {},
   "outputs": [
    {
     "name": "stdout",
     "output_type": "stream",
     "text": [
      "chr16\t60400\t61400\tE9\n",
      "chr16\t72600\t72800\tE9\n",
      "chr16\t115200\t116000\tE9\n",
      "chr16\t146600\t147400\tE9\n",
      "chr16\t156600\t157600\tE9\n",
      "chr16\t167800\t168200\tE9\n",
      "chr16\t412000\t412600\tE9\n",
      "chr16\t441800\t442200\tE9\n",
      "chr16\t537600\t538000\tE9\n",
      "chr16\t597000\t597400\tE9+E9_exon_overlap\n",
      "chr16\t629000\t629400\tE9\n",
      "\n",
      "Count of state segments overlapped: 11\n",
      "Count of all state segments 468\n",
      "Percent overlapped state segments over total segments: 2.3504273504273505\n"
     ]
    }
   ],
   "source": [
    "OVERLAP_TYPE = \"_exon_overlap\"\n",
    "OUTPUT_FEATURE = STATE + OVERLAP_TYPE\n",
    "\n",
    "intersect_bed(PATH, STATE + \"_segments.bed\", \"hg19_coding_exons.bed\", \n",
    "                  PATH, OUTPUT_FEATURE + \"_annotate.bed\", chrom = CHROM, \n",
    "                  f1_feature_filter = STATE, f2_feature_filter=\"\", \n",
    "                  output_feature = OUTPUT_FEATURE, sep=SEP,\n",
    "                  drop_feature_threshold = 10, output_mode=\"annotate\")\n",
    "head(PATH, OUTPUT_FEATURE + \"_annotate.bed\", 10)\n",
    "\n",
    "overlap_segment_count = bed_segment_count_by_re_feature(PATH, OUTPUT_FEATURE + \"_annotate.bed\", \n",
    "                                                        OUTPUT_FEATURE)\n",
    "print(\"\")\n",
    "print(\"Count of state segments overlapped:\", overlap_segment_count)\n",
    "total_segment_count = bed_segment_count_by_re_feature(PATH, OUTPUT_FEATURE + \"_annotate.bed\", \"\")\n",
    "print(\"Count of all state segments\", total_segment_count)\n",
    "print(\"Percent overlapped state segments over total segments:\", \n",
    "      overlap_segment_count * 100 / total_segment_count)"
   ]
  },
  {
   "cell_type": "markdown",
   "metadata": {
    "lang": "en"
   },
   "source": [
    "## DNASE I overlap\n",
    "\n",
    "Download the peaks of DNase I in monocytes of ENCODE for chr16 and calculate the percentage of overlap between DNaseI-peaks and your work segments. Use the file wgEncodeOpenChromDnaseMonocd14Pk.narrowPeak.gz in:\n",
    "http://hgdownload.cse.ucsc.edu/goldenpath/hg19/encodeDCC/wgEncodeOpenChromDnase"
   ]
  },
  {
   "cell_type": "markdown",
   "metadata": {},
   "source": [
    "### Tests"
   ]
  },
  {
   "cell_type": "code",
   "execution_count": 295,
   "metadata": {},
   "outputs": [
    {
     "name": "stdout",
     "output_type": "stream",
     "text": [
      "chr16\t115448\t116000\tE9_dnase1_overlap\n"
     ]
    }
   ],
   "source": [
    "intersect_bed(TEST_PATH, STATE + \"_segments_test.bed\", \"dnase1.peaks.bed\", TEST_PATH, \n",
    "                  STATE + \"_dnase1_overlap_test.bed\",\n",
    "                  chrom = CHROM, f1_feature_filter = STATE, f2_feature_filter = \"\", \n",
    "                  output_feature = STATE + \"_dnase1_overlap\", sep=SEP,\n",
    "                  drop_feature_threshold=20)\n",
    "head(TEST_PATH, STATE +\"_dnase1_overlap_test.bed\", 10)"
   ]
  },
  {
   "cell_type": "markdown",
   "metadata": {},
   "source": [
    "### Overlap"
   ]
  },
  {
   "cell_type": "markdown",
   "metadata": {},
   "source": [
    "#### Overlap by coverage\n",
    "\n",
    "Overlap calculated as percent ratio between sum of base pair overlapped and sum of total base pair covered by all the E9 segments. This method doesn't have much sense because it depends of the arbitrary sensitivity of the dna base segments (200 bps in the case of chromatin states)."
   ]
  },
  {
   "cell_type": "code",
   "execution_count": 296,
   "metadata": {},
   "outputs": [
    {
     "name": "stdout",
     "output_type": "stream",
     "text": [
      "chr16\t72620\t72800\tE9_dnase1_overlap\n",
      "chr16\t115448\t116000\tE9_dnase1_overlap\n",
      "chr16\t146819\t147400\tE9_dnase1_overlap\n",
      "chr16\t157056\t157367\tE9_dnase1_overlap\n",
      "chr16\t167800\t168118\tE9_dnase1_overlap\n",
      "chr16\t412000\t412600\tE9_dnase1_overlap\n",
      "chr16\t441800\t442200\tE9_dnase1_overlap\n",
      "chr16\t537761\t538000\tE9_dnase1_overlap\n",
      "chr16\t597000\t597400\tE9_dnase1_overlap\n",
      "chr16\t629000\t629400\tE9_dnase1_overlap\n",
      "chr16\t661000\t661548\tE9_dnase1_overlap\n",
      "\n",
      "Coverage DNASE peaks: 22653113851288 bps\n",
      "Coverage E9: 43366167200 bps\n",
      "Percent overlap over total coverage peaks: 0.19143578884866774\n"
     ]
    }
   ],
   "source": [
    "intersect_bed(PATH, STATE + \"_segments.bed\", \"wgEncodeOpenChromDnaseMonocd14Pk.narrowPeak.bed\", \n",
    "                  PATH, STATE + \"_dnase1_overlap.bed\", chrom = CHROM, \n",
    "                  f1_feature_filter = STATE, f2_feature_filter = \"\", \n",
    "                  output_feature = STATE + \"_dnase1_overlap\", sep = SEP,\n",
    "                  drop_feature_threshold = 10)\n",
    "head(PATH, \"E9_dnase1_overlap.bed\", 10)\n",
    "coverage_peaks = bed_coverage(PATH, \"wgEncodeOpenChromDnaseMonocd14Pk.narrowPeak.bed\", sep='\\t')\n",
    "coverage_state = bed_coverage(PATH, STATE + \"_segments.bed\", sep='\\t')\n",
    "print(\"\")\n",
    "print(\"Coverage DNASE peaks:\", coverage_peaks, \"bps\")\n",
    "print(\"Coverage E9:\", coverage_state, \"bps\")\n",
    "print(\"Percent overlap over total coverage peaks:\", coverage_state * 100 / coverage_peaks)"
   ]
  },
  {
   "cell_type": "markdown",
   "metadata": {},
   "source": [
    "#### Overlap by segment count\n",
    "\n",
    "Overlap calculated as percent ratio between segment count of overlapped E9-DNASE segments and total count of E9 segments."
   ]
  },
  {
   "cell_type": "code",
   "execution_count": 300,
   "metadata": {},
   "outputs": [
    {
     "name": "stdout",
     "output_type": "stream",
     "text": [
      "chr16\t60400\t61400\tE9\n",
      "chr16\t72600\t72800\tE9+E9_dnase1_overlap\n",
      "chr16\t115200\t116000\tE9+E9_dnase1_overlap\n",
      "chr16\t146600\t147400\tE9+E9_dnase1_overlap\n",
      "chr16\t156600\t157600\tE9\n",
      "chr16\t167800\t168200\tE9\n",
      "chr16\t412000\t412600\tE9+E9_dnase1_overlap\n",
      "chr16\t441800\t442200\tE9+E9_dnase1_overlap\n",
      "chr16\t537600\t538000\tE9+E9_dnase1_overlap\n",
      "chr16\t597000\t597400\tE9+E9_dnase1_overlap\n",
      "chr16\t629000\t629400\tE9+E9_dnase1_overlap\n",
      "\n",
      "Count of state segments overlapped: 127\n",
      "Count of all state segments 468\n",
      "Percent overlapped state segments over total segments: 27.136752136752136\n"
     ]
    }
   ],
   "source": [
    "OUTPUT_FEATURE = STATE + \"_dnase1_overlap\"\n",
    "\n",
    "intersect_bed(PATH, STATE + \"_segments.bed\", \"wgEncodeOpenChromDnaseMonocd14Pk.narrowPeak.bed\", \n",
    "                  PATH, STATE + \"_dnase1_overlap_annotate.bed\", chrom = CHROM, \n",
    "                  f1_feature_filter = STATE, f2_feature_filter=\"\", \n",
    "                  output_feature = OUTPUT_FEATURE, sep=SEP,\n",
    "                  drop_feature_threshold = 10, output_mode=\"annotate\")\n",
    "head(PATH, STATE + \"_dnase1_overlap_annotate.bed\", 10)\n",
    "\n",
    "overlap_segment_count = bed_segment_count_by_re_feature(PATH, STATE + \"_dnase1_overlap_annotate.bed\", \n",
    "                                                        OUTPUT_FEATURE)\n",
    "print(\"\")\n",
    "print(\"Count of state segments overlapped:\", overlap_segment_count)\n",
    "total_segment_count = bed_segment_count_by_re_feature(PATH, STATE + \"_dnase1_overlap_annotate.bed\", \"\")\n",
    "print(\"Count of all state segments\", total_segment_count)\n",
    "print(\"Percent overlapped state segments over total segments:\", \n",
    "      overlap_segment_count * 100 / total_segment_count)"
   ]
  },
  {
   "cell_type": "markdown",
   "metadata": {},
   "source": [
    "#### Automated verifications"
   ]
  },
  {
   "cell_type": "code",
   "execution_count": 301,
   "metadata": {},
   "outputs": [],
   "source": [
    "segment_count_annotate = bed_segment_count_by_re_feature(PATH, STATE + \"_dnase1_overlap_annotate.bed\", \"\")\n",
    "segment_count = bed_segment_count_by_re_feature(PATH, STATE + \"_segments.bed\", \"\")\n",
    "assert segment_count_annotate == segment_count,\\\n",
    "        \"Count of annotated segments not equal to count of original segments\""
   ]
  },
  {
   "cell_type": "markdown",
   "metadata": {},
   "source": [
    "#### Visual inspection"
   ]
  },
  {
   "cell_type": "code",
   "execution_count": 305,
   "metadata": {},
   "outputs": [
    {
     "name": "stdout",
     "output_type": "stream",
     "text": [
      "Counts\n",
      "     468 files/tracks/E9_dnase1_overlap_annotate.bed\n",
      "     468 files/tracks/E9_segments.bed\n",
      "chr16\t89233600\t89234800\tE9\n",
      "chr16\t89527000\t89527400\tE9\n",
      "chr16\t89623800\t89624200\tE9+E9_dnase1_overlap\n",
      "chr16\t89707800\t89708000\tE9+E9_dnase1_overlap\n",
      "chr16\t89772400\t89772600\tE9+E9_dnase1_overlap\n",
      "chr16\t89927000\t89927800\tE9\n",
      "chr16\t89976600\t89977000\tE9+E9_dnase1_overlap\n",
      "chr16\t90092400\t90092800\tE9+E9_dnase1_overlap\n",
      "chr16\t90182400\t90183000\tE9\n",
      "chr16\t90281600\t90282000\tE9\n",
      "\n",
      "chr16\t89233600\t89234800\tE9\n",
      "chr16\t89527000\t89527400\tE9\n",
      "chr16\t89623800\t89624200\tE9\n",
      "chr16\t89707800\t89708000\tE9\n",
      "chr16\t89772400\t89772600\tE9\n",
      "chr16\t89927000\t89927800\tE9\n",
      "chr16\t89976600\t89977000\tE9\n",
      "chr16\t90092400\t90092800\tE9\n",
      "chr16\t90182400\t90183000\tE9\n",
      "chr16\t90281600\t90282000\tE9\n",
      "\n",
      "chr16\t60400\t61400\tE9\n",
      "chr16\t72600\t72800\tE9+E9_dnase1_overlap\n",
      "chr16\t115200\t116000\tE9+E9_dnase1_overlap\n",
      "chr16\t146600\t147400\tE9+E9_dnase1_overlap\n",
      "chr16\t156600\t157600\tE9\n",
      "chr16\t167800\t168200\tE9\n",
      "chr16\t412000\t412600\tE9+E9_dnase1_overlap\n",
      "chr16\t441800\t442200\tE9+E9_dnase1_overlap\n",
      "chr16\t537600\t538000\tE9+E9_dnase1_overlap\n",
      "chr16\t597000\t597400\tE9+E9_dnase1_overlap\n",
      "\n",
      "chr16\t60400\t61400\tE9\n",
      "chr16\t72600\t72800\tE9\n",
      "chr16\t115200\t116000\tE9\n",
      "chr16\t146600\t147400\tE9\n",
      "chr16\t156600\t157600\tE9\n",
      "chr16\t167800\t168200\tE9\n",
      "chr16\t412000\t412600\tE9\n",
      "chr16\t441800\t442200\tE9\n",
      "chr16\t537600\t538000\tE9\n",
      "chr16\t597000\t597400\tE9\n",
      "\n",
      "Counts of annotations:\n",
      "     127\n",
      "     468\n"
     ]
    }
   ],
   "source": [
    "%%bash\n",
    "export TRACKS=files/tracks/\n",
    "echo \"Counts\"\n",
    "wc -l ${TRACKS}E9_dnase1_overlap_annotate.bed\n",
    "wc -l ${TRACKS}E9_segments.bed\n",
    "tail ${TRACKS}E9_dnase1_overlap_annotate.bed\n",
    "echo\n",
    "tail ${TRACKS}E9_segments.bed\n",
    "echo\n",
    "head ${TRACKS}E9_dnase1_overlap_annotate.bed\n",
    "echo\n",
    "head ${TRACKS}E9_segments.bed\n",
    "echo\n",
    "echo \"Counts of annotations:\"\n",
    "cat ${TRACKS}E9_dnase1_overlap_annotate.bed | grep \"E9_dnase1_overlap\" | wc -l\n",
    "cat ${TRACKS}E9_segments.bed | grep \"\" | wc -l"
   ]
  },
  {
   "cell_type": "markdown",
   "metadata": {
    "latex_metadata": {
     "hidden": "true",
     "lexer": "bash"
    }
   },
   "source": [
    "# Outputs"
   ]
  },
  {
   "cell_type": "code",
   "execution_count": 309,
   "metadata": {
    "latex_metadata": {
     "hidden": "true",
     "lexer": "bash"
    }
   },
   "outputs": [
    {
     "name": "stderr",
     "output_type": "stream",
     "text": [
      "[NbConvertApp] Converting notebook genomic_regulation.ipynb to latex\n",
      "[NbConvertApp] Writing 47430 bytes to genomic_regulation.tex\n",
      "[NbConvertApp] Converting notebook genomic_regulation.ipynb to html_with_toclenvs\n",
      "[NbConvertApp] Writing 343611 bytes to genomic_regulation.html\n"
     ]
    }
   ],
   "source": [
    "%%bash\n",
    "jupyter nbconvert --to=latex --template=~/report.tplx genomic_regulation.ipynb 1> /dev/null\n",
    "pdflatex -shell-escape genomic_regulation 1> /dev/null\n",
    "jupyter nbconvert --to html_with_toclenvs genomic_regulation.ipynb 1> /dev/null"
   ]
  }
 ],
 "metadata": {
  "celltoolbar": "Edit Metadata",
  "hide_input": false,
  "kernelspec": {
   "display_name": "Python 3",
   "language": "python",
   "name": "python3"
  },
  "language_info": {
   "codemirror_mode": {
    "name": "ipython",
    "version": 3
   },
   "file_extension": ".py",
   "mimetype": "text/x-python",
   "name": "python",
   "nbconvert_exporter": "python",
   "pygments_lexer": "ipython3",
   "version": "3.6.7"
  },
  "latex_envs": {
   "LaTeX_envs_menu_present": true,
   "autoclose": false,
   "autocomplete": true,
   "bibliofile": "biblio.bib",
   "cite_by": "apalike",
   "current_citInitial": 1,
   "eqLabelWithNumbers": true,
   "eqNumInitial": 1,
   "hotkeys": {
    "equation": "Ctrl-E",
    "itemize": "Ctrl-I"
   },
   "labels_anchors": false,
   "latex_user_defs": false,
   "report_style_numbering": false,
   "user_envs_cfg": false
  },
  "latex_metadata": {
   "author": "Ivó Hernández, Helena Liz, Diego Fuentes, Fernando Freire",
   "title": "Genomic Regulation"
  },
  "nbTranslate": {
   "displayLangs": [
    "en"
   ],
   "hotkey": "alt-t",
   "langInMainMenu": true,
   "sourceLang": "es",
   "targetLang": "en",
   "useGoogleTranslate": true
  },
  "toc": {
   "base_numbering": 1,
   "nav_menu": {},
   "number_sections": true,
   "sideBar": true,
   "skip_h1_title": false,
   "title_cell": "Table of Contents",
   "title_sidebar": "Contents",
   "toc_cell": false,
   "toc_position": {
    "height": "calc(100% - 180px)",
    "left": "10px",
    "top": "150px",
    "width": "165px"
   },
   "toc_section_display": true,
   "toc_window_display": true
  },
  "varInspector": {
   "cols": {
    "lenName": 16,
    "lenType": 16,
    "lenVar": 40
   },
   "kernels_config": {
    "python": {
     "delete_cmd_postfix": "",
     "delete_cmd_prefix": "del ",
     "library": "var_list.py",
     "varRefreshCmd": "print(var_dic_list())"
    },
    "r": {
     "delete_cmd_postfix": ") ",
     "delete_cmd_prefix": "rm(",
     "library": "var_list.r",
     "varRefreshCmd": "cat(var_dic_list()) "
    }
   },
   "types_to_exclude": [
    "module",
    "function",
    "builtin_function_or_method",
    "instance",
    "_Feature"
   ],
   "window_display": false
  }
 },
 "nbformat": 4,
 "nbformat_minor": 2
}
