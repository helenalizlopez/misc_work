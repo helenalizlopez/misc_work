{
 "cells": [
  {
   "cell_type": "markdown",
   "metadata": {},
   "source": [
    "# Exercise 2\n",
    "Random Graphs, Regular Graphs and Small World Networks"
   ]
  },
  {
   "cell_type": "markdown",
   "metadata": {},
   "source": [
    "## Study the properties of a random graph (1.5 hours).\n",
    "a. Implement a Python routine L_C_Random that returns the average value of the coefficients C (clustering coefficient ) and L (characteristic path) and the order of the largest connected component of a set of n_graph random graphs of n nodes and probability p . The format of the function must be\n",
    "[ l, c , tam ] = L_C_Aleatorio ( n_graph, n, p )"
   ]
  },
  {
   "cell_type": "code",
   "execution_count": 1,
   "metadata": {},
   "outputs": [],
   "source": [
    "import warnings\n",
    "warnings.filterwarnings(\"ignore\")\n",
    "import networkx as nx\n",
    "import math as math\n",
    "import pandas as pd\n",
    "import matplotlib.pyplot as plt\n",
    "%matplotlib inline"
   ]
  },
  {
   "cell_type": "code",
   "execution_count": 2,
   "metadata": {},
   "outputs": [
    {
     "name": "stdout",
     "output_type": "stream",
     "text": [
      "[0.076436128577305, 1.8004444444444445, 80.0]\n"
     ]
    }
   ],
   "source": [
    "def get_graph_metrics(graph):\n",
    "    largest_cc = max(nx.connected_components(graph), key=len)   \n",
    "    largest_connected_subgraph = graph.subgraph(largest_cc)\n",
    "    if not nx.is_connected(graph): \n",
    "        subgraph = largest_connected_subgraph\n",
    "    else:\n",
    "        subgraph = graph\n",
    "    return nx.average_clustering(graph),\\\n",
    "           nx.average_shortest_path_length(subgraph),\\\n",
    "           largest_connected_subgraph.order()\n",
    "    \n",
    "def l_c_random(n_graph, n, p):\n",
    "    acum_c = 0\n",
    "    acum_l = 0\n",
    "    acum_o = 0\n",
    "    for i in range(0, n_graph - 1):\n",
    "        graph = nx.gnp_random_graph(n, p)\n",
    "        c, l, o = get_graph_metrics(graph)\n",
    "        acum_c += c\n",
    "        acum_l += l\n",
    "        acum_o += o\n",
    "    return [acum_c/n_graph, acum_l/n_graph, acum_o/n_graph]\n",
    "\n",
    "metrics = l_c_random(5, 100, 0.1)\n",
    "print(metrics)"
   ]
  },
  {
   "cell_type": "markdown",
   "metadata": {},
   "source": [
    "b. Use the previous routine, to plot the behavior of L, C and the order of the largest\n",
    "connected component for different values of the probability p and a fixed number of\n",
    "nodes.\n",
    "Use n = 800 , n_graph = 100 and the following values of p\n",
    "\n",
    "$ [0,0.0001, 0.0003, 0.0006, 0.001, 0.003, 0.006, 0.01, 0.03, 0.06, 0.1, 0.3, 0.6, 1.0] $\n",
    "\n"
   ]
  },
  {
   "cell_type": "code",
   "execution_count": 4,
   "metadata": {},
   "outputs": [
    {
     "name": "stdout",
     "output_type": "stream",
     "text": [
      "Running 0\n",
      "Running 0.0001\n",
      "Running 0.0003\n",
      "Running 0.0006\n",
      "Running 0.001\n",
      "Running 0.003\n",
      "Running 0.006\n",
      "Running 0.01\n",
      "Running 0.03\n",
      "Running 0.06\n",
      "Running 0.1\n",
      "Running 0.3\n",
      "Running 0.6\n",
      "Running 1.0\n",
      "[0.0, 0.0, 0.0, 3.75e-05, 0.00011666666666666665, 0.002045951479076479, 0.00586383288280347, 0.009689305543387596, 0.02966525792587014, 0.05936722235594138, 0.09901122358460329, 0.29710067677141755, 0.5938933809886913, 0.99]\n",
      "[0.0, 1.334999999999999, 1.888515873015873, 3.002485887830778, 5.501815464018222, 7.214462937083598, 4.3866143473518475, 3.413741711625743, 2.4184853566958706, 1.9727301627033782, 1.8813282227784724, 1.682917083854819, 1.386102315394243, 0.99]\n",
      "[0.99, 3.03, 5.16, 10.18, 28.28, 694.63, 785.12, 791.83, 792.0, 792.0, 792.0, 792.0, 792.0, 792.0]\n"
     ]
    }
   ],
   "source": [
    "c_metrics = []\n",
    "l_metrics = []\n",
    "o_metrics = []\n",
    "n_graph = 100\n",
    "n = 800\n",
    "\n",
    "p_set = [0,0.0001, 0.0003, 0.0006, 0.001, 0.003, 0.006, 0.01, 0.03, 0.06, 0.1, 0.3, 0.6, 1.0]\n",
    "for p in p_set:\n",
    "    print(\"Running\", p)\n",
    "    [c, l, o] = l_c_random(n_graph, n, p)\n",
    "    c_metrics.append(c)\n",
    "    l_metrics.append(l)\n",
    "    o_metrics.append(o)\n",
    "    \n",
    "print(c_metrics)\n",
    "print(l_metrics)\n",
    "print(o_metrics)\n",
    "\n",
    "# Serialize and dump results as backup\n",
    "import pickle\n",
    "\n",
    "binary_file = open('c_metrics.bin',mode='wb')\n",
    "pickle.dump(c_metrics, binary_file)\n",
    "binary_file.close()\n",
    "\n",
    "binary_file = open('l_metrics.bin',mode='wb')\n",
    "pickle.dump(l_metrics, binary_file)\n",
    "binary_file.close()\n",
    "\n",
    "binary_file = open('o_metrics.bin',mode='wb')\n",
    "pickle.dump(o_metrics, binary_file)\n",
    "binary_file.close()"
   ]
  },
  {
   "cell_type": "code",
   "execution_count": 16,
   "metadata": {},
   "outputs": [
    {
     "data": {
      "image/png": "[encoded data removed]",
      "text/plain": [
       "<Figure size 432x288 with 1 Axes>"
      ]
     },
     "metadata": {
      "needs_background": "light"
     },
     "output_type": "display_data"
    }
   ],
   "source": [
    "# Deserialize\n",
    "binary_file = open('c_metrics.bin',mode='rb')\n",
    "c_metrics_new = pickle.load(binary_file)\n",
    "binary_file.close()\n",
    "\n",
    "binary_file = open('l_metrics.bin',mode='rb')\n",
    "l_metrics_new = pickle.load(binary_file)\n",
    "binary_file.close()\n",
    "\n",
    "binary_file = open('o_metrics.bin',mode='rb')\n",
    "o_metrics_new = pickle.load(binary_file)\n",
    "binary_file.close()\n",
    "\n",
    "plt.plot(p_set, c_metrics_new, color=\"blue\")\n",
    "plt.plot(p_set, l_metrics_new, color=\"green\");\n",
    "#plt.plot(p_set, o_metrics, color=\"blue\")"
   ]
  },
  {
   "cell_type": "code",
   "execution_count": 17,
   "metadata": {
    "scrolled": true
   },
   "outputs": [
    {
     "data": {
      "image/png": "[encoded data removed]",
      "text/plain": [
       "<Figure size 432x288 with 1 Axes>"
      ]
     },
     "metadata": {
      "needs_background": "light"
     },
     "output_type": "display_data"
    }
   ],
   "source": [
    "plt.plot(p_set, o_metrics_new, color=\"blue\");"
   ]
  },
  {
   "cell_type": "markdown",
   "metadata": {},
   "source": [
    "# Backlog topics\n",
    "\n",
    "\n",
    "b. Use the previous routine, to plot the behavior of L, C and the order of the largest\n",
    "connected component for different values of the probability p and a fixed number of\n",
    "nodes.\n",
    "Use n = 800 , n_graph = 100 and the following values of p\n",
    "[ 0,0,0001,0,0003,0,0006, 0.001.0.003.0.006.0.01.0.03.0.06, 0 .1.0.3.0.6.1.]\n",
    "Can occur what, in Some cases, L take the value infinite (assign them the same value as\n",
    "the maximum) What happens in the graph for what L take that value?\n",
    "Draw a graph that describes the behaviour of these three parameters as a function of p.\n",
    "For what probabilities p he produce changes phase in the behavior the parameters L,\n",
    "C and order of the largest connected component ?\n",
    "Regular networks and small world (1.5h)\n",
    "a. Implement a Python routine that generates a directed and weighted onedimensional mesh (each branch must take a random value according to\n",
    "a normal (0,1) of n nodes, where each node is connected to its k neighbours left (k/\n",
    "2) and right (k/2) . The format of the routine should be:\n",
    "G = mesh_1d_directed_weighted (n, k )\n",
    "Calculate the clustering index C and the characteristic path L for a mesh of n = 800\n",
    "nodes and k = 8 neighbours. Is the clustering index and the characteristic path\n",
    "comparable to that of a random graph not directed or weighted equivalent?\n",
    "b. Using the NetworkX function watts_strogatz_ graph ( n,k,p) implement a\n",
    "Python routine L_C_small_world ( n_graph , n, k, p ) that returns the average value\n",
    "of the coefficients C ( average clustering index ) and L (characteristic path) for a set\n",
    "of n_graph Small World graphs . The format of the function must be\n",
    "[ l, c ] = L_C_ Small_World ( n_graph, n , k , p )\n",
    "c. Using the above routine, generate a graph with the behaviour of C and L for\n",
    "different values of probability p and a fixed number of nodes and branches.\n",
    "Take N = 800, k = 8 and the following p values\n",
    "[ 0.0.0001, .0.0003, .0.0006, 0.001.0.003.0.006.0.01.0.03.0.06, 0.1.0.3.0.6.1.]\n",
    "For what probabilities p phase changes occur in behavior parameters L and C?\n",
    "Between what values of p you would say that there is the Small- World zone for these\n",
    "values of N and k. Does the p value observed correspond to the theoretical p value for\n",
    "the phase change in the behaviour of the characteristic path?\n",
    "Compare the graphs obtained from C and L with the corresponding theoretical graphs.\n",
    "With the data you obtained in exercise 1. Would you say that the protein interaction\n",
    "network of Caernobidis Elegans could be considered a small world network (Reason the\n",
    "answer)?"
   ]
  }
 ],
 "metadata": {
  "hide_input": false,
  "kernelspec": {
   "display_name": "Python 3",
   "language": "python",
   "name": "python3"
  },
  "language_info": {
   "codemirror_mode": {
    "name": "ipython",
    "version": 3
   },
   "file_extension": ".py",
   "mimetype": "text/x-python",
   "name": "python",
   "nbconvert_exporter": "python",
   "pygments_lexer": "ipython3",
   "version": "3.6.7"
  },
  "latex_envs": {
   "LaTeX_envs_menu_present": true,
   "autoclose": false,
   "autocomplete": true,
   "bibliofile": "biblio.bib",
   "cite_by": "apalike",
   "current_citInitial": 1,
   "eqLabelWithNumbers": true,
   "eqNumInitial": 1,
   "hotkeys": {
    "equation": "Ctrl-E",
    "itemize": "Ctrl-I"
   },
   "labels_anchors": false,
   "latex_user_defs": false,
   "report_style_numbering": false,
   "user_envs_cfg": false
  },
  "nbTranslate": {
   "displayLangs": [
    "en"
   ],
   "hotkey": "alt-t",
   "langInMainMenu": true,
   "sourceLang": "es",
   "targetLang": "en",
   "useGoogleTranslate": true
  },
  "toc": {
   "base_numbering": 1,
   "nav_menu": {},
   "number_sections": true,
   "sideBar": true,
   "skip_h1_title": false,
   "title_cell": "Table of Contents",
   "title_sidebar": "Contents",
   "toc_cell": false,
   "toc_position": {},
   "toc_section_display": true,
   "toc_window_display": true
  },
  "varInspector": {
   "cols": {
    "lenName": 16,
    "lenType": 16,
    "lenVar": 40
   },
   "kernels_config": {
    "python": {
     "delete_cmd_postfix": "",
     "delete_cmd_prefix": "del ",
     "library": "var_list.py",
     "varRefreshCmd": "print(var_dic_list())"
    },
    "r": {
     "delete_cmd_postfix": ") ",
     "delete_cmd_prefix": "rm(",
     "library": "var_list.r",
     "varRefreshCmd": "cat(var_dic_list()) "
    }
   },
   "types_to_exclude": [
    "module",
    "function",
    "builtin_function_or_method",
    "instance",
    "_Feature"
   ],
   "window_display": false
  }
 },
 "nbformat": 4,
 "nbformat_minor": 2
}
