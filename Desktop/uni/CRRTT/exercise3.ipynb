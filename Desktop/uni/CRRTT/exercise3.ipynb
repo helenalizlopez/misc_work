{
 "cells": [
  {
   "cell_type": "markdown",
   "metadata": {
    "lang": "en"
   },
   "source": [
    "# Exercise 3\n",
    "Scale-free networks and networks attacks"
   ]
  },
  {
   "cell_type": "code",
   "execution_count": 1,
   "metadata": {},
   "outputs": [],
   "source": [
    "import warnings\n",
    "warnings.filterwarnings(\"ignore\")\n",
    "import networkx as nx\n",
    "import math as math\n",
    "import pandas as pd\n",
    "import matplotlib.pyplot as plt\n",
    "%matplotlib inline"
   ]
  },
  {
   "cell_type": "markdown",
   "metadata": {
    "lang": "en"
   },
   "source": [
    "## Scale-free networks.\n",
    "\n",
    "Generate a scale-free network with $10000$ edges and add $10$ nodes in each\n",
    "step (use the method *barabasi_albert_ graph(n, m)*). \n",
    "\n",
    "Calculate the values of $L$, $C$ and the degree distribution of the nodes. \n",
    "\n",
    "Generate a random network that has the same number of nodes and branches as the network that you have created.\n",
    "\n",
    "Calculate your values of $L$, $C$ and the degree distribution of the nodes and compare the values\n",
    "obtained."
   ]
  },
  {
   "cell_type": "markdown",
   "metadata": {},
   "source": [
    "### L & C"
   ]
  },
  {
   "cell_type": "code",
   "execution_count": 2,
   "metadata": {},
   "outputs": [],
   "source": [
    "def get_graph_metrics(graph):\n",
    "    largest_cc = max(nx.connected_components(graph), key=len)   \n",
    "    largest_connected_subgraph = graph.subgraph(largest_cc)\n",
    "    if not nx.is_connected(graph): \n",
    "        subgraph = largest_connected_subgraph\n",
    "    else:\n",
    "        subgraph = graph\n",
    "    return nx.average_clustering(graph),\\\n",
    "           nx.average_shortest_path_length(subgraph),\\\n",
    "           largest_connected_subgraph.order()\n",
    "    \n",
    "def l_c_random(n_graph, n, p):\n",
    "    acum_c = 0\n",
    "    acum_l = 0\n",
    "    acum_o = 0\n",
    "    for i in range(0, n_graph):\n",
    "        graph = nx.gnp_random_graph(n, p)\n",
    "        c, l, o = get_graph_metrics(graph)\n",
    "        acum_c += c\n",
    "        acum_l += l\n",
    "        acum_o += o\n",
    "    return [acum_c/n_graph, acum_l/n_graph, acum_o/n_graph]"
   ]
  },
  {
   "cell_type": "code",
   "execution_count": 3,
   "metadata": {},
   "outputs": [],
   "source": [
    "order = 10000\n",
    "edges = 10\n",
    "graph_free_scale_barabasi = nx.barabasi_albert_graph(order, edges)\n",
    "c, l, o = get_graph_metrics(graph_free_scale_barabasi)"
   ]
  },
  {
   "cell_type": "code",
   "execution_count": 6,
   "metadata": {},
   "outputs": [
    {
     "name": "stdout",
     "output_type": "stream",
     "text": [
      "0.011121720734477772 3.0628272427242726 10000\n"
     ]
    }
   ],
   "source": [
    "print(c, l, o)\n",
    "# Result : 0.011121720734477772 3.0628272427242726 10000"
   ]
  },
  {
   "cell_type": "code",
   "execution_count": 4,
   "metadata": {},
   "outputs": [
    {
     "name": "stdout",
     "output_type": "stream",
     "text": [
      "Free scale graph size: 99900\n"
     ]
    },
    {
     "data": {
      "text/html": [
       "<div>\n",
       "<style scoped>\n",
       "    .dataframe tbody tr th:only-of-type {\n",
       "        vertical-align: middle;\n",
       "    }\n",
       "\n",
       "    .dataframe tbody tr th {\n",
       "        vertical-align: top;\n",
       "    }\n",
       "\n",
       "    .dataframe thead th {\n",
       "        text-align: right;\n",
       "    }\n",
       "</style>\n",
       "<table border=\"1\" class=\"dataframe\">\n",
       "  <thead>\n",
       "    <tr style=\"text-align: right;\">\n",
       "      <th></th>\n",
       "      <th>Free Scale</th>\n",
       "      <th>Random</th>\n",
       "    </tr>\n",
       "  </thead>\n",
       "  <tbody>\n",
       "    <tr>\n",
       "      <th>Average clustering</th>\n",
       "      <td>0.011050</td>\n",
       "      <td>0.001928</td>\n",
       "    </tr>\n",
       "    <tr>\n",
       "      <th>Average shortest path length</th>\n",
       "      <td>3.062604</td>\n",
       "      <td>3.403116</td>\n",
       "    </tr>\n",
       "  </tbody>\n",
       "</table>\n",
       "</div>"
      ],
      "text/plain": [
       "                              Free Scale    Random\n",
       "Average clustering              0.011050  0.001928\n",
       "Average shortest path length    3.062604  3.403116"
      ]
     },
     "execution_count": 4,
     "metadata": {},
     "output_type": "execute_result"
    }
   ],
   "source": [
    "print(\"Free scale graph size:\", graph_free_scale_barabasi.size())\n",
    "graph_random = nx.gnm_random_graph(order, graph_free_scale_barabasi.size())\n",
    "c_random, l_random, o_random = get_graph_metrics(graph_random)\n",
    "\n",
    "d = {'Free Scale': [c, l], 'Random': [c_random, l_random]}\n",
    "df = pd.DataFrame(data=d, index = ['Average clustering',\n",
    "                                   'Average shortest path length'])\n",
    "df"
   ]
  },
  {
   "cell_type": "markdown",
   "metadata": {},
   "source": [
    "### Node degree distribution\n",
    "\n",
    "Plot by curves."
   ]
  },
  {
   "cell_type": "code",
   "execution_count": 14,
   "metadata": {},
   "outputs": [
    {
     "data": {
      "image/png": "[encoded data removed]",
      "text/plain": [
       "<Figure size 432x288 with 1 Axes>"
      ]
     },
     "metadata": {
      "needs_background": "light"
     },
     "output_type": "display_data"
    }
   ],
   "source": [
    "plt.xlabel('degree')\n",
    "plt.ylabel('frequency')\n",
    "plt.xlim(0, 40)\n",
    "\n",
    "his = nx.degree_histogram(graph_free_scale_barabasi)\n",
    "plt.plot([i/order for i in his], color='g')\n",
    "his_al = nx.degree_histogram(graph_random)\n",
    "plt.grid()\n",
    "plt.plot([i/order for i in his_al], color='b');"
   ]
  },
  {
   "cell_type": "markdown",
   "metadata": {},
   "source": [
    "\n",
    "Another plot"
   ]
  },
  {
   "cell_type": "code",
   "execution_count": 18,
   "metadata": {},
   "outputs": [
    {
     "data": {
      "image/png": "[encoded data removed]",
      "text/plain": [
       "<Figure size 432x288 with 1 Axes>"
      ]
     },
     "metadata": {
      "needs_background": "light"
     },
     "output_type": "display_data"
    }
   ],
   "source": [
    "# Another way\n",
    "plt.title(\"Degree Histogram\")\n",
    "plt.ylabel(\"Count\")\n",
    "plt.xlabel(\"Degree\")\n",
    "plt.xlim(0, 40)\n",
    "L = nx.degree_histogram(graph_free_scale_barabasi)\n",
    "plt.bar(range(len(L)),L, width=0.80, color='g')\n",
    "L = nx.degree_histogram(graph_random)\n",
    "plt.bar(range(len(L)),L, width=0.80, color='b')\n",
    "plt.show()"
   ]
  },
  {
   "cell_type": "markdown",
   "metadata": {},
   "source": [
    "### Results Comparison"
   ]
  },
  {
   "cell_type": "markdown",
   "metadata": {
    "lang": "en"
   },
   "source": [
    "## Network Attack.\n",
    "\n",
    "### Random attack\n",
    "\n",
    "Implement a routine program random_attack $(G, m)$ in Python that perform a random attack on $m$ nodes of graph $G$.\n",
    "\n",
    "Use the previous routine to calculate the size of the largest connected component\n",
    "connected in random, small world and scale-free graphs of $1000$ nodes and $4000$ branches after attacks of 10%, 30%, 50%, 70% and 90% of the nodes of the graph."
   ]
  },
  {
   "cell_type": "code",
   "execution_count": 17,
   "metadata": {},
   "outputs": [
    {
     "name": "stdout",
     "output_type": "stream",
     "text": [
      "Removing 3 nodes\n"
     ]
    },
    {
     "data": {
      "image/png": "[encoded data removed]",
      "text/plain": [
       "<Figure size 432x288 with 1 Axes>"
      ]
     },
     "metadata": {},
     "output_type": "display_data"
    }
   ],
   "source": [
    "import random\n",
    "def random_attack(graph, m):\n",
    "    \"\"\"\n",
    "    \"\"\"\n",
    "    print(\"Removing %s nodes\" % (m))\n",
    "    for remove in range(0,m):\n",
    "        node = random.choice(list(graph.nodes))\n",
    "        graph.remove_node(node)\n",
    "\n",
    "    return graph\n",
    "\n",
    "def random_attack_percent(graph, percent_nodes_attacked):\n",
    "    \"\"\"\n",
    "    \"\"\"\n",
    "    m = graph.order() * percent_nodes_attacked / 100\n",
    "    return random_attack(graph, round(m))\n",
    "\n",
    "n = 10\n",
    "e = 4\n",
    "percent_nodes_attacked = 30\n",
    "graph = nx.gnm_random_graph(n, e)\n",
    "graph_attacked = random_attack_percent(graph, percent_nodes_attacked)\n",
    "nx.draw_circular(graph_attacked, with_labels = True, node_color = \"yellow\", node_size = 1000)"
   ]
  },
  {
   "cell_type": "code",
   "execution_count": 47,
   "metadata": {},
   "outputs": [
    {
     "name": "stdout",
     "output_type": "stream",
     "text": [
      "Attacking 10 nodes\n",
      "Removing 1 nodes\n",
      "Attacking 30 nodes\n",
      "Removing 3 nodes\n",
      "Attacking 50 nodes\n",
      "Removing 5 nodes\n",
      "Attacking 70 nodes\n",
      "Removing 7 nodes\n",
      "Attacking 90 nodes\n",
      "Removing 9 nodes\n",
      "[31, 20, 9, 2, 0]\n",
      "Attacking 10 nodes\n",
      "Removing 1 nodes\n",
      "Attacking 30 nodes\n",
      "Removing 3 nodes\n",
      "Attacking 50 nodes\n",
      "Removing 5 nodes\n",
      "Attacking 70 nodes\n",
      "Removing 7 nodes\n",
      "Attacking 90 nodes\n",
      "Removing 9 nodes\n",
      "[8, 0, 4, 0, 0]\n",
      "Attacking 10 nodes\n",
      "Removing 1 nodes\n",
      "Attacking 30 nodes\n",
      "Removing 3 nodes\n",
      "Attacking 50 nodes\n",
      "Removing 5 nodes\n",
      "Attacking 70 nodes\n",
      "Removing 7 nodes\n",
      "Attacking 90 nodes\n",
      "Removing 9 nodes\n",
      "[8, 6, 0, 2, 0]\n"
     ]
    },
    {
     "data": {
      "text/html": [
       "<div>\n",
       "<style scoped>\n",
       "    .dataframe tbody tr th:only-of-type {\n",
       "        vertical-align: middle;\n",
       "    }\n",
       "\n",
       "    .dataframe tbody tr th {\n",
       "        vertical-align: top;\n",
       "    }\n",
       "\n",
       "    .dataframe thead th {\n",
       "        text-align: right;\n",
       "    }\n",
       "</style>\n",
       "<table border=\"1\" class=\"dataframe\">\n",
       "  <thead>\n",
       "    <tr style=\"text-align: right;\">\n",
       "      <th></th>\n",
       "      <th>Random</th>\n",
       "      <th>Small-World</th>\n",
       "      <th>Scale-Free</th>\n",
       "    </tr>\n",
       "  </thead>\n",
       "  <tbody>\n",
       "    <tr>\n",
       "      <th>10%</th>\n",
       "      <td>31</td>\n",
       "      <td>8</td>\n",
       "      <td>8</td>\n",
       "    </tr>\n",
       "    <tr>\n",
       "      <th>30%</th>\n",
       "      <td>20</td>\n",
       "      <td>6</td>\n",
       "      <td>0</td>\n",
       "    </tr>\n",
       "    <tr>\n",
       "      <th>50%</th>\n",
       "      <td>9</td>\n",
       "      <td>0</td>\n",
       "      <td>4</td>\n",
       "    </tr>\n",
       "    <tr>\n",
       "      <th>70%</th>\n",
       "      <td>2</td>\n",
       "      <td>2</td>\n",
       "      <td>0</td>\n",
       "    </tr>\n",
       "    <tr>\n",
       "      <th>90%</th>\n",
       "      <td>0</td>\n",
       "      <td>0</td>\n",
       "      <td>0</td>\n",
       "    </tr>\n",
       "  </tbody>\n",
       "</table>\n",
       "</div>"
      ],
      "text/plain": [
       "     Random  Small-World  Scale-Free\n",
       "10%      31            8           8\n",
       "30%      20            6           0\n",
       "50%       9            0           4\n",
       "70%       2            2           0\n",
       "90%       0            0           0"
      ]
     },
     "execution_count": 47,
     "metadata": {},
     "output_type": "execute_result"
    }
   ],
   "source": [
    "def node_attack(initial_graph, percents_nodes_attacked):\n",
    "    \"\"\"\n",
    "    \"\"\"\n",
    "    sizes_max_connected_subgraph = []\n",
    "    for percent_nodes_attacked in percents_nodes_attacked:\n",
    "        print(\"Attacking %s nodes\" % (percent_nodes_attacked))\n",
    "        graph = initial_graph.copy()\n",
    "        attacked_graph = random_attack_percent(graph, percent_nodes_attacked)\n",
    "        largest_cc = max(nx.connected_components(attacked_graph), key=len) \n",
    "        largest_connected_subgraph = attacked_graph.subgraph(largest_cc)\n",
    "        sizes_max_connected_subgraph.append(largest_connected_subgraph.size())\n",
    "    return sizes_max_connected_subgraph\n",
    "        \n",
    "\n",
    "percents_nodes_attacked = [10, 30, 50, 70, 90]\n",
    "n = 10\n",
    "e = 40\n",
    "\n",
    "graph_random = nx.gnm_random_graph(n, e)\n",
    "random_size = node_attack(graph_random, percents_nodes_attacked)\n",
    "print(random_size)\n",
    "\n",
    "graph_scale_free = nx.barabasi_albert_graph(n, min(n, e) - 1)\n",
    "free_scale_size = node_attack(graph_scale_free, percents_nodes_attacked)\n",
    "print(free_scale_size)\n",
    "\n",
    "k = int(e*2/n)\n",
    "p = 0.3\n",
    "graph_small_world = nx.watts_strogatz_graph(n, k, p, 0)\n",
    "small_world_size = node_attack(graph_scale_free, percents_nodes_attacked)\n",
    "print(small_world_size)\n",
    "\n",
    "d = {'Random': random_size, 'Small-World': small_world_size, 'Scale-Free': free_scale_size}\n",
    "df = pd.DataFrame(data=d, index = [str(i)+'%' for i in percents_nodes_attacked])\n",
    "df\n"
   ]
  },
  {
   "cell_type": "code",
   "execution_count": 42,
   "metadata": {},
   "outputs": [
    {
     "name": "stdout",
     "output_type": "stream",
     "text": [
      "1000 4000 8\n",
      "4000\n"
     ]
    },
    {
     "data": {
      "image/png": "[encoded data removed]",
      "text/plain": [
       "<Figure size 432x288 with 1 Axes>"
      ]
     },
     "metadata": {},
     "output_type": "display_data"
    }
   ],
   "source": [
    "n = 1000\n",
    "e = 4000\n",
    "k = int(e*2/n)\n",
    "print (n , e, k)\n",
    "g = nx.watts_strogatz_graph(n, k, 0.5, 0)\n",
    "print(g.size())\n",
    "nx.draw_circular(g)"
   ]
  },
  {
   "cell_type": "markdown",
   "metadata": {
    "lang": "en"
   },
   "source": [
    "### Attack degrees\n",
    "\n",
    "Implement a method *degree_attack(G, m)* in Python that performs an attack based on degrees to $m$ nodes of graph $G$.\n",
    "\n",
    "Use the previous routine to calculate the size of the largest connected component in random, small world and scale-free graphs of $1000$ nodes and $4000$ branches after attacks of 10%, 30%, 50%, 70% and 90% of the nodes."
   ]
  },
  {
   "cell_type": "code",
   "execution_count": null,
   "metadata": {},
   "outputs": [],
   "source": []
  },
  {
   "cell_type": "markdown",
   "metadata": {
    "lang": "en"
   },
   "source": [
    "### Comparisons\n",
    "Compare the result obtained in the two previous sections."
   ]
  }
 ],
 "metadata": {
  "hide_input": false,
  "kernelspec": {
   "display_name": "Python 3",
   "language": "python",
   "name": "python3"
  },
  "language_info": {
   "codemirror_mode": {
    "name": "ipython",
    "version": 3
   },
   "file_extension": ".py",
   "mimetype": "text/x-python",
   "name": "python",
   "nbconvert_exporter": "python",
   "pygments_lexer": "ipython3",
   "version": "3.6.7"
  },
  "latex_envs": {
   "LaTeX_envs_menu_present": true,
   "autoclose": false,
   "autocomplete": true,
   "bibliofile": "biblio.bib",
   "cite_by": "apalike",
   "current_citInitial": 1,
   "eqLabelWithNumbers": true,
   "eqNumInitial": 1,
   "hotkeys": {
    "equation": "Ctrl-E",
    "itemize": "Ctrl-I"
   },
   "labels_anchors": false,
   "latex_user_defs": false,
   "report_style_numbering": false,
   "user_envs_cfg": false
  },
  "nbTranslate": {
   "displayLangs": [
    "en"
   ],
   "hotkey": "alt-t",
   "langInMainMenu": true,
   "sourceLang": "es",
   "targetLang": "en",
   "useGoogleTranslate": true
  },
  "toc": {
   "base_numbering": 1,
   "nav_menu": {},
   "number_sections": true,
   "sideBar": true,
   "skip_h1_title": false,
   "title_cell": "Table of Contents",
   "title_sidebar": "Contents",
   "toc_cell": false,
   "toc_position": {},
   "toc_section_display": true,
   "toc_window_display": true
  },
  "varInspector": {
   "cols": {
    "lenName": 16,
    "lenType": 16,
    "lenVar": 40
   },
   "kernels_config": {
    "python": {
     "delete_cmd_postfix": "",
     "delete_cmd_prefix": "del ",
     "library": "var_list.py",
     "varRefreshCmd": "print(var_dic_list())"
    },
    "r": {
     "delete_cmd_postfix": ") ",
     "delete_cmd_prefix": "rm(",
     "library": "var_list.r",
     "varRefreshCmd": "cat(var_dic_list()) "
    }
   },
   "types_to_exclude": [
    "module",
    "function",
    "builtin_function_or_method",
    "instance",
    "_Feature"
   ],
   "window_display": false
  }
 },
 "nbformat": 4,
 "nbformat_minor": 2
}
