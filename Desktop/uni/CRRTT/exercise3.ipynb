{
 "cells": [
  {
   "cell_type": "markdown",
   "metadata": {
    "lang": "en"
   },
   "source": [
    "# Exercise 3\n",
    "Scale-free networks and networks attacks"
   ]
  },
  {
   "cell_type": "code",
   "execution_count": 218,
   "metadata": {},
   "outputs": [],
   "source": [
    "import warnings\n",
    "warnings.filterwarnings(\"ignore\")\n",
    "import networkx as nx\n",
    "import math as math\n",
    "import pandas as pd\n",
    "import matplotlib.pyplot as plt\n",
    "import matplotlib.lines as mlines\n",
    "import matplotlib as mpl\n",
    "from matplotlib import colors\n",
    "%matplotlib inline"
   ]
  },
  {
   "cell_type": "markdown",
   "metadata": {
    "lang": "en"
   },
   "source": [
    "## Scale-free networks.\n",
    "\n",
    "Generate a scale-free network with $10000$ edges and add $10$ nodes in each\n",
    "step (use the method *barabasi_albert_ graph(n, m)*). \n",
    "\n",
    "Calculate the values of $L$, $C$ and the degree distribution of the nodes. \n",
    "\n",
    "Generate a random network that has the same number of nodes and branches as the network that you have created.\n",
    "\n",
    "Calculate your values of $L$, $C$ and the degree distribution of the nodes and compare the values\n",
    "obtained."
   ]
  },
  {
   "cell_type": "markdown",
   "metadata": {},
   "source": [
    "### L & C"
   ]
  },
  {
   "cell_type": "code",
   "execution_count": 128,
   "metadata": {},
   "outputs": [],
   "source": [
    "def get_graph_metrics(graph):\n",
    "    largest_cc = max(nx.connected_components(graph), key=len)   \n",
    "    largest_connected_subgraph = graph.subgraph(largest_cc)\n",
    "    if not nx.is_connected(graph): \n",
    "        subgraph = largest_connected_subgraph\n",
    "    else:\n",
    "        subgraph = graph\n",
    "    return nx.average_clustering(graph),\\\n",
    "           nx.average_shortest_path_length(subgraph),\\\n",
    "           largest_connected_subgraph.order()\n",
    "    \n",
    "def l_c_random(n_graph, n, p):\n",
    "    acum_c = 0\n",
    "    acum_l = 0\n",
    "    acum_o = 0\n",
    "    for i in range(0, n_graph):\n",
    "        graph = nx.gnp_random_graph(n, p)\n",
    "        c, l, o = get_graph_metrics(graph)\n",
    "        acum_c += c\n",
    "        acum_l += l\n",
    "        acum_o += o\n",
    "    return [acum_c/n_graph, acum_l/n_graph, acum_o/n_graph]\n",
    "\n",
    "def graph_metric(metric, graph):\n",
    "    \"\"\"\n",
    "    Promediate a node metric to all the nodes of the graph\n",
    "    \"\"\"\n",
    "    method = getattr(nx, metric)\n",
    "    return sum(method(graph).values())/graph.order()\n",
    "\n",
    "def max_kcore_k(graph):\n",
    "    core_number = nx.core_number(graph)\n",
    "    max_kcore = 0\n",
    "    for node in core_number:\n",
    "        if core_number[node] > max_kcore:\n",
    "            max_kcore = core_number[node]\n",
    "    return max_kcore  \n",
    "\n",
    "def get_graph_metrics(graph):\n",
    "    largest_cc = max(nx.connected_components(graph), key=len)   \n",
    "    largest_connected_subgraph = graph.subgraph(largest_cc)\n",
    "    return [graph_metric(\"degree_centrality\", graph),\n",
    "           graph_metric(\"closeness_centrality\", graph),\n",
    "           graph_metric(\"betweenness_centrality\", graph), \n",
    "           nx.graph_clique_number(graph),\n",
    "           nx.average_clustering(graph),\n",
    "           max_kcore_k(graph),\n",
    "           nx.average_shortest_path_length(largest_connected_subgraph)]"
   ]
  },
  {
   "cell_type": "code",
   "execution_count": 3,
   "metadata": {},
   "outputs": [],
   "source": [
    "order = 10000\n",
    "edges = 10\n",
    "graph_free_scale_barabasi = nx.barabasi_albert_graph(order, edges)\n",
    "c, l, o = get_graph_metrics(graph_free_scale_barabasi)"
   ]
  },
  {
   "cell_type": "code",
   "execution_count": 6,
   "metadata": {},
   "outputs": [
    {
     "name": "stdout",
     "output_type": "stream",
     "text": [
      "0.011121720734477772 3.0628272427242726 10000\n"
     ]
    }
   ],
   "source": [
    "print(c, l, o)\n",
    "# Result : 0.011121720734477772 3.0628272427242726 10000"
   ]
  },
  {
   "cell_type": "code",
   "execution_count": 4,
   "metadata": {},
   "outputs": [
    {
     "name": "stdout",
     "output_type": "stream",
     "text": [
      "Free scale graph size: 99900\n"
     ]
    },
    {
     "data": {
      "text/html": [
       "<div>\n",
       "<style scoped>\n",
       "    .dataframe tbody tr th:only-of-type {\n",
       "        vertical-align: middle;\n",
       "    }\n",
       "\n",
       "    .dataframe tbody tr th {\n",
       "        vertical-align: top;\n",
       "    }\n",
       "\n",
       "    .dataframe thead th {\n",
       "        text-align: right;\n",
       "    }\n",
       "</style>\n",
       "<table border=\"1\" class=\"dataframe\">\n",
       "  <thead>\n",
       "    <tr style=\"text-align: right;\">\n",
       "      <th></th>\n",
       "      <th>Free Scale</th>\n",
       "      <th>Random</th>\n",
       "    </tr>\n",
       "  </thead>\n",
       "  <tbody>\n",
       "    <tr>\n",
       "      <th>Average clustering</th>\n",
       "      <td>0.011050</td>\n",
       "      <td>0.001928</td>\n",
       "    </tr>\n",
       "    <tr>\n",
       "      <th>Average shortest path length</th>\n",
       "      <td>3.062604</td>\n",
       "      <td>3.403116</td>\n",
       "    </tr>\n",
       "  </tbody>\n",
       "</table>\n",
       "</div>"
      ],
      "text/plain": [
       "                              Free Scale    Random\n",
       "Average clustering              0.011050  0.001928\n",
       "Average shortest path length    3.062604  3.403116"
      ]
     },
     "execution_count": 4,
     "metadata": {},
     "output_type": "execute_result"
    }
   ],
   "source": [
    "print(\"Free scale graph size:\", graph_free_scale_barabasi.size())\n",
    "graph_random = nx.gnm_random_graph(order, graph_free_scale_barabasi.size())\n",
    "c_random, l_random, o_random = get_graph_metrics(graph_random)\n",
    "\n",
    "d = {'Free Scale': [c, l], 'Random': [c_random, l_random]}\n",
    "df = pd.DataFrame(data=d, index = ['Average clustering',\n",
    "                                   'Average shortest path length'])\n",
    "df"
   ]
  },
  {
   "cell_type": "markdown",
   "metadata": {},
   "source": [
    "### Node degree distribution\n"
   ]
  },
  {
   "cell_type": "code",
   "execution_count": 230,
   "metadata": {},
   "outputs": [
    {
     "data": {
      "image/png": "[encoded data removed]",
      "text/plain": [
       "<Figure size 1080x432 with 1 Axes>"
      ]
     },
     "metadata": {
      "needs_background": "light"
     },
     "output_type": "display_data"
    },
    {
     "data": {
      "image/png": "[encoded data removed]",
      "text/plain": [
       "<Figure size 1080x432 with 1 Axes>"
      ]
     },
     "metadata": {
      "needs_background": "light"
     },
     "output_type": "display_data"
    }
   ],
   "source": [
    "plt.figure(figsize=(15, 6))\n",
    "plt.xlabel('Degree (log)')\n",
    "plt.ylabel('Frequency')\n",
    "\n",
    "his = nx.degree_histogram(graph_free_scale_barabasi)\n",
    "plt.plot(his, color=\"blue\")\n",
    "his_al = nx.degree_histogram(graph_random)\n",
    "plt.grid()\n",
    "plt.plot(his_al, color='green')\n",
    "plt.xscale(\"log\", nonposx='clip')\n",
    "plt.yscale(\"log\", nonposy='clip')\n",
    "legend_handles = [ mlines.Line2D([], [], color='blue', \\\n",
    "                          markersize=15, label='Free Scale Barabasi'), \\\n",
    "                mlines.Line2D([], [], color='green', \\\n",
    "                          markersize=15, label='Random')]\n",
    "plt.legend(handles=legend_handles, loc = 1);\n",
    "\n",
    "plt.figure(figsize=(15, 6))\n",
    "plt.xlabel('Degree')\n",
    "plt.ylabel('Frequency')\n",
    "plt.xlim(0, 40)\n",
    "his = nx.degree_histogram(graph_free_scale_barabasi)\n",
    "plt.plot(his, color=\"blue\")\n",
    "his_al = nx.degree_histogram(graph_random)\n",
    "plt.grid()\n",
    "plt.plot(his_al, color='green')\n",
    "#plt.xscale(\"log\", nonposx='clip')\n",
    "#plt.yscale(\"log\", nonposy='clip')\n",
    "legend_handles = [ mlines.Line2D([], [], color='blue', \\\n",
    "                          markersize=15, label='Free Scale Barabasi'), \\\n",
    "                mlines.Line2D([], [], color='green', \\\n",
    "                          markersize=15, label='Random')]\n",
    "plt.legend(handles=legend_handles, loc = 1);"
   ]
  },
  {
   "cell_type": "markdown",
   "metadata": {},
   "source": [
    "### Results Comparison\n",
    "\n",
    "It's very apparent the graph of free scale distribution with the linear decreasing region. \n",
    "\n",
    "The random network present the expected poisson shape.\n",
    "\n",
    "L from free scale is similar to random network and C much larger than random network, as expected"
   ]
  },
  {
   "cell_type": "markdown",
   "metadata": {
    "lang": "en"
   },
   "source": [
    "## Network Attack.\n",
    "\n",
    "### Random attack\n",
    "\n",
    "Implement a routine program random_attack $(G, m)$ in Python that perform a random attack on $m$ nodes of graph $G$.\n",
    "\n",
    "Use the previous routine to calculate the size of the largest connected component\n",
    "connected in random, small world and scale-free graphs of $1000$ nodes and $4000$ branches after attacks of 10%, 30%, 50%, 70% and 90% of the nodes of the graph."
   ]
  },
  {
   "cell_type": "code",
   "execution_count": 125,
   "metadata": {},
   "outputs": [
    {
     "data": {
      "image/png": "[encoded data removed]",
      "text/plain": [
       "<Figure size 432x288 with 1 Axes>"
      ]
     },
     "metadata": {},
     "output_type": "display_data"
    }
   ],
   "source": [
    "import random\n",
    "def random_attack(graph, m):\n",
    "    \"\"\"\n",
    "    \"\"\"\n",
    "    #print(\"Removing %s nodes\" % (m))\n",
    "    for remove in range(0,m):\n",
    "        node = random.choice(list(graph.nodes))\n",
    "        graph.remove_node(node)\n",
    "\n",
    "    return graph\n",
    "\n",
    "def random_attack_percent(graph, percent_nodes_attacked):\n",
    "    \"\"\"\n",
    "    \"\"\"\n",
    "    m = graph.order() * percent_nodes_attacked / 100\n",
    "    return random_attack(graph, round(m))\n",
    "\n",
    "n = 10\n",
    "e = 4\n",
    "random.seed = 0\n",
    "percent_nodes_attacked = 10\n",
    "graph = nx.gnm_random_graph(n, e , seed = 0)\n",
    "graph_attacked = random_attack_percent(graph, percent_nodes_attacked)\n",
    "nx.draw_circular(graph_attacked, with_labels = True, node_color = \"yellow\", node_size = 1000)"
   ]
  },
  {
   "cell_type": "code",
   "execution_count": 196,
   "metadata": {},
   "outputs": [],
   "source": [
    "def node_attack_old(initial_graph, percents_nodes_attacked):\n",
    "    \"\"\"\n",
    "    \"\"\"\n",
    "    sizes_max_connected_subgraph = []\n",
    "    for percent_nodes_attacked in percents_nodes_attacked:\n",
    "        #print(\"Attacking %s nodes\" % (percent_nodes_attacked))\n",
    "        graph = initial_graph.copy()\n",
    "        if percent_nodes_attacked == 0:\n",
    "            attacked_graph = graph\n",
    "        else:\n",
    "            attacked_graph = random_attack_percent(graph, percent_nodes_attacked)\n",
    "        largest_cc = max(nx.connected_components(attacked_graph), key=len) \n",
    "        largest_connected_subgraph = attacked_graph.subgraph(largest_cc)\n",
    "        sizes_max_connected_subgraph.append(largest_connected_subgraph.size())\n",
    "    return sizes_max_connected_subgraph\n",
    "\n",
    "def node_attack(graph, percents_nodes_attacked, attack_method_name='random_attack_percent'):\n",
    "    \"\"\"\n",
    "    Reusing previous graph\n",
    "    \"\"\"\n",
    "    sizes_max_connected_subgraph = []\n",
    "    percent_prev = 0\n",
    "    for percent_nodes_attacked in percents_nodes_attacked:\n",
    "        #print(\"Attacking %s nodes\" % (percent_nodes_attacked))\n",
    "        percent_current = percent_nodes_attacked - percent_prev\n",
    "        percent_prev = percent_nodes_attacked\n",
    "        if percent_current == 0:\n",
    "            attacked_graph = graph\n",
    "        else:\n",
    "            attacked_graph = globals()[attack_method_name](graph, percent_current)\n",
    "        largest_cc = max(nx.connected_components(attacked_graph), key=len) \n",
    "        largest_connected_subgraph = attacked_graph.subgraph(largest_cc)\n",
    "        sizes_max_connected_subgraph.append(largest_connected_subgraph.size())\n",
    "        graph = attacked_graph\n",
    "    return sizes_max_connected_subgraph\n",
    "\n",
    "def do_attacks(percents_nodes_attacked, nodes, edges,\n",
    "               attack_method_name='random_attack_percent', seed=0):\n",
    "    \"\"\"\n",
    "    \"\"\"\n",
    "    random.seed = seed\n",
    "    n = nodes\n",
    "    e = edges\n",
    "\n",
    "    graph_random = nx.gnm_random_graph(n, e, seed = SEED)\n",
    "    k = int(e*2/n)\n",
    "    p = 0.5\n",
    "    graph_small_world = nx.watts_strogatz_graph(n, k, p, seed = SEED)\n",
    "    k = int(e/n)\n",
    "    graph_scale_free = nx.barabasi_albert_graph(n, k, seed = SEED)\n",
    "\n",
    "    random_size = node_attack(graph_random.copy(), percents_nodes_attacked)\n",
    "    small_world_size = node_attack(graph_small_world.copy(), percents_nodes_attacked)\n",
    "    free_scale_size = node_attack(graph_scale_free.copy(), percents_nodes_attacked)\n",
    "\n",
    "    d = {'Random': random_size, 'Small-World': small_world_size, 'Scale-Free': free_scale_size}\n",
    "    df = pd.DataFrame(data=d, index = [str(i)+'%' for i in percents_nodes_attacked])\n",
    "    display(df)\n",
    "    \n",
    "    return graph_random, graph_small_world, graph_scale_free"
   ]
  },
  {
   "cell_type": "code",
   "execution_count": 211,
   "metadata": {},
   "outputs": [
    {
     "data": {
      "text/html": [
       "<div>\n",
       "<style scoped>\n",
       "    .dataframe tbody tr th:only-of-type {\n",
       "        vertical-align: middle;\n",
       "    }\n",
       "\n",
       "    .dataframe tbody tr th {\n",
       "        vertical-align: top;\n",
       "    }\n",
       "\n",
       "    .dataframe thead th {\n",
       "        text-align: right;\n",
       "    }\n",
       "</style>\n",
       "<table border=\"1\" class=\"dataframe\">\n",
       "  <thead>\n",
       "    <tr style=\"text-align: right;\">\n",
       "      <th></th>\n",
       "      <th>Random</th>\n",
       "      <th>Small-World</th>\n",
       "      <th>Scale-Free</th>\n",
       "    </tr>\n",
       "  </thead>\n",
       "  <tbody>\n",
       "    <tr>\n",
       "      <th>0%</th>\n",
       "      <td>4000</td>\n",
       "      <td>4000</td>\n",
       "      <td>3984</td>\n",
       "    </tr>\n",
       "    <tr>\n",
       "      <th>10%</th>\n",
       "      <td>3254</td>\n",
       "      <td>3218</td>\n",
       "      <td>3230</td>\n",
       "    </tr>\n",
       "    <tr>\n",
       "      <th>30%</th>\n",
       "      <td>2060</td>\n",
       "      <td>2086</td>\n",
       "      <td>1953</td>\n",
       "    </tr>\n",
       "    <tr>\n",
       "      <th>40%</th>\n",
       "      <td>1656</td>\n",
       "      <td>1687</td>\n",
       "      <td>1608</td>\n",
       "    </tr>\n",
       "    <tr>\n",
       "      <th>50%</th>\n",
       "      <td>1336</td>\n",
       "      <td>1356</td>\n",
       "      <td>1348</td>\n",
       "    </tr>\n",
       "    <tr>\n",
       "      <th>60%</th>\n",
       "      <td>1073</td>\n",
       "      <td>1103</td>\n",
       "      <td>1123</td>\n",
       "    </tr>\n",
       "    <tr>\n",
       "      <th>70%</th>\n",
       "      <td>864</td>\n",
       "      <td>895</td>\n",
       "      <td>947</td>\n",
       "    </tr>\n",
       "    <tr>\n",
       "      <th>80%</th>\n",
       "      <td>700</td>\n",
       "      <td>736</td>\n",
       "      <td>794</td>\n",
       "    </tr>\n",
       "    <tr>\n",
       "      <th>90%</th>\n",
       "      <td>548</td>\n",
       "      <td>575</td>\n",
       "      <td>643</td>\n",
       "    </tr>\n",
       "  </tbody>\n",
       "</table>\n",
       "</div>"
      ],
      "text/plain": [
       "     Random  Small-World  Scale-Free\n",
       "0%     4000         4000        3984\n",
       "10%    3254         3218        3230\n",
       "30%    2060         2086        1953\n",
       "40%    1656         1687        1608\n",
       "50%    1336         1356        1348\n",
       "60%    1073         1103        1123\n",
       "70%     864          895         947\n",
       "80%     700          736         794\n",
       "90%     548          575         643"
      ]
     },
     "metadata": {},
     "output_type": "display_data"
    }
   ],
   "source": [
    "percents_nodes_attacked = [0, 10, 30, 40, 50, 60, 70, 80, 90]\n",
    "nodes = 1000\n",
    "edges = 4000\n",
    "graph_random, graph_small_world, graph_scale_free =\\\n",
    "    do_attacks(percents_nodes_attacked, nodes, edges, \n",
    "               attack_method_name='random_attack_percent', seed=0)"
   ]
  },
  {
   "cell_type": "code",
   "execution_count": 212,
   "metadata": {},
   "outputs": [
    {
     "data": {
      "text/html": [
       "<div>\n",
       "<style scoped>\n",
       "    .dataframe tbody tr th:only-of-type {\n",
       "        vertical-align: middle;\n",
       "    }\n",
       "\n",
       "    .dataframe tbody tr th {\n",
       "        vertical-align: top;\n",
       "    }\n",
       "\n",
       "    .dataframe thead th {\n",
       "        text-align: right;\n",
       "    }\n",
       "</style>\n",
       "<table border=\"1\" class=\"dataframe\">\n",
       "  <thead>\n",
       "    <tr style=\"text-align: right;\">\n",
       "      <th></th>\n",
       "      <th>Random</th>\n",
       "      <th>Small-World</th>\n",
       "      <th>Scale-Free</th>\n",
       "    </tr>\n",
       "  </thead>\n",
       "  <tbody>\n",
       "    <tr>\n",
       "      <th>Degree centrality</th>\n",
       "      <td>0.008008</td>\n",
       "      <td>0.008008</td>\n",
       "      <td>0.007976</td>\n",
       "    </tr>\n",
       "    <tr>\n",
       "      <th>Closeness centrality</th>\n",
       "      <td>0.282338</td>\n",
       "      <td>0.270169</td>\n",
       "      <td>0.318568</td>\n",
       "    </tr>\n",
       "    <tr>\n",
       "      <th>Betweenness centrality</th>\n",
       "      <td>0.002557</td>\n",
       "      <td>0.002711</td>\n",
       "      <td>0.002166</td>\n",
       "    </tr>\n",
       "    <tr>\n",
       "      <th>Graph clique number</th>\n",
       "      <td>3.000000</td>\n",
       "      <td>5.000000</td>\n",
       "      <td>4.000000</td>\n",
       "    </tr>\n",
       "    <tr>\n",
       "      <th>Average clustering</th>\n",
       "      <td>0.010371</td>\n",
       "      <td>0.091460</td>\n",
       "      <td>0.037346</td>\n",
       "    </tr>\n",
       "    <tr>\n",
       "      <th>Max k-core k</th>\n",
       "      <td>5.000000</td>\n",
       "      <td>5.000000</td>\n",
       "      <td>4.000000</td>\n",
       "    </tr>\n",
       "    <tr>\n",
       "      <th>Average shortest path length</th>\n",
       "      <td>3.552160</td>\n",
       "      <td>3.705846</td>\n",
       "      <td>3.161854</td>\n",
       "    </tr>\n",
       "  </tbody>\n",
       "</table>\n",
       "</div>"
      ],
      "text/plain": [
       "                                Random  Small-World  Scale-Free\n",
       "Degree centrality             0.008008     0.008008    0.007976\n",
       "Closeness centrality          0.282338     0.270169    0.318568\n",
       "Betweenness centrality        0.002557     0.002711    0.002166\n",
       "Graph clique number           3.000000     5.000000    4.000000\n",
       "Average clustering            0.010371     0.091460    0.037346\n",
       "Max k-core k                  5.000000     5.000000    4.000000\n",
       "Average shortest path length  3.552160     3.705846    3.161854"
      ]
     },
     "metadata": {},
     "output_type": "display_data"
    }
   ],
   "source": [
    "d = {'Random': get_graph_metrics(graph_random), \n",
    "     'Small-World': get_graph_metrics(graph_small_world),\n",
    "     'Scale-Free': get_graph_metrics(graph_scale_free)}\n",
    "df = pd.DataFrame(data=d, index = ['Degree centrality', 'Closeness centrality',\n",
    "                                  'Betweenness centrality', 'Graph clique number',\n",
    "                                  'Average clustering', 'Max k-core k',\n",
    "                                  'Average shortest path length'])\n",
    "display(df)"
   ]
  },
  {
   "cell_type": "markdown",
   "metadata": {
    "lang": "en"
   },
   "source": [
    "### Degree attack\n",
    "\n",
    "Implement a method *degree_attack(G, m)* in Python that performs an attack based on degrees to $m$ nodes of graph $G$.\n",
    "\n",
    "Use the previous routine to calculate the size of the largest connected component in random, small world and scale-free graphs of $1000$ nodes and $4000$ branches after attacks of 10%, 30%, 50%, 70% and 90% of the nodes."
   ]
  },
  {
   "cell_type": "code",
   "execution_count": 192,
   "metadata": {},
   "outputs": [
    {
     "data": {
      "image/png": "[encoded data removed]",
      "text/plain": [
       "<Figure size 432x288 with 1 Axes>"
      ]
     },
     "metadata": {},
     "output_type": "display_data"
    }
   ],
   "source": [
    "def degree_attack(graph, m):\n",
    "    \"\"\"\n",
    "    \"\"\"\n",
    "    degree_dist_sorted = sorted([(b,a) for (a,b) in graph.degree()])\n",
    "    pos = -1\n",
    "    for remove in range(0,m):\n",
    "        (degree, node) = degree_dist_sorted[pos]\n",
    "        #print(\"Removing node %s with degree %s\" % (node, degree))\n",
    "        graph.remove_node(node)\n",
    "        pos -= 1\n",
    "\n",
    "    return graph\n",
    "\n",
    "def degree_attack_percent(graph, percent_nodes_attacked):\n",
    "    \"\"\"\n",
    "    \"\"\"\n",
    "    m = graph.order() * percent_nodes_attacked / 100\n",
    "    return degree_attack(graph, round(m))\n",
    "\n",
    "n = 100\n",
    "e = 400\n",
    "random.seed = 0\n",
    "percent_nodes_attacked = 80\n",
    "graph = nx.gnm_random_graph(n, e , seed = 0)\n",
    "graph_attacked = degree_attack_percent(graph, percent_nodes_attacked)\n",
    "nx.draw_circular(graph_attacked, with_labels = True, node_color = \"yellow\", node_size = 1000)"
   ]
  },
  {
   "cell_type": "code",
   "execution_count": 208,
   "metadata": {
    "scrolled": true
   },
   "outputs": [
    {
     "data": {
      "text/html": [
       "<div>\n",
       "<style scoped>\n",
       "    .dataframe tbody tr th:only-of-type {\n",
       "        vertical-align: middle;\n",
       "    }\n",
       "\n",
       "    .dataframe tbody tr th {\n",
       "        vertical-align: top;\n",
       "    }\n",
       "\n",
       "    .dataframe thead th {\n",
       "        text-align: right;\n",
       "    }\n",
       "</style>\n",
       "<table border=\"1\" class=\"dataframe\">\n",
       "  <thead>\n",
       "    <tr style=\"text-align: right;\">\n",
       "      <th></th>\n",
       "      <th>Random</th>\n",
       "      <th>Small-World</th>\n",
       "      <th>Scale-Free</th>\n",
       "    </tr>\n",
       "  </thead>\n",
       "  <tbody>\n",
       "    <tr>\n",
       "      <th>0%</th>\n",
       "      <td>4000</td>\n",
       "      <td>4000</td>\n",
       "      <td>3984</td>\n",
       "    </tr>\n",
       "    <tr>\n",
       "      <th>10%</th>\n",
       "      <td>3276</td>\n",
       "      <td>3264</td>\n",
       "      <td>3176</td>\n",
       "    </tr>\n",
       "    <tr>\n",
       "      <th>30%</th>\n",
       "      <td>2088</td>\n",
       "      <td>2069</td>\n",
       "      <td>2117</td>\n",
       "    </tr>\n",
       "    <tr>\n",
       "      <th>40%</th>\n",
       "      <td>1722</td>\n",
       "      <td>1686</td>\n",
       "      <td>1747</td>\n",
       "    </tr>\n",
       "    <tr>\n",
       "      <th>50%</th>\n",
       "      <td>1394</td>\n",
       "      <td>1347</td>\n",
       "      <td>1472</td>\n",
       "    </tr>\n",
       "    <tr>\n",
       "      <th>60%</th>\n",
       "      <td>1121</td>\n",
       "      <td>1101</td>\n",
       "      <td>1203</td>\n",
       "    </tr>\n",
       "    <tr>\n",
       "      <th>70%</th>\n",
       "      <td>895</td>\n",
       "      <td>890</td>\n",
       "      <td>971</td>\n",
       "    </tr>\n",
       "    <tr>\n",
       "      <th>80%</th>\n",
       "      <td>712</td>\n",
       "      <td>733</td>\n",
       "      <td>794</td>\n",
       "    </tr>\n",
       "    <tr>\n",
       "      <th>90%</th>\n",
       "      <td>562</td>\n",
       "      <td>598</td>\n",
       "      <td>640</td>\n",
       "    </tr>\n",
       "  </tbody>\n",
       "</table>\n",
       "</div>"
      ],
      "text/plain": [
       "     Random  Small-World  Scale-Free\n",
       "0%     4000         4000        3984\n",
       "10%    3276         3264        3176\n",
       "30%    2088         2069        2117\n",
       "40%    1722         1686        1747\n",
       "50%    1394         1347        1472\n",
       "60%    1121         1101        1203\n",
       "70%     895          890         971\n",
       "80%     712          733         794\n",
       "90%     562          598         640"
      ]
     },
     "metadata": {},
     "output_type": "display_data"
    }
   ],
   "source": [
    "percents_nodes_attacked = [0, 10, 30, 40, 50, 60, 70, 80, 90]\n",
    "nodes = 1000\n",
    "edges = 4000\n",
    "graph_random, graph_small_world, graph_scale_free =\\\n",
    "    do_attacks(percents_nodes_attacked, nodes, edges, \n",
    "               attack_method_name='degree_attack_percent', seed=0)"
   ]
  },
  {
   "cell_type": "code",
   "execution_count": 209,
   "metadata": {},
   "outputs": [
    {
     "data": {
      "text/html": [
       "<div>\n",
       "<style scoped>\n",
       "    .dataframe tbody tr th:only-of-type {\n",
       "        vertical-align: middle;\n",
       "    }\n",
       "\n",
       "    .dataframe tbody tr th {\n",
       "        vertical-align: top;\n",
       "    }\n",
       "\n",
       "    .dataframe thead th {\n",
       "        text-align: right;\n",
       "    }\n",
       "</style>\n",
       "<table border=\"1\" class=\"dataframe\">\n",
       "  <thead>\n",
       "    <tr style=\"text-align: right;\">\n",
       "      <th></th>\n",
       "      <th>Random</th>\n",
       "      <th>Small-World</th>\n",
       "      <th>Scale-Free</th>\n",
       "    </tr>\n",
       "  </thead>\n",
       "  <tbody>\n",
       "    <tr>\n",
       "      <th>Degree centrality</th>\n",
       "      <td>0.008008</td>\n",
       "      <td>0.008008</td>\n",
       "      <td>0.007976</td>\n",
       "    </tr>\n",
       "    <tr>\n",
       "      <th>Closeness centrality</th>\n",
       "      <td>0.282338</td>\n",
       "      <td>0.270169</td>\n",
       "      <td>0.318568</td>\n",
       "    </tr>\n",
       "    <tr>\n",
       "      <th>Betweenness centrality</th>\n",
       "      <td>0.002557</td>\n",
       "      <td>0.002711</td>\n",
       "      <td>0.002166</td>\n",
       "    </tr>\n",
       "    <tr>\n",
       "      <th>Graph clique number</th>\n",
       "      <td>3.000000</td>\n",
       "      <td>5.000000</td>\n",
       "      <td>4.000000</td>\n",
       "    </tr>\n",
       "    <tr>\n",
       "      <th>Average clustering</th>\n",
       "      <td>0.010371</td>\n",
       "      <td>0.091460</td>\n",
       "      <td>0.037346</td>\n",
       "    </tr>\n",
       "    <tr>\n",
       "      <th>Max k-core k</th>\n",
       "      <td>5.000000</td>\n",
       "      <td>5.000000</td>\n",
       "      <td>4.000000</td>\n",
       "    </tr>\n",
       "    <tr>\n",
       "      <th>Average shortest path length</th>\n",
       "      <td>3.552160</td>\n",
       "      <td>3.705846</td>\n",
       "      <td>3.161854</td>\n",
       "    </tr>\n",
       "  </tbody>\n",
       "</table>\n",
       "</div>"
      ],
      "text/plain": [
       "                                Random  Small-World  Scale-Free\n",
       "Degree centrality             0.008008     0.008008    0.007976\n",
       "Closeness centrality          0.282338     0.270169    0.318568\n",
       "Betweenness centrality        0.002557     0.002711    0.002166\n",
       "Graph clique number           3.000000     5.000000    4.000000\n",
       "Average clustering            0.010371     0.091460    0.037346\n",
       "Max k-core k                  5.000000     5.000000    4.000000\n",
       "Average shortest path length  3.552160     3.705846    3.161854"
      ]
     },
     "metadata": {},
     "output_type": "display_data"
    }
   ],
   "source": [
    "d = {'Random': get_graph_metrics(graph_random), \n",
    "     'Small-World': get_graph_metrics(graph_small_world),\n",
    "     'Scale-Free': get_graph_metrics(graph_scale_free)}\n",
    "df = pd.DataFrame(data=d, index = ['Degree centrality', 'Closeness centrality',\n",
    "                                  'Betweenness centrality', 'Graph clique number',\n",
    "                                  'Average clustering', 'Max k-core k',\n",
    "                                  'Average shortest path length'])\n",
    "display(df)"
   ]
  },
  {
   "cell_type": "markdown",
   "metadata": {
    "lang": "en"
   },
   "source": [
    "### Comparisons\n",
    "Compare the result obtained in the two previous sections.\n",
    "\n",
    "First, we verified that the parameters $C$ and $L$ for are adequate for small-world region of *watts_strogatz_graph*. To do so we print the metrics of initial graphs attacked.\n",
    "\n",
    "In  both attacks scale-free are more resilient, with a connected component of larger size, but only after 30% of nodes removed.\n",
    "\n",
    "The degree attack is much efficient but only to 30% of nodes removed, for the three types of graphs. This is due to the high degree of the first nodes removed. After the remaining nodes have less degree and are not crucial to the attack. Or, in other words, the degree attack became a random attack. \n"
   ]
  }
 ],
 "metadata": {
  "hide_input": false,
  "kernelspec": {
   "display_name": "Python 3",
   "language": "python",
   "name": "python3"
  },
  "language_info": {
   "codemirror_mode": {
    "name": "ipython",
    "version": 3
   },
   "file_extension": ".py",
   "mimetype": "text/x-python",
   "name": "python",
   "nbconvert_exporter": "python",
   "pygments_lexer": "ipython3",
   "version": "3.7.1"
  },
  "latex_envs": {
   "LaTeX_envs_menu_present": true,
   "autoclose": false,
   "autocomplete": true,
   "bibliofile": "biblio.bib",
   "cite_by": "apalike",
   "current_citInitial": 1,
   "eqLabelWithNumbers": true,
   "eqNumInitial": 1,
   "hotkeys": {
    "equation": "Ctrl-E",
    "itemize": "Ctrl-I"
   },
   "labels_anchors": false,
   "latex_user_defs": false,
   "report_style_numbering": false,
   "user_envs_cfg": false
  },
  "nbTranslate": {
   "displayLangs": [
    "en"
   ],
   "hotkey": "alt-t",
   "langInMainMenu": true,
   "sourceLang": "es",
   "targetLang": "en",
   "useGoogleTranslate": true
  },
  "toc": {
   "base_numbering": 1,
   "nav_menu": {},
   "number_sections": true,
   "sideBar": true,
   "skip_h1_title": false,
   "title_cell": "Table of Contents",
   "title_sidebar": "Contents",
   "toc_cell": false,
   "toc_position": {},
   "toc_section_display": true,
   "toc_window_display": true
  },
  "varInspector": {
   "cols": {
    "lenName": 16,
    "lenType": 16,
    "lenVar": 40
   },
   "kernels_config": {
    "python": {
     "delete_cmd_postfix": "",
     "delete_cmd_prefix": "del ",
     "library": "var_list.py",
     "varRefreshCmd": "print(var_dic_list())"
    },
    "r": {
     "delete_cmd_postfix": ") ",
     "delete_cmd_prefix": "rm(",
     "library": "var_list.r",
     "varRefreshCmd": "cat(var_dic_list()) "
    }
   },
   "types_to_exclude": [
    "module",
    "function",
    "builtin_function_or_method",
    "instance",
    "_Feature"
   ],
   "window_display": false
  }
 },
 "nbformat": 4,
 "nbformat_minor": 2
}
