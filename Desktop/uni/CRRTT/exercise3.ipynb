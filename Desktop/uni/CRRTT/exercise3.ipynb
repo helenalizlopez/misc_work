{
 "cells": [
  {
   "cell_type": "markdown",
   "metadata": {},
   "source": [
    "# Exercise 3\n",
    "Redes libres de escala y ataques a redes "
   ]
  },
  {
   "cell_type": "code",
   "execution_count": 3,
   "metadata": {},
   "outputs": [],
   "source": [
    "import warnings\n",
    "warnings.filterwarnings(\"ignore\")\n",
    "import networkx as nx\n",
    "import math as math\n",
    "import pandas as pd\n",
    "import matplotlib.pyplot as plt\n",
    "%matplotlib inline"
   ]
  },
  {
   "cell_type": "markdown",
   "metadata": {},
   "source": [
    "## Redes libres de escala.\n",
    "\n",
    "Generar una red libre de escala con 10000 edges y que añade 10 nodos en cada\n",
    "paso (utilizad la rutina barabasi_albert_graph(n, m)). Calculad los valores de L,\n",
    "C y la distribución de grado de los nodos. Generad una red aleatoria que tenga\n",
    "el mismo número de nodos y ramas que la red que habéis creado, calculad sus\n",
    "valores de L, C y la distribución del grado de los nodos y comparad los valores\n",
    "obtenidos."
   ]
  },
  {
   "cell_type": "markdown",
   "metadata": {},
   "source": [
    "### L & C"
   ]
  },
  {
   "cell_type": "code",
   "execution_count": 4,
   "metadata": {},
   "outputs": [],
   "source": [
    "def get_graph_metrics(graph):\n",
    "    largest_cc = max(nx.connected_components(graph), key=len)   \n",
    "    largest_connected_subgraph = graph.subgraph(largest_cc)\n",
    "    if not nx.is_connected(graph): \n",
    "        subgraph = largest_connected_subgraph\n",
    "    else:\n",
    "        subgraph = graph\n",
    "    return nx.average_clustering(graph),\\\n",
    "           nx.average_shortest_path_length(subgraph),\\\n",
    "           largest_connected_subgraph.order()\n",
    "    \n",
    "def l_c_random(n_graph, n, p):\n",
    "    acum_c = 0\n",
    "    acum_l = 0\n",
    "    acum_o = 0\n",
    "    for i in range(0, n_graph - 1):\n",
    "        graph = nx.gnp_random_graph(n, p)\n",
    "        c, l, o = get_graph_metrics(graph)\n",
    "        acum_c += c\n",
    "        acum_l += l\n",
    "        acum_o += o\n",
    "    return [acum_c/n_graph, acum_l/n_graph, acum_o/n_graph]"
   ]
  },
  {
   "cell_type": "code",
   "execution_count": 5,
   "metadata": {},
   "outputs": [],
   "source": [
    "order = 10000\n",
    "edges = 10\n",
    "graph_free_scale_barabasi = nx.barabasi_albert_graph(order, edges)\n",
    "c, l, o = get_graph_metrics(graph_free_scale_barabasi)"
   ]
  },
  {
   "cell_type": "code",
   "execution_count": 6,
   "metadata": {},
   "outputs": [
    {
     "name": "stdout",
     "output_type": "stream",
     "text": [
      "0.011121720734477772 3.0628272427242726 10000\n"
     ]
    }
   ],
   "source": [
    "print(c, l, o)\n",
    "# Result : 0.011121720734477772 3.0628272427242726 10000"
   ]
  },
  {
   "cell_type": "code",
   "execution_count": 7,
   "metadata": {},
   "outputs": [
    {
     "name": "stdout",
     "output_type": "stream",
     "text": [
      "Free scale graph size: 99900\n"
     ]
    },
    {
     "data": {
      "text/html": [
       "<div>\n",
       "<style scoped>\n",
       "    .dataframe tbody tr th:only-of-type {\n",
       "        vertical-align: middle;\n",
       "    }\n",
       "\n",
       "    .dataframe tbody tr th {\n",
       "        vertical-align: top;\n",
       "    }\n",
       "\n",
       "    .dataframe thead th {\n",
       "        text-align: right;\n",
       "    }\n",
       "</style>\n",
       "<table border=\"1\" class=\"dataframe\">\n",
       "  <thead>\n",
       "    <tr style=\"text-align: right;\">\n",
       "      <th></th>\n",
       "      <th>Free Scale</th>\n",
       "      <th>Random</th>\n",
       "    </tr>\n",
       "  </thead>\n",
       "  <tbody>\n",
       "    <tr>\n",
       "      <th>Average clustering</th>\n",
       "      <td>0.011122</td>\n",
       "      <td>0.002034</td>\n",
       "    </tr>\n",
       "    <tr>\n",
       "      <th>Average shortest path length</th>\n",
       "      <td>3.062827</td>\n",
       "      <td>3.403509</td>\n",
       "    </tr>\n",
       "  </tbody>\n",
       "</table>\n",
       "</div>"
      ],
      "text/plain": [
       "                              Free Scale    Random\n",
       "Average clustering              0.011122  0.002034\n",
       "Average shortest path length    3.062827  3.403509"
      ]
     },
     "execution_count": 7,
     "metadata": {},
     "output_type": "execute_result"
    }
   ],
   "source": [
    "print(\"Free scale graph size:\", graph_free_scale_barabasi.size())\n",
    "graph_random = nx.gnm_random_graph(order, graph_free_scale_barabasi.size())\n",
    "c_random, l_random, o_random = get_graph_metrics(graph_random)\n",
    "\n",
    "d = {'Free Scale': [c, l], 'Random': [c_random, l_random]}\n",
    "df = pd.DataFrame(data=d, index = ['Average clustering',\n",
    "                                   'Average shortest path length'])\n",
    "df"
   ]
  },
  {
   "cell_type": "markdown",
   "metadata": {},
   "source": [
    "### Node degree distribution\n",
    "\n",
    "Plot by curves."
   ]
  },
  {
   "cell_type": "code",
   "execution_count": 14,
   "metadata": {},
   "outputs": [
    {
     "data": {
      "image/png": "[encoded data removed]",
      "text/plain": [
       "<Figure size 432x288 with 1 Axes>"
      ]
     },
     "metadata": {
      "needs_background": "light"
     },
     "output_type": "display_data"
    }
   ],
   "source": [
    "plt.xlabel('degree')\n",
    "plt.ylabel('frequency')\n",
    "plt.xlim(0, 40)\n",
    "\n",
    "his = nx.degree_histogram(graph_free_scale_barabasi)\n",
    "plt.plot([i/order for i in his], color='b')\n",
    "his_al = nx.degree_histogram(graph_random)\n",
    "plt.plot([i/order for i in his_al], color='g');"
   ]
  },
  {
   "cell_type": "markdown",
   "metadata": {},
   "source": [
    "\n",
    "Another plot"
   ]
  },
  {
   "cell_type": "code",
   "execution_count": 12,
   "metadata": {},
   "outputs": [
    {
     "data": {
      "image/png": "[encoded data removed]",
      "text/plain": [
       "<Figure size 432x288 with 1 Axes>"
      ]
     },
     "metadata": {
      "needs_background": "light"
     },
     "output_type": "display_data"
    }
   ],
   "source": [
    "# Another way\n",
    "L = nx.degree_histogram(graph_random)\n",
    "plt.bar(range(len(L)),L, width=0.80, color='b')\n",
    "plt.title(\"Degree Histogram\")\n",
    "plt.ylabel(\"Count\")\n",
    "plt.xlabel(\"Degree\")\n",
    "plt.xlim(0, 40)\n",
    "L = nx.degree_histogram(graph_free_scale_barabasi)\n",
    "plt.bar(range(len(L)),L, width=0.80, color='g')\n",
    "plt.show()"
   ]
  },
  {
   "cell_type": "markdown",
   "metadata": {},
   "source": [
    "### Results Comparison"
   ]
  },
  {
   "cell_type": "markdown",
   "metadata": {},
   "source": [
    "## Ataque a una red. \n",
    "\n",
    "### Ataque aleatorio\n",
    "\n",
    "Implementar una rutina programa ataque_aleatorio(G,m) en Python que\n",
    "realice un ataque aleatorio a m nodos del grafo G.\n",
    "Utilizad la rutina anterior para calcular el tamaño de la mayor componente\n",
    "conexa en grafos aleatorios, de mundo pequeño y libres de escala de 1000\n",
    "nodos y 4000 ramas tras ataques de 10%, 30%, 50%, 70% y 90% de los nodos\n",
    "del grafo."
   ]
  },
  {
   "cell_type": "code",
   "execution_count": null,
   "metadata": {},
   "outputs": [],
   "source": []
  },
  {
   "cell_type": "markdown",
   "metadata": {},
   "source": [
    "### Ataque grados\n",
    "\n",
    "Implementar una rutina programa ataque_grados(G,m) en Python que realice\n",
    "un ataque basado en grados a m nodos del grafo G.\n",
    "Utilizad la rutina anterior para calcular el tamaño de la mayor componente\n",
    "conexa en grafos aleatorios, de mundo pequeño y libres de escala de 1000\n",
    "nodos y 4000 ramas tras ataques de 10%, 30%, 50%, 70% y 90% de los nodos."
   ]
  },
  {
   "cell_type": "code",
   "execution_count": null,
   "metadata": {},
   "outputs": [],
   "source": []
  },
  {
   "cell_type": "markdown",
   "metadata": {},
   "source": [
    "### Comparaciones\n",
    "Comparar el resultado obtenido en los dos apartados anteriores. "
   ]
  }
 ],
 "metadata": {
  "hide_input": false,
  "kernelspec": {
   "display_name": "Python 3",
   "language": "python",
   "name": "python3"
  },
  "language_info": {
   "codemirror_mode": {
    "name": "ipython",
    "version": 3
   },
   "file_extension": ".py",
   "mimetype": "text/x-python",
   "name": "python",
   "nbconvert_exporter": "python",
   "pygments_lexer": "ipython3",
   "version": "3.6.7"
  },
  "latex_envs": {
   "LaTeX_envs_menu_present": true,
   "autoclose": false,
   "autocomplete": true,
   "bibliofile": "biblio.bib",
   "cite_by": "apalike",
   "current_citInitial": 1,
   "eqLabelWithNumbers": true,
   "eqNumInitial": 1,
   "hotkeys": {
    "equation": "Ctrl-E",
    "itemize": "Ctrl-I"
   },
   "labels_anchors": false,
   "latex_user_defs": false,
   "report_style_numbering": false,
   "user_envs_cfg": false
  },
  "nbTranslate": {
   "displayLangs": [
    "en"
   ],
   "hotkey": "alt-t",
   "langInMainMenu": true,
   "sourceLang": "es",
   "targetLang": "en",
   "useGoogleTranslate": true
  },
  "toc": {
   "base_numbering": 1,
   "nav_menu": {},
   "number_sections": true,
   "sideBar": true,
   "skip_h1_title": false,
   "title_cell": "Table of Contents",
   "title_sidebar": "Contents",
   "toc_cell": false,
   "toc_position": {},
   "toc_section_display": true,
   "toc_window_display": true
  },
  "varInspector": {
   "cols": {
    "lenName": 16,
    "lenType": 16,
    "lenVar": 40
   },
   "kernels_config": {
    "python": {
     "delete_cmd_postfix": "",
     "delete_cmd_prefix": "del ",
     "library": "var_list.py",
     "varRefreshCmd": "print(var_dic_list())"
    },
    "r": {
     "delete_cmd_postfix": ") ",
     "delete_cmd_prefix": "rm(",
     "library": "var_list.r",
     "varRefreshCmd": "cat(var_dic_list()) "
    }
   },
   "types_to_exclude": [
    "module",
    "function",
    "builtin_function_or_method",
    "instance",
    "_Feature"
   ],
   "window_display": false
  }
 },
 "nbformat": 4,
 "nbformat_minor": 2
}
