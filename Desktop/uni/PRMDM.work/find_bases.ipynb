{
 "cells": [
  {
   "cell_type": "markdown",
   "metadata": {},
   "source": [
    "# Initializations"
   ]
  },
  {
   "cell_type": "code",
   "execution_count": 57,
   "metadata": {},
   "outputs": [],
   "source": [
    "import requests, sys\n",
    "import json\n",
    "import numpy as np\n",
    "import matplotlib.pyplot as plt\n",
    "%matplotlib inline\n",
    " \n",
    "#server = \"https://grch37.rest.ensembl.org\"\n",
    "server = \"http://rest.ensembl.org\"\n",
    "headers={ \"Content-Type\" : \"application/json\", \"Accept\" : \"application/json\"}"
   ]
  },
  {
   "cell_type": "markdown",
   "metadata": {},
   "source": [
    "# Lookup"
   ]
  },
  {
   "cell_type": "code",
   "execution_count": 63,
   "metadata": {},
   "outputs": [],
   "source": [
    "ext = \"/lookup/id\"\n",
    "# Get lookup data\n",
    "r = requests.post(server+ext, headers=headers, data='{ \"expand\" : 1, \"ids\" : [\"ENSG00000157764\"] }')\n",
    "\n",
    "if not r.ok:\n",
    "    r.raise_for_status()\n",
    "    sys.exit()\n",
    "    \n",
    "found = json.loads(r.text)\n"
   ]
  },
  {
   "cell_type": "markdown",
   "metadata": {},
   "source": [
    "# Get sequences"
   ]
  },
  {
   "cell_type": "code",
   "execution_count": 64,
   "metadata": {},
   "outputs": [
    {
     "name": "stdout",
     "output_type": "stream",
     "text": [
      "{\"ids\": [\"ENST00000496384\", \"ENST00000644120\", \"ENST00000642875\", \"ENST00000644969\", \"ENST00000646891\", \"ENST00000644905\", \"ENST00000642228\", \"ENST00000288602\", \"ENST00000645443\", \"ENST00000646730\", \"ENST00000479537\", \"ENST00000647434\", \"ENST00000644650\", \"ENST00000497784\", \"ENST00000646334\", \"ENST00000642272\", \"ENST00000643356\", \"ENST00000642808\", \"ENST00000643790\", \"ENST00000646427\", \"ENST00000469930\"]}\n"
     ]
    }
   ],
   "source": [
    "# Create list of ID\n",
    "IDs = []\n",
    "for transcripts in found.values():\n",
    "    for transcript in transcripts[\"Transcript\"]:\n",
    "        IDs.append(transcript[\"id\"])\n",
    "        \n",
    "dquotes_ids=json.dumps({\"ids\" : IDs})\n",
    "print(dquotes_ids)\n",
    "\n",
    "# Get sequence data\n",
    "ext = \"/sequence/id\"\n",
    "\n",
    "# Make request and check status\n",
    "r = requests.post(server+ext, headers = headers, data = dquotes_ids)\n",
    "if not r.ok:\n",
    "    r.raise_for_status()\n",
    "    sys.exit()\n",
    "    \n",
    "json_data = json.loads(r.text)"
   ]
  },
  {
   "cell_type": "markdown",
   "metadata": {},
   "source": [
    "# Get oligos"
   ]
  },
  {
   "cell_type": "code",
   "execution_count": 65,
   "metadata": {},
   "outputs": [
    {
     "name": "stdout",
     "output_type": "stream",
     "text": [
      "{'ATA': 1, 'GAC': 3, 'GTA': 2, 'GCC': 3, 'CCG': 4, 'GGC': 2, 'TAG': 1, 'TCC': 1, 'CAT': 1, 'CTC': 1, 'GCG': 1, 'TCT': 1}\n",
      "21\n"
     ]
    }
   ],
   "source": [
    "count_oligos = {}\n",
    "count_all = 0\n",
    "for record in json_data:\n",
    "    oligo = record[\"seq\"][102:105]\n",
    "    count_all += 1\n",
    "    if oligo in count_oligos:\n",
    "        count_oligos[oligo] += 1\n",
    "    else:\n",
    "        count_oligos[oligo] = 1\n",
    "print(count_oligos)\n",
    "print(count_all)"
   ]
  },
  {
   "cell_type": "markdown",
   "metadata": {
    "latex_metadata": {
     "hidden": "true"
    }
   },
   "source": [
    "# Outputs"
   ]
  },
  {
   "cell_type": "code",
   "execution_count": 41,
   "metadata": {
    "latex_metadata": {
     "hidden": "true",
     "lexer": "bash"
    },
    "scrolled": true
   },
   "outputs": [
    {
     "name": "stderr",
     "output_type": "stream",
     "text": [
      "[NbConvertApp] Converting notebook find_bases.ipynb to latex\n",
      "[NbConvertApp] Writing 27271 bytes to find_bases.tex\n"
     ]
    }
   ],
   "source": [
    "%%bash\n",
    "jupyter nbconvert --to=latex --template=~/report.tplx find_bases.ipynb 1> /dev/null\n",
    "pdflatex -shell-escape find_bases 1> /dev/null"
   ]
  }
 ],
 "metadata": {
  "celltoolbar": "Edit Metadata",
  "hide_input": false,
  "kernelspec": {
   "display_name": "Python 3",
   "language": "python",
   "name": "python3"
  },
  "language_info": {
   "codemirror_mode": {
    "name": "ipython",
    "version": 3
   },
   "file_extension": ".py",
   "mimetype": "text/x-python",
   "name": "python",
   "nbconvert_exporter": "python",
   "pygments_lexer": "ipython3",
   "version": "3.6.6"
  },
  "latex_envs": {
   "LaTeX_envs_menu_present": true,
   "autoclose": false,
   "autocomplete": true,
   "bibliofile": "biblio.bib",
   "cite_by": "apalike",
   "current_citInitial": 1,
   "eqLabelWithNumbers": true,
   "eqNumInitial": 1,
   "hotkeys": {
    "equation": "Ctrl-E",
    "itemize": "Ctrl-I"
   },
   "labels_anchors": false,
   "latex_user_defs": false,
   "report_style_numbering": false,
   "user_envs_cfg": false
  },
  "nbTranslate": {
   "displayLangs": [
    "en",
    "sp"
   ],
   "hotkey": "alt-t",
   "langInMainMenu": true,
   "sourceLang": "sp",
   "targetLang": "en",
   "useGoogleTranslate": false
  },
  "toc": {
   "base_numbering": 1,
   "nav_menu": {},
   "number_sections": true,
   "sideBar": true,
   "skip_h1_title": false,
   "title_cell": "Table of Contents",
   "title_sidebar": "Contents",
   "toc_cell": false,
   "toc_position": {},
   "toc_section_display": true,
   "toc_window_display": true
  },
  "varInspector": {
   "cols": {
    "lenName": 16,
    "lenType": 16,
    "lenVar": 40
   },
   "kernels_config": {
    "python": {
     "delete_cmd_postfix": "",
     "delete_cmd_prefix": "del ",
     "library": "var_list.py",
     "varRefreshCmd": "print(var_dic_list())"
    },
    "r": {
     "delete_cmd_postfix": ") ",
     "delete_cmd_prefix": "rm(",
     "library": "var_list.r",
     "varRefreshCmd": "cat(var_dic_list()) "
    }
   },
   "types_to_exclude": [
    "module",
    "function",
    "builtin_function_or_method",
    "instance",
    "_Feature"
   ],
   "window_display": false
  }
 },
 "nbformat": 4,
 "nbformat_minor": 2
}
