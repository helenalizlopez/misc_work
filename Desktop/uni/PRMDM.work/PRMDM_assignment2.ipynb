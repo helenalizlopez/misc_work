{
 "cells": [
  {
   "cell_type": "code",
   "execution_count": 1,
   "metadata": {
    "latex_metadata": {
     "hidden": "true"
    }
   },
   "outputs": [],
   "source": [
    "import numpy as np\n",
    "import matplotlib.pyplot as plt\n",
    "\n",
    "# The next line indicates to matplotlib to show the plots inline in the notebook\n",
    "%matplotlib inline"
   ]
  },
  {
   "cell_type": "markdown",
   "metadata": {},
   "source": [
    "# Programming assignment \n",
    "\n",
    "You have program (in couples) a series of functions in order to generate a protein translation table. A protein is created from a sequence of nucleic acids codified in the messenger RNA (mRNA). This mRNA is read by the ribosome three bases at a time (called codons) to add one amino acid to the protein. In total there are $4^3=64$ different codons that correspond to the possible combinations of three bases.  Each codon codifies a single amino acid. The mRNA has one start codon that always codifies M and an end codon that signals the end of the protein.\n",
    "\n",
    "The objective of this assignment is to generate this translation table. To do so you will have to:\n",
    "\n",
    "+ Read the genome of a species from a FASTA file\n",
    "+ Read the annotation file for that genome to extract the location in the genome of the Coding Sequences (CDS) for each protein\n",
    "+ Extract the mRNAs from the genome that codifies each protein using its location \n",
    "+ Read the proteins from a FASTA file\n",
    "+ Generate the translation table using pairs of mRNA and protein\n",
    "\n",
    "\n",
    "In the following you will find the template of the functions to use and some other interesting execises "
   ]
  },
  {
   "cell_type": "markdown",
   "metadata": {},
   "source": [
    "## File parsing \n",
    "\n",
    "Implement the function below to parse a fasta file. Find an example of a fasta format file here:\n",
    "```\n",
    ">NC_000907.1:1073118-1073456 Haemophilus influenzae Rd KW20 chromoso\n",
    "ATGAAAACATTATTCACTTCGGTTGTATTGTGTGGTGCGCTGGTTGTTTCTTCGTCTTTTGCTGAGGAAA\n",
    "AAGCGACAGANCAAACCGCTCAATCTGTTGTGACAACTCAAGCTGAAGCTCAAGTAGCACCAGCCGTAGT\n",
    "GAGCGATAAATTGAATATCAACACAGCAACTGCCAGTGAAATTCAAAAATCCTTAACTGGCATTGGTGCG\n",
    "AAAAAAGCGGAAGCTATTGTGCAATATCGTGAAAAACACGGTAATTTTKCTAATGCAGAACAGCTTTTAG\n",
    "AAGTACAAGGAATTGGCAAAGCAACACTAGAGAAAAATCGTGATCGTATAATCTTTTAA\n",
    "```\n",
    "\n"
   ]
  },
  {
   "cell_type": "code",
   "execution_count": 2,
   "metadata": {},
   "outputs": [],
   "source": [
    "def readFasta(file):\n",
    "    \"\"\" Reads all sequences of a FASTA file \n",
    "        returns a dictionary \"\"\"  \n",
    "    ret_seqs = {}\n",
    "    seq = \"\"\n",
    "    key_found = False\n",
    "    with open(file, 'r') as f:\n",
    "        key = \"\"\n",
    "        for line in f:\n",
    "            line = line.replace('\\n', '')\n",
    "            if len(line) > 0:\n",
    "                if line[0] == \">\":\n",
    "                    if key_found:\n",
    "                        ret_seqs[key] = seq\n",
    "                    key_found = True\n",
    "                    key = line[1:].split(\" \")[0]\n",
    "                    seq = \"\"\n",
    "                elif key_found:\n",
    "                    seq += line\n",
    "    if key_found:\n",
    "        ret_seqs[key] = seq\n",
    "    return ret_seqs\n"
   ]
  },
  {
   "cell_type": "markdown",
   "metadata": {},
   "source": [
    "### Tests"
   ]
  },
  {
   "cell_type": "code",
   "execution_count": 3,
   "metadata": {
    "latex_metadata": {
     "lexer": "text"
    }
   },
   "outputs": [
    {
     "name": "stdout",
     "output_type": "stream",
     "text": [
      "Overwriting test.fasta\n"
     ]
    }
   ],
   "source": [
    "%%writefile test.fasta\n",
    ">NC_000907.1\n",
    "ATGAAAACATTATTCACTTCGGTTGTATTGTGTGGTGCGCTGGTTGTTTCTTCGTCTTTTGCTGAGGAAA\n",
    "AAGCGACAGANCAAACCGCTCAATCTGTTGTGACAACTCAAGCTGAAGCTCAAGTAGCACCAGCCGTAGT\n",
    "GAGCGATAAATTGAATATCAACACAGCAACTGCCAGTGAAATTCAAAAATCCTTAACTGGCATTGGTGCG\n",
    "AAAAAAGCGGAAGCTATTGTGCAATATCGTGAAAAACACGGTAATTTTKCTAATGCAGAACAGCTTTTAG\n",
    "AAGTACAAGGAATTGGCAAAGCAACACTAGAGAAAAATCGTGATCGTATAATCTTTTAACCCCC\n",
    ">NC_000907.2\n",
    "AAA\n",
    ">NC_000907.3\n",
    "AAACCCCC"
   ]
  },
  {
   "cell_type": "code",
   "execution_count": 4,
   "metadata": {
    "latex_metadata": {
     "lexer": "python"
    }
   },
   "outputs": [
    {
     "name": "stdout",
     "output_type": "stream",
     "text": [
      "{'NC_000907.1': 'ATGAAAACATTATTCACTTCGGTTGTATTGTGTGGTGCGCTGGTTGTTTCTTCGTCTTTTGCTGAGGAAAAAGCGACAGANCAAACCGCTCAATCTGTTGTGACAACTCAAGCTGAAGCTCAAGTAGCACCAGCCGTAGTGAGCGATAAATTGAATATCAACACAGCAACTGCCAGTGAAATTCAAAAATCCTTAACTGGCATTGGTGCGAAAAAAGCGGAAGCTATTGTGCAATATCGTGAAAAACACGGTAATTTTKCTAATGCAGAACAGCTTTTAGAAGTACAAGGAATTGGCAAAGCAACACTAGAGAAAAATCGTGATCGTATAATCTTTTAACCCCC', 'NC_000907.2': 'AAA', 'NC_000907.3': 'AAACCCCC'}\n"
     ]
    }
   ],
   "source": [
    "seqs = readFasta(\"test.fasta\")\n",
    "print(seqs)"
   ]
  },
  {
   "cell_type": "code",
   "execution_count": 5,
   "metadata": {
    "scrolled": false
   },
   "outputs": [
    {
     "name": "stdout",
     "output_type": "stream",
     "text": [
      "[0.6505926449899562, 0.5848455819941591]\n"
     ]
    }
   ],
   "source": [
    "# Verify timings: initial problems with concatenation method that unable to process this file\n",
    "timings = %timeit -o -n 1 -r 2 -q readFasta(\"homo_sapiens/homo_sapiens_chr21.fasta\")\n",
    "print(timings.all_runs)"
   ]
  },
  {
   "cell_type": "code",
   "execution_count": 6,
   "metadata": {
    "scrolled": true
   },
   "outputs": [
    {
     "name": "stdout",
     "output_type": "stream",
     "text": [
      "All tests Ok\n"
     ]
    }
   ],
   "source": [
    "# Cell for checking if readFasta is working\n",
    "seqs = readFasta(\"phix174/phix.fa\")\n",
    "#print(seqs['gi|216019|gb|J02482.1|PX1CG'])\n",
    "# Check that the number of sequences is one\n",
    "assert(len(seqs)==1)\n",
    "# Check that the length of the sequences is correct\n",
    "assert(len(seqs['gi|216019|gb|J02482.1|PX1CG'])==5386)\n",
    "\n",
    "print(\"All tests Ok\")"
   ]
  },
  {
   "cell_type": "markdown",
   "metadata": {},
   "source": [
    "## Count bases"
   ]
  },
  {
   "cell_type": "code",
   "execution_count": 1,
   "metadata": {},
   "outputs": [
    {
     "data": {
      "text/plain": [
       "([], [])"
      ]
     },
     "execution_count": 1,
     "metadata": {},
     "output_type": "execute_result"
    }
   ],
   "source": [
    "def countBases(seq, bases = ['A', 'C', 'G', 'T']):\n",
    "    \"\"\" Counts the number of occurrences of each base in the sequence seq\n",
    "        There are two return values: the list of bases and the list of counts\n",
    "    \"\"\"\n",
    "    counts = []\n",
    "    for base in bases:\n",
    "        counts.append(seq.count(base) + seq.count(base.lower()))\n",
    "    return bases, counts\n",
    "countBases(\"AADFF\", [])"
   ]
  },
  {
   "cell_type": "code",
   "execution_count": 8,
   "metadata": {},
   "outputs": [
    {
     "data": {
      "image/png": "[encoded data removed]",
      "text/plain": [
       "<Figure size 432x288 with 1 Axes>"
      ]
     },
     "metadata": {
      "needs_background": "light"
     },
     "output_type": "display_data"
    }
   ],
   "source": [
    "# Use matplotlib to show the histogram of bases for phiX174\n",
    "bases, counts = countBases(seqs['gi|216019|gb|J02482.1|PX1CG']) \n",
    "plt.bar(bases, counts)\n",
    "plt.xlabel('Bases')\n",
    "_ = plt.ylabel('Count')"
   ]
  },
  {
   "cell_type": "markdown",
   "metadata": {},
   "source": [
    "## GC Content"
   ]
  },
  {
   "cell_type": "code",
   "execution_count": 9,
   "metadata": {},
   "outputs": [],
   "source": [
    "def GCContent(seq):\n",
    "    \"\"\" Computes the percentage of GC content of a sequence. \n",
    "        Note that N should be ignored \"\"\"\n",
    "    count_GC = 0\n",
    "    count_all = 0\n",
    "    for base in seq:\n",
    "        if base in 'GC': \n",
    "            count_GC += 1\n",
    "            count_all += 1\n",
    "        elif base in 'AT':\n",
    "            count_all += 1\n",
    "    return round(count_GC * 1.0 / count_all, 10)"
   ]
  },
  {
   "cell_type": "markdown",
   "metadata": {},
   "source": [
    "### Tests"
   ]
  },
  {
   "cell_type": "code",
   "execution_count": 10,
   "metadata": {},
   "outputs": [
    {
     "name": "stdout",
     "output_type": "stream",
     "text": [
      "All tests Ok\n"
     ]
    }
   ],
   "source": [
    "# Check that the GC content is correct\n",
    "seqs = readFasta(\"phix174/phix.fa\")\n",
    "assert(GCContent(seqs['gi|216019|gb|J02482.1|PX1CG'])==0.4476420349)\n",
    "# Check that the GC content is correct\n",
    "seqs = readFasta(\"plamodium_falciparum/Plasmodium_falciparumchromosome_1.fa\")\n",
    "assert(GCContent(seqs['NC_004325.1'])==0.2054572418)\n",
    "\n",
    "print(\"All tests Ok\")"
   ]
  },
  {
   "cell_type": "markdown",
   "metadata": {},
   "source": [
    "### GC content by species"
   ]
  },
  {
   "cell_type": "code",
   "execution_count": 11,
   "metadata": {},
   "outputs": [
    {
     "name": "stdout",
     "output_type": "stream",
     "text": [
      "Processing file: haemophilus_influenzae/GCF_000027305.1_ASM2730v1_genomic.fna\n",
      "Processing file: phix174/phix.fa\n",
      "Processing file: plamodium_falciparum/Plasmodium_falciparumchromosome_1.fa\n",
      "Processing file: arabidopsis_thaliana/GCF_000001735.3_TAIR10_genomic.fna\n",
      "Processing file: homo_sapiens/homo_sapiens_chr21.fasta\n",
      "[0.3815028554, 0.4476420349, 0.2054572418, 0.3907552942, 0.4093836458]\n"
     ]
    }
   ],
   "source": [
    "files = [\"haemophilus_influenzae/GCF_000027305.1_ASM2730v1_genomic.fna\",\n",
    "         \"phix174/phix.fa\",\n",
    "         \"plamodium_falciparum/Plasmodium_falciparumchromosome_1.fa\",\n",
    "         \"arabidopsis_thaliana/GCF_000001735.3_TAIR10_genomic.fna\",\n",
    "         \"homo_sapiens/homo_sapiens_chr21.fasta\"]\n",
    "\n",
    "gcs = []\n",
    "for file in files:\n",
    "    print(\"Processing file:\", file)\n",
    "    seqs = readFasta(file)\n",
    "    # Count only the first sequence\n",
    "    keys = list(seqs.keys())\n",
    "    gcs.append(GCContent(seqs[keys[0]])) \n",
    "    \n",
    "print(gcs)"
   ]
  },
  {
   "cell_type": "code",
   "execution_count": 12,
   "metadata": {},
   "outputs": [
    {
     "data": {
      "image/png": "[encoded data removed]",
      "text/plain": [
       "<Figure size 432x288 with 1 Axes>"
      ]
     },
     "metadata": {
      "needs_background": "light"
     },
     "output_type": "display_data"
    }
   ],
   "source": [
    "# Use matplotlib to show the GC content of the different species with a bar plot\n",
    "plt.bar(['H. Influenzae', 'Phix', 'P. Falciparum', 'A. Thaliana', 'H. Sapiens'], gcs)\n",
    "plt.xlabel('Species')\n",
    "_ = plt.ylabel('GC count')"
   ]
  },
  {
   "cell_type": "markdown",
   "metadata": {},
   "source": [
    "## Read Fastq"
   ]
  },
  {
   "cell_type": "code",
   "execution_count": 13,
   "metadata": {},
   "outputs": [],
   "source": [
    "def readFastq(file):\n",
    "    \"\"\" Read a FASTQ format file\n",
    "    The read adheres specified FASTQ format in initial Sanger papers,\n",
    "    that is, we expect that the sequence and scores could spread over several lines.\n",
    "    It's more complicated that the simplified case more common nowadays, which considers \n",
    "    one line for scores and one line for sequence.\n",
    "    Args:\n",
    "        file (str): path of the file to read\n",
    "    \n",
    "    Returns:\n",
    "        list of str: sequences\n",
    "        list of str: related qualities\n",
    "    \"\"\"\n",
    "    reads = []\n",
    "    quals = []\n",
    "    readsMode = False\n",
    "    with open(file, 'r') as f:\n",
    "        for line in f:\n",
    "            line = line.replace('\\n', '')\n",
    "            if len(line) > 0:\n",
    "                if line[0] == \"+\":\n",
    "                    if readsMode: #this is a reads line end\n",
    "                        readsMode = False\n",
    "                    else: #this is a quals line\n",
    "                        quals[-1] += line \n",
    "                elif line[0] == \"@\": \n",
    "                    #this is a quals line\n",
    "                    if len(reads) > 0 and (len(quals[-1]) + len(line) <= len(reads[-1])):\n",
    "                        quals[-1] += line\n",
    "                    #this is a comment\n",
    "                    else:  \n",
    "                        reads.append(\"\")\n",
    "                        quals.append(\"\")\n",
    "                        readsMode = True\n",
    "                elif readsMode:\n",
    "                    reads[-1] += line\n",
    "                else:\n",
    "                    quals[-1] += line\n",
    " \n",
    "    return reads, quals"
   ]
  },
  {
   "cell_type": "markdown",
   "metadata": {},
   "source": [
    "### Test\n",
    "Test with a file that spread sequence and quality scores over several lines. Also with empty lines in the middle."
   ]
  },
  {
   "cell_type": "code",
   "execution_count": 14,
   "metadata": {
    "latex_metadata": {
     "lexer": "text"
    }
   },
   "outputs": [
    {
     "name": "stdout",
     "output_type": "stream",
     "text": [
      "Overwriting ugly.fastq\n"
     ]
    }
   ],
   "source": [
    "%%writefile ugly.fastq\n",
    "\n",
    "\n",
    "\n",
    "\n",
    "\n",
    "\n",
    "@SRR835775.1 1/1\n",
    "TAACCCTAACCCTAACCCTAACCCTAACCCTAACCCTAACCCTAACCCTAACCCTCACC\n",
    "CTAACCCTAACCCTAACCGTATCCGTC\n",
    "ACCCTAACCCTAAC\n",
    "+\n",
    "???B1ADDD8??BB+C?B+:AA883CEE8?C3@DDD3)?D2;DC?8\n",
    "?=BAD=@C@(.6.6=A?=?@#######################\n",
    "###########\n",
    "@SRR835775.2 2/1\n",
    "TAACCCTAACCCTAACCCTAACCCTAACCCTAACCCTAACCCTAACCCTAACCCTACCCTAACCCTAACCCTAACCCTAACCCTAACCCTAACCCTAACC\n",
    "+\n",
    "CCCFFFFFGHHGHJJJJJIJGIIJJJJJJJIJIJJJJJFJJFGIIIIH=CBFCF=CCEG)=>EHB2@@DEC>;;?=;(=?BBD?59?BA###########\n",
    "\n",
    "\n",
    "\n",
    "@SRR835775.3 3/1\n",
    "TAGGGTTAGGGTTAGGGTTAGGGTTAGGGTTAGGGTTAGGGTTAGGGTTAGGGTTAGGGTTAGGGTTAGGGTTAGGGTTAGGGTTAGGGTTAGGGTTAGG\n",
    "+\n",
    "@@<DD?DDHHH<CBHII:CFGIGAGHIIG?CCGGE0BDHIIHIGICH8=FHGI=@EHGGGEEHH>);?CC@.;(=;?59,5<A599?CB>ABBCB><88A\n",
    "@SRR835775.4 4/1\n",
    "TAGGGTTAGGGTTAGGGTTAGGGTTAGGGTTAGGGTTAGGGTTAGGGTTAGGGTTAGGGTTAGGGTTAAGGGTTGGGGGTTAGGGGTAGGGGTAGGGTTA\n",
    "+\n",
    "\n",
    "\n",
    "@CCFFDDF\n",
    "H\n",
    "HHDFHIJJCGGIJJHIIHJC?DHHIJ0?DGHI9BBFHICGGIGI=CDEGI=?AAEF7@?################################\n",
    "@SRR835775.5 5/1\n",
    "CTAACCCTAACCCTAACCCTAACCCTACCCTAACCCTAACCCTAACCCTAACCCTAACCCTAACCCTAACCCTAACCCAACCCTAACCCTAACCCTCACC\n",
    "+\n",
    "@<@FDFDDBBFHH@EBGGGEH@FFHE;EHIEGGBHG?)9?8BDGGBGGBCDGI=93=C6==C;CCD(?@>@#############################\n",
    "@SRR835775.6 6/1\n",
    "AACCCTAACCCTAACCCTAACCCTAACCCTAACCCCTAACCCTAACCCTACCCCTAACCCCCAACCCTCACACCAACCCTAACCCTACCCCCAACCCCAC\n",
    "+\n",
    "CCCFFDFDHGHHDHHGIIIHGIJ<GBBBFBGGHDIH@B)?)0?F>DB#####################################################\n",
    "@SRR835775.7 7/1\n",
    "TAGGGGTTAGGGTTAGGGTTAGGGTTAGGGTTAGGGTTAGGGCTGGGTTAGGGGTAGGGTTAGGGTTAGGGTTAGGGGTAGGAGTTCGGGAGAGCACACG\n",
    "+\n",
    "???=DD0@3ADB<<CE;+3<;EE?1:)1?C1?3BDCB@;)99)0;@;)-(.7A'55A1?.6;(6;.5;;??#############################\n",
    "@SRR835775.8 8/1\n",
    "TAACCCTAACCCTAACCCTAACCCTAACCCTAACCCTAACCCTAACCCTAACCCCAACCCCAACCCCAACCCCAACCCTAACCCTAAACCCAAACCTAAA\n",
    "+\n",
    "@@@DDF?EFFHA;DDHGI<FDFGECCHF:C9DH9F3):??GHB)BFHEAHBG;C';C@EE45?#####################################\n"
   ]
  },
  {
   "cell_type": "code",
   "execution_count": 15,
   "metadata": {},
   "outputs": [
    {
     "name": "stdout",
     "output_type": "stream",
     "text": [
      "8 8 800 800\n",
      "TAACCCTAACCCTAACCCTAACCCTAACCCTAACCCTAACCCTAACCCTAACCCTCACCCTAACCCTAACCCTAACCGTATCCGTCACCCTAACCCTAAC\n",
      "???B1ADDD8??BB+C?B+:AA883CEE8?C3@DDD3)?D2;DC?8?=BAD=@C@(.6.6=A?=?@##################################\n",
      "\n",
      "TAGGGTTAGGGTTAGGGTTAGGGTTAGGGTTAGGGTTAGGGTTAGGGTTAGGGTTAGGGTTAGGGTTAAGGGTTGGGGGTTAGGGGTAGGGGTAGGGTTA\n",
      "@CCFFDDFHHHDFHIJJCGGIJJHIIHJC?DHHIJ0?DGHI9BBFHICGGIGI=CDEGI=?AAEF7@?################################\n",
      "\n",
      "TAACCCTAACCCTAACCCTAACCCTAACCCTAACCCTAACCCTAACCCTAACCCCAACCCCAACCCCAACCCCAACCCTAACCCTAAACCCAAACCTAAA\n",
      "@@@DDF?EFFHA;DDHGI<FDFGECCHF:C9DH9F3):??GHB)BFHEAHBG;C';C@EE45?#####################################\n"
     ]
    }
   ],
   "source": [
    "r, q = readFastq('ugly.fastq')\n",
    "print(len(r), len(q), len(''.join(r)),  len(''.join(q)))\n",
    "# Length of all secuences and scores needs to be equal\n",
    "assert len(''.join(r)) == len(''.join(q))\n",
    "print(r[0])\n",
    "print(q[0])\n",
    "print()\n",
    "print(r[3])\n",
    "print(q[3])\n",
    "print()\n",
    "# Check the last one\n",
    "print(r[-1])\n",
    "print(q[-1])"
   ]
  },
  {
   "cell_type": "markdown",
   "metadata": {},
   "source": [
    "### Histogram of Q"
   ]
  },
  {
   "cell_type": "code",
   "execution_count": 16,
   "metadata": {},
   "outputs": [
    {
     "data": {
      "image/png": "[encoded data removed]",
      "text/plain": [
       "<Figure size 432x288 with 1 Axes>"
      ]
     },
     "metadata": {
      "needs_background": "light"
     },
     "output_type": "display_data"
    }
   ],
   "source": [
    "# Use matplotlib to show the a histogram of Qs\n",
    "import math\n",
    "rr, qq = readFastq('phix174/SRR835775_1.first1000.fastq')\n",
    "#%time rr, qq = readFastq('sintetico/sample_01.fasta.fastq')\n",
    "q = ''.join(qq)\n",
    "quals = {}\n",
    "i = 0\n",
    "TOP = 10000000\n",
    "#math.pow(10,-(ord('@')-33)/10)\n",
    "for e in q:\n",
    "    m = ord(e) - 33\n",
    "    if m in quals:\n",
    "        quals[m] += 1\n",
    "    else:\n",
    "        quals[m] = 0\n",
    "    i += 1\n",
    "    if i > TOP: break\n",
    "\n",
    "plt.bar(list(quals.keys()), list(quals.values()))\n",
    "plt.xlabel('Q')\n",
    "_ = plt.ylabel('Q count')"
   ]
  },
  {
   "cell_type": "markdown",
   "metadata": {},
   "source": [
    "## Count bases (spark)"
   ]
  },
  {
   "cell_type": "code",
   "execution_count": 17,
   "metadata": {},
   "outputs": [
    {
     "data": {
      "text/plain": [
       "(['A', 'C', 'G', 'T'], [0, 0, 0, 0])"
      ]
     },
     "execution_count": 17,
     "metadata": {},
     "output_type": "execute_result"
    }
   ],
   "source": [
    "# Implement a sequence of spark transformations to read a fasta file \n",
    "#   and to compute the number of occurrences of each base. \n",
    "# \n",
    "# You can use count countBases inside a tranformation instead of a \n",
    "# lambda\n",
    "\n",
    "def count_bases_spark_from_fasta(file, baselist=['A', 'C', 'G', 'T']):\n",
    "    \"\"\" Counts the number of occurrences of each base in a fasta file.\n",
    "        There are two return values: the list of bases and the list of counts\n",
    "    \"\"\"\n",
    "    fasta_lines = sc.textFile(file)\n",
    "    data_lines = fasta_lines.filter(lambda line: line[0] != \">\")\n",
    "    bases = data_lines.flatMap(lambda line: list(line))\n",
    "    base_duples = bases.map(lambda base: (base, 1))\n",
    "    base_counts = base_duples.reduceByKey(lambda v1, v2 : v1 + v2)\n",
    "    # Format response\n",
    "    bases = []\n",
    "    counts = []\n",
    "    for (base, count) in base_counts.collect():\n",
    "        if base in baselist:\n",
    "            bases.append(base)\n",
    "            counts.append(count)\n",
    "    for base in baselist:\n",
    "        if base not in bases:\n",
    "            bases.append(base)\n",
    "            counts.append(0)\n",
    "    return bases, counts\n",
    "\n",
    "count_bases_spark_from_fasta(\"wide.fasta\")"
   ]
  },
  {
   "cell_type": "markdown",
   "metadata": {},
   "source": [
    "### Tests\n",
    "Files for test:"
   ]
  },
  {
   "cell_type": "code",
   "execution_count": 18,
   "metadata": {},
   "outputs": [
    {
     "name": "stdout",
     "output_type": "stream",
     "text": [
      "Overwriting p1.fasta\n"
     ]
    }
   ],
   "source": [
    "%%writefile p1.fasta\n",
    ">NC_000907.1\n",
    "ATGAAAACATTATTCACTTCGGTTGTATTGTGTGGTGCGCTGGTTGTTTCTTCGTCTTTTGCTGAGGAAA\n",
    "AAGCGACAGANCAAACCGCTCAATCTGTTGTGACAACTCAAGCTGAAGCTCAAGTAGCACCAGCCGTAGT\n",
    "GAGCGATAAATTGAATATCAACACAGCAACTGCCAGTGAAATTCAAAAATCCTTAACTGGCATTGGTGCG\n",
    "AAAAAAGCGGAAGCTATTGTGCAATATCGTGAAAAACACGGTAATTTTKCTAATGCAGAACAGCTTTTAG\n",
    "AAGTACAAGGAATTGGCAAAGCAACACTAGAGAAAAATCGTGATCGTATAATCTTTTAACCCCC\n",
    ">NC_000907.2\n",
    "AAA"
   ]
  },
  {
   "cell_type": "code",
   "execution_count": 19,
   "metadata": {},
   "outputs": [
    {
     "name": "stdout",
     "output_type": "stream",
     "text": [
      "Overwriting p2.fasta\n"
     ]
    }
   ],
   "source": [
    "%%writefile p2.fasta\n",
    ">NC_000907.1\n",
    "ATCG"
   ]
  },
  {
   "cell_type": "code",
   "execution_count": 20,
   "metadata": {},
   "outputs": [
    {
     "name": "stdout",
     "output_type": "stream",
     "text": [
      "Overwriting wide.fasta\n"
     ]
    }
   ],
   "source": [
    "%%writefile wide.fasta\n",
    ">NC_000907.1"
   ]
  },
  {
   "cell_type": "code",
   "execution_count": 21,
   "metadata": {},
   "outputs": [
    {
     "name": "stdout",
     "output_type": "stream",
     "text": [
      "['C', 'A', 'T', 'G'] [1, 1, 1, 1]\n",
      "['A', 'C', 'G', 'T'] [1, 1, 1, 1]\n",
      "Test passed for file p2.fasta\n",
      "\n",
      "['C', 'A', 'T', 'G'] [66, 118, 89, 72]\n",
      "['A', 'C', 'G', 'T'] [118, 66, 72, 89]\n",
      "Test passed for file p1.fasta\n",
      "\n",
      "['A', 'C', 'G', 'T'] [0, 0, 0, 0]\n",
      "['A', 'C', 'G', 'T'] [0, 0, 0, 0]\n",
      "Test passed for file wide.fasta\n",
      "\n"
     ]
    }
   ],
   "source": [
    "def test(file, base_list=['A', 'C', 'G', 'T']):\n",
    "    \"\"\"\n",
    "    Verification versus result of count bases not spark\n",
    "    \"\"\"\n",
    "    bases_spark, counts_spark = count_bases_spark_from_fasta(file, base_list)\n",
    "    print(bases_spark, counts_spark)\n",
    "\n",
    "    #Calc no spark\n",
    "    seqs = readFasta(file)\n",
    "    sequence = \"\".join(list(seqs.values()))\n",
    "    bases_no_spark, counts_no_spark = countBases(sequence, base_list)\n",
    "    print(bases_no_spark, counts_no_spark)\n",
    "\n",
    "    #Verification\n",
    "    compares = {}\n",
    "    for (i, base) in enumerate(bases_spark):\n",
    "        compares[base] = counts_spark[i]\n",
    "\n",
    "    for (i, base) in enumerate(bases_no_spark):\n",
    "        assert compares[base] == counts_no_spark[i]\n",
    "    print(\"Test passed for file \" + file)\n",
    "    print()\n",
    "    \n",
    "test(\"p2.fasta\")\n",
    "test(\"p1.fasta\")\n",
    "test(\"wide.fasta\")"
   ]
  },
  {
   "cell_type": "markdown",
   "metadata": {},
   "source": [
    "## Compute inverse complementary(spark)"
   ]
  },
  {
   "cell_type": "code",
   "execution_count": 22,
   "metadata": {},
   "outputs": [],
   "source": [
    "def complementary(gen):\n",
    "    \"\"\" From a sequence of nucleotides return the inverse complementary\n",
    "          e.g. GAACCT should return AGGTTC\n",
    "          Hint: Use a dictionary for the translations\n",
    "        Args:\n",
    "            gen (str): nucleotide sequence\n",
    "        \n",
    "        Returns:\n",
    "            str: inverse complementary of input sequence\n",
    "        \"\"\"\n",
    "    traslation = { 'A' : 'T', 'C' : 'G', 'T' : 'A', 'G' : 'C',\n",
    "                   'R' : 'Y',  'Y' : 'R',\n",
    "                   'S' : 'S',\n",
    "                   'W' : 'W',\n",
    "                   'K' : 'M', 'M' : 'K',\n",
    "                   'B' : 'V', 'V' : 'B',\n",
    "                   'D' : 'H',  'H' : 'D',\n",
    "                   'N' : 'N', 'X' : 'X'}\n",
    "                  \n",
    "    bases = sc.parallelize(gen)\n",
    "    bases_complementary = bases.map(lambda base: traslation[base])\n",
    "    bases_complementary_reverse_join = bases_complementary.reduce(lambda v1,v2 : v2 + v1)\n",
    "    return bases_complementary_reverse_join"
   ]
  },
  {
   "cell_type": "markdown",
   "metadata": {},
   "source": [
    "### Tests"
   ]
  },
  {
   "cell_type": "code",
   "execution_count": 23,
   "metadata": {},
   "outputs": [
    {
     "name": "stdout",
     "output_type": "stream",
     "text": [
      "All tests OK!\n"
     ]
    }
   ],
   "source": [
    "# Tests\n",
    "assert(complementary('G')=='C')\n",
    "assert(complementary('AT')=='AT')\n",
    "assert(complementary('GC')=='GC')\n",
    "assert(complementary('GATACA')=='TGTATC')\n",
    "# If you added all possible combination of bases uncomment the \n",
    "# following line to check\n",
    "assert(complementary('GATACASWKMYRHDVBN')=='NVBHDYRKMWSTGTATC')\n",
    "\n",
    "print('All tests OK!')"
   ]
  },
  {
   "cell_type": "markdown",
   "metadata": {},
   "source": [
    "## Reading CDS from GFF (spark)"
   ]
  },
  {
   "cell_type": "code",
   "execution_count": 24,
   "metadata": {},
   "outputs": [],
   "source": [
    "def extractProteinId(attribs):\n",
    "    \"\"\" Extract the protein_id from the complete string of the attributes \n",
    "        field of the gff \"\"\"\n",
    "    protein_id = attribs[attribs.find(\"protein_id=\")+len(\"protein_id=\"):]\n",
    "    i = protein_id.find(\";\")\n",
    "    if i>=0:\n",
    "        protein_id = protein_id[:i]\n",
    "        \n",
    "    return protein_id\n",
    "    \n",
    "def extractCDSFromGFF(gff_file):\n",
    "    \"\"\" This function extract the regions information from a gff file for all CDSs.\n",
    "        \n",
    "        This function returns a dictionary with the protein_id being the keys and \n",
    "        the values in a list with the sequence_id and tuples with (start, end, strand, frame)\n",
    "        \n",
    "        Note that a CDS might spread over multiple lines. For each line you should include \n",
    "        one tuple.\n",
    "        \n",
    "        Check the tests in the next cell for reference        \n",
    "    \"\"\"\n",
    "    cds_regions = {}\n",
    "    gff_cds_regions = sc.textFile(gff_file).\\\n",
    "        filter(lambda line: len(line) > 0 and line[0] != '#').\\\n",
    "        map(lambda line: line.split(\"\\t\")).\\\n",
    "        filter(lambda line: line[2] == 'CDS').\\\n",
    "        map(lambda line: [extractProteinId(line[8]), line[0],\\\n",
    "                          (int(line[3]), int(line[4]), line[6], int(line[7]))])\n",
    "    # reformat the list as dict \n",
    "    for region in gff_cds_regions.collect():\n",
    "        if region[0] in cds_regions:\n",
    "            cds_regions[region[0]].append(region[2])\n",
    "        else:\n",
    "            cds_regions[region[0]] = [region[1], region[2]]\n",
    "    return (cds_regions)"
   ]
  },
  {
   "cell_type": "markdown",
   "metadata": {},
   "source": [
    "### Tests\n",
    "This is a file for tests"
   ]
  },
  {
   "cell_type": "code",
   "execution_count": 25,
   "metadata": {},
   "outputs": [
    {
     "name": "stdout",
     "output_type": "stream",
     "text": [
      "Overwriting test.gff\n"
     ]
    }
   ],
   "source": [
    "%%writefile test.gff\n",
    "##gff-version 3\n",
    "#!gff-spec-version 1.21\n",
    "#!processor NCBI annotwriter\n",
    "#!genome-build ASM2730v1\n",
    "#!genome-build-accession NCBI_Assembly:GCF_000027305.1\n",
    "##sequence-region NC_000907.1 1 1830138\n",
    "##species https://www.ncbi.nlm.nih.gov/Taxonomy/Browser/wwwtax.cgi?id=71421\n",
    "NC_000907.1\tRefSeq\tregion\t1\t1830138\t.\t+\t.\tID=id0;Dbxref=taxon:71421;Is_circular=true;Name=ANONYMOUS;gbkey=Src;genome=chromosome;mol_type=genomic DNA;old-name=Haemophilus influenzae Rd\n",
    "NC_000907.1\tRefSeq\tremark\t1\t1830138\t.\t+\t.\tID=id1;Note=REFSEQ gene predictions performed by GeneMark 2.4/GeneMark.hmm 2.0 with comparison to original submitter provided annotation%3B tRNA sequences predicted using tRNAscan-SE 1.21;gbkey=Comment\n",
    "NC_000907.1\tRefSeq\tgene\t2\t1021\t.\t+\t.\tID=gene0;Dbxref=GeneID:950899;Name=gapdH;gbkey=Gene;gene=gapdH;gene_biotype=protein_coding;locus_tag=HI0001\n",
    "NC_000907.1\tRefSeq\tCDS\t2\t1021\t.\t+\t0\tID=cds0;Parent=gene0;Dbxref=Genbank:NP_438174.1,GeneID:950899;Name=NP_438174.1;Note=catalyzes the formation of 3-phospho-D-glyceroyl phosphate from D-glyceraldehyde 3-phosphate;gbkey=CDS;gene=gapdH;product=glyceraldehyde-3-phosphate dehydrogenase;protein_id=NP_438174.1;transl_table=11\n",
    "NC_000907.1\tRefSeq\tgene\t104277\t105274\t.\t+\t.\tID=gene101;Dbxref=GeneID:950998;Name=hitA;gbkey=Gene;gene=hitA;gene_biotype=protein_coding;locus_tag=HI0097\n",
    "NC_000907.1\tRefSeq\tCDS\t104277\t104318\t.\t+\t0\tID=cds94;Parent=gene101;Dbxref=Genbank:NP_438271.2,GeneID:950998;Name=NP_438271.2;Note=periplasmic ferric iron binding protein%3B contains a frameshift with respect to purified protein%3B similar to PID:2340838;gbkey=CDS;gene=hitA;product=iron-utilization periplasmic protein hFbpA;protein_id=NP_438271.2;transl_table=11\n",
    "NC_000907.1\tRefSeq\tCDS\t104318\t105274\t.\t+\t0\tID=cds94;Parent=gene101;Dbxref=Genbank:NP_438271.2,GeneID:950998;Name=NP_438271.2;Note=periplasmic ferric iron binding protein%3B contains a frameshift with respect to purified protein%3B similar to PID:2340838;gbkey=CDS;gene=hitA;product=iron-utilization periplasmic protein hFbpA;protein_id=NP_438271.2;transl_table=11\n",
    "\n",
    "NC_000907.1\tRefSeq\tCDS\t1044343\t11\t.\t+\t0\tID=cds94;Parent=gene101;Dbxref=Genbank:NP_438271.2,GeneID:950998;Name=NP_438271.2;Note=periplasmic ferric iron binding protein%3B contains a frameshift with respect to purified protein%3B similar to PID:2340838;gbkey=CDS;gene=hitA;product=iron-utilization periplasmic protein hFbpA;protein_id=NP_438271.2;transl_table=11\n",
    "###\n",
    "\n",
    "\n"
   ]
  },
  {
   "cell_type": "code",
   "execution_count": 26,
   "metadata": {},
   "outputs": [
    {
     "data": {
      "text/plain": [
       "{'NP_438174.1': ['NC_000907.1', (2, 1021, '+', 0)],\n",
       " 'NP_438271.2': ['NC_000907.1',\n",
       "  (104277, 104318, '+', 0),\n",
       "  (104318, 105274, '+', 0),\n",
       "  (1044343, 11, '+', 0)]}"
      ]
     },
     "metadata": {},
     "output_type": "display_data"
    },
    {
     "name": "stdout",
     "output_type": "stream",
     "text": [
      "All test are OK!\n"
     ]
    }
   ],
   "source": [
    "display(extractCDSFromGFF('test.gff'))\n",
    "\n",
    "# Tests\n",
    "assert(extractCDSFromGFF('haemophilus_influenzae/test1.gff')=={'NP_438174.1': ['NC_000907.1', (2, 1021, '+', 0)]})\n",
    "assert(extractCDSFromGFF('haemophilus_influenzae/test2.gff')== {'NP_438174.1': ['NC_000907.1',  (2, 1021, '+', 0)],\n",
    "                                                  'NP_438175.1': ['NC_000907.1',  (1190, 3013, '+', 0)],\n",
    "                                                  'NP_438176.1': ['NC_000907.1', (3050, 3838, '-', 0)]})\n",
    "assert(extractCDSFromGFF('haemophilus_influenzae/test3.gff')=={'NP_438174.1': ['NC_000907.1', (2, 1021, '+', 0)],\n",
    "                 'NP_438271.2': ['NC_000907.1', (104277, 104318, '+', 0), (104318, 105274, '+',  0)]})\n",
    "print('All test are OK!')"
   ]
  },
  {
   "cell_type": "markdown",
   "metadata": {},
   "source": [
    "## Obtain translation table from cds and protein"
   ]
  },
  {
   "cell_type": "code",
   "execution_count": 27,
   "metadata": {},
   "outputs": [],
   "source": [
    "def obtainTranslationTable(cds, protein):\n",
    "    \"\"\" Creates a translation dictionary from the protein and DNA sequence.\n",
    "        The function returns:\n",
    "            1- A dictionary with the translation table where the codons are the\n",
    "               keys of the dictionary and the amino acids the values.\n",
    "            2- The start codon as a string\n",
    "            \n",
    "        Note 1: The sequence cds includes start and end codons. \n",
    "        Note 2: First codon always codifies M that is also included in the protein.\n",
    "        Note 3: End codon do not codify an a aminoacid and should be included in the\n",
    "                dictionary as *.\n",
    "                \n",
    "        Example: (Spaces added in seqeunces for readability) \n",
    "          cds     = GTG TTT TTG GTG TGG TGA\n",
    "          protein = M   F   L   V   W\n",
    "          \n",
    "          should return\n",
    "            tranlation dictionary = {'TTT':'F', 'TTG':'L', 'GTG':'V', 'TGG':'W', 'TGA':'*'}\n",
    "            start codon = 'GTG'\n",
    "        \"\"\"\n",
    "    trans_table = {}\n",
    "    start_codon = \"\"\n",
    "    for i in range(0, len(cds), 3):\n",
    "        codon = cds[i:i+3]\n",
    "        if i == 0:\n",
    "            start_codon = codon\n",
    "        if len(codon) == 3:\n",
    "            i_protein = i // 3\n",
    "            if i_protein >= len(protein):\n",
    "                trans_table[codon] = '*'\n",
    "            else:\n",
    "                trans_table[codon] = protein[i_protein]\n",
    "    \n",
    "    return trans_table, start_codon"
   ]
  },
  {
   "cell_type": "markdown",
   "metadata": {},
   "source": [
    "### Tests"
   ]
  },
  {
   "cell_type": "code",
   "execution_count": 28,
   "metadata": {},
   "outputs": [
    {
     "name": "stdout",
     "output_type": "stream",
     "text": [
      "All test OK!\n"
     ]
    }
   ],
   "source": [
    "translation_dictionary, start_codon = obtainTranslationTable('GTGTTTTTGGTGTGGTGA','MFLVW')\n",
    "assert(translation_dictionary=={'TTT':'F', 'TTG':'L', 'GTG':'V', 'TGG':'W', 'TGA':'*'})\n",
    "assert(start_codon == 'GTG')\n",
    "\n",
    "print('All test OK!')"
   ]
  },
  {
   "cell_type": "markdown",
   "metadata": {},
   "source": [
    "## Compose mRNA"
   ]
  },
  {
   "cell_type": "code",
   "execution_count": 29,
   "metadata": {},
   "outputs": [],
   "source": [
    "def compose_mRNA(cromosome, cds):\n",
    "    \"\"\"Returns the mRNA from the complete sequence of DNA and the locations of the CDS. \n",
    "        Parameters:\n",
    "            -cromosome: a string with the whole cromosome\n",
    "            -cds: a list containing tuples of (start, end, strand, phase) \"\"\"\n",
    "    mrna = ''\n",
    "    #print(cds)\n",
    "    for (start, end, strand, phase) in cds:\n",
    "        if strand == '+':\n",
    "            mrna += cromosome[start + phase - 1: end]\n",
    "        else:\n",
    "            mrna += complementary(cromosome[start - 1: end - phase])\n",
    "        \n",
    "    return mrna\n"
   ]
  },
  {
   "cell_type": "markdown",
   "metadata": {},
   "source": [
    "### Tests"
   ]
  },
  {
   "cell_type": "code",
   "execution_count": 30,
   "metadata": {},
   "outputs": [
    {
     "name": "stdout",
     "output_type": "stream",
     "text": [
      "All tests are OK!\n"
     ]
    }
   ],
   "source": [
    "cod = 'GTGTTTTTGGTGTGGTGA'\n",
    "\n",
    "assert(compose_mRNA(cod,[(1,len(cod),'+',0)])==cod)\n",
    "assert(compose_mRNA(cod,[(1,len(cod),'-',0)])==complementary(cod))\n",
    "assert(compose_mRNA(\"GGGGGGGGGG\"+cod+\"GGGGGG\",[(11,10+len(cod),'+',0)])==cod)\n",
    "assert(compose_mRNA(\"GGGGGGGGGG\"+cod+\"GGGGGG\",[(11,10+len(cod),'-',0)])==complementary(cod))\n",
    "assert(compose_mRNA(\"GGGGGGGGGG\"+cod[:9]+\"GGGGGG\"+cod[9:],[(11,19,'+',0),(26,34,'+',0)])==cod)\n",
    "assert(compose_mRNA(\"GGGGGGGGGG\"+cod[:9]+\"GGGGGG\"+cod[9:],[(26,34,'-',0),(11,19,'-',0)])==complementary(cod))\n",
    "\n",
    "print(\"All tests are OK!\")"
   ]
  },
  {
   "cell_type": "markdown",
   "metadata": {},
   "source": [
    "## Compute the translation tables"
   ]
  },
  {
   "cell_type": "code",
   "execution_count": 31,
   "metadata": {
    "scrolled": true
   },
   "outputs": [
    {
     "name": "stdout",
     "output_type": "stream",
     "text": [
      "List of start codons:  {'ATG', 'TTG'}\n",
      "There are 64 entries in the tranlation table.\n",
      "Entries:\n",
      "\n",
      "AAA->K    AAC->N    AAG->K    AAT->N    ACA->T    ACC->T    ACG->T    ACT->T    \n",
      "AGA->R    AGC->S    AGG->R    AGT->S    ATA->I    ATC->I    ATG->M    ATT->I    \n",
      "CAA->Q    CAC->H    CAG->Q    CAT->H    CCA->P    CCC->P    CCG->P    CCT->P    \n",
      "CGA->R    CGC->R    CGG->R    CGT->R    CTA->L    CTC->L    CTG->L    CTT->L    \n",
      "GAA->E    GAC->D    GAG->E    GAT->D    GCA->A    GCC->A    GCG->A    GCT->A    \n",
      "GGA->G    GGC->G    GGG->G    GGT->G    GTA->V    GTC->V    GTG->V    GTT->V    \n",
      "TAA->*    TAC->Y    TAG->*    TAT->Y    TCA->S    TCC->S    TCG->S    TCT->S    \n",
      "TGA->*    TGC->C    TGG->W    TGT->C    TTA->L    TTC->F    TTG->L    TTT->F    "
     ]
    }
   ],
   "source": [
    "def cleanTransTable(tt):\n",
    "    # Remove entries that codify 'X' (unknown)\n",
    "    tt = {k:tt[k] for k in tt if tt[k]!='X'}\n",
    "    # Remove entries that are not GCAT only\n",
    "    tt = {k:tt[k] for k in tt if k.count('G')+k.count('C')+k.count('A')+k.count('T') == 3}\n",
    "    \n",
    "    return tt\n",
    "\n",
    "# Read data\n",
    "genome   = readFasta('haemophilus_influenzae/GCF_000027305.1_ASM2730v1_genomic.fna')\n",
    "cdss     = extractCDSFromGFF('haemophilus_influenzae/test4.gff')\n",
    "proteins = readFasta('haemophilus_influenzae/GCF_000027305.1_ASM2730v1_protein.faa')\n",
    "# Init trans table and start codons\n",
    "translation_table = {}\n",
    "start_codons = set()\n",
    "\n",
    "# Loop over all mRNA found\n",
    "for protein_id in cdss:\n",
    "    cds    = cdss[protein_id]\n",
    "    seq_id = cds[0]\n",
    "    \n",
    "    mRNA   = compose_mRNA(genome[seq_id], cds[1:])\n",
    "    #print(mRNA)\n",
    "    tt, start_codon = obtainTranslationTable(mRNA, proteins[protein_id])\n",
    "    \n",
    "    translation_table.update(tt)\n",
    "    start_codons.add(start_codon)\n",
    "\n",
    "# Remove spurious entries from the result\n",
    "translation_table = cleanTransTable(translation_table)\n",
    "\n",
    "#Print result\n",
    "print(\"List of start codons: \", start_codons)\n",
    "print(\"There are {0} entries in the tranlation table.\".format(len(translation_table)))\n",
    "print(\"Entries:\")\n",
    "\n",
    "for i,k in enumerate(sorted(translation_table.keys())):\n",
    "    if i%8==0:\n",
    "        print()\n",
    "    print(k + \"->\" + translation_table[k], end='    ')\n",
    "    \n"
   ]
  },
  {
   "cell_type": "markdown",
   "metadata": {},
   "source": [
    "### Test against Biopython"
   ]
  },
  {
   "cell_type": "code",
   "execution_count": 32,
   "metadata": {},
   "outputs": [
    {
     "name": "stdout",
     "output_type": "stream",
     "text": [
      "Biopython Verification OK\n"
     ]
    }
   ],
   "source": [
    "from Bio.Data import CodonTable\n",
    "standard_table = CodonTable.unambiguous_dna_by_name[\"Standard\"]\n",
    "biopython_table = standard_table.forward_table.copy()\n",
    "# Add stop codons\n",
    "for codon in standard_table.stop_codons:\n",
    "    biopython_table[codon] = \"*\"\n",
    "assert biopython_table == translation_table\n",
    "print(\"Biopython Verification OK\")"
   ]
  },
  {
   "cell_type": "markdown",
   "metadata": {
    "latex_metadata": {
     "hidden": "true"
    }
   },
   "source": [
    "# Exports"
   ]
  },
  {
   "cell_type": "code",
   "execution_count": 1,
   "metadata": {
    "latex_metadata": {
     "hidden": "true"
    }
   },
   "outputs": [
    {
     "name": "stdout",
     "output_type": "stream",
     "text": [
      "[NbConvertApp] Converting notebook PRMDM_assignment2.ipynb to latex\n",
      "[NbConvertApp] Support files will be in PRMDM_assignment2_files/\n",
      "[NbConvertApp] Making directory PRMDM_assignment2_files\n",
      "[NbConvertApp] Making directory PRMDM_assignment2_files\n",
      "[NbConvertApp] Making directory PRMDM_assignment2_files\n",
      "[NbConvertApp] Writing 54912 bytes to PRMDM_assignment2.tex\n",
      "[NbConvertApp] Converting notebook PRMDM_assignment2.ipynb to html_with_toclenvs\n",
      "[NbConvertApp] Writing 404126 bytes to PRMDM_assignment2.html\n"
     ]
    }
   ],
   "source": [
    "# Exports\n",
    "!jupyter nbconvert --to latex --template ~/report.tplx PRMDM_assignment2.ipynb 1> /dev/null\n",
    "!pdflatex -shell-escape PRMDM_assignment2.tex 1> /dev/null\n",
    "!jupyter nbconvert --to html_with_toclenvs PRMDM_assignment2.ipynb 1> /dev/null"
   ]
  }
 ],
 "metadata": {
  "celltoolbar": "Edit Metadata",
  "hide_input": false,
  "kernelspec": {
   "display_name": "Python 3",
   "language": "python",
   "name": "python3"
  },
  "language_info": {
   "codemirror_mode": {
    "name": "ipython",
    "version": 3
   },
   "file_extension": ".py",
   "mimetype": "text/x-python",
   "name": "python",
   "nbconvert_exporter": "python",
   "pygments_lexer": "ipython3",
   "version": "3.6.7"
  },
  "latex_envs": {
   "LaTeX_envs_menu_present": true,
   "autoclose": false,
   "autocomplete": true,
   "bibliofile": "biblio.bib",
   "cite_by": "apalike",
   "current_citInitial": 1,
   "eqLabelWithNumbers": true,
   "eqNumInitial": 1,
   "hotkeys": {
    "equation": "Ctrl-E",
    "itemize": "Ctrl-I"
   },
   "labels_anchors": false,
   "latex_user_defs": false,
   "report_style_numbering": false,
   "user_envs_cfg": false
  },
  "latex_metadata": {
   "author": "Fernando Freire",
   "title": "PRMDM Assignment2"
  },
  "nbTranslate": {
   "displayLangs": [
    "en",
    "sp"
   ],
   "hotkey": "alt-t",
   "langInMainMenu": true,
   "sourceLang": "sp",
   "targetLang": "en",
   "useGoogleTranslate": false
  },
  "toc": {
   "base_numbering": 1,
   "nav_menu": {},
   "number_sections": true,
   "sideBar": true,
   "skip_h1_title": false,
   "title_cell": "Table of Contents",
   "title_sidebar": "Contents",
   "toc_cell": false,
   "toc_position": {
    "height": "calc(100% - 180px)",
    "left": "10px",
    "top": "150px",
    "width": "256px"
   },
   "toc_section_display": true,
   "toc_window_display": true
  },
  "varInspector": {
   "cols": {
    "lenName": 16,
    "lenType": 16,
    "lenVar": 40
   },
   "kernels_config": {
    "python": {
     "delete_cmd_postfix": "",
     "delete_cmd_prefix": "del ",
     "library": "var_list.py",
     "varRefreshCmd": "print(var_dic_list())"
    },
    "r": {
     "delete_cmd_postfix": ") ",
     "delete_cmd_prefix": "rm(",
     "library": "var_list.r",
     "varRefreshCmd": "cat(var_dic_list()) "
    }
   },
   "types_to_exclude": [
    "module",
    "function",
    "builtin_function_or_method",
    "instance",
    "_Feature"
   ],
   "window_display": false
  }
 },
 "nbformat": 4,
 "nbformat_minor": 2
}
